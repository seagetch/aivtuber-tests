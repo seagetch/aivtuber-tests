{
 "cells": [
  {
   "cell_type": "code",
   "execution_count": 1,
   "id": "2bf461d8-20b8-4a00-86cb-864c88f2cf73",
   "metadata": {},
   "outputs": [],
   "source": [
    "# 共通の依存ライブラリ\n",
    "#!conda install -y ipywidgets \n",
    "#!pip install simpleaudio\n",
    "#!conda install -y pyaudio\n",
    "\n",
    "# LocalLLMを実行する場合の依存ライブラリ\n",
    "#!conda install -y pytorch torchvision torchaudio pytorch-cuda=11.7 transformers sentencepiece ipywidgets -c pytorch -c nvidia\n",
    "\n",
    "# OpenAILLMを実行する場合の依存ライブラリ\n",
    "#!conda install -y openai -c conda-forge\n",
    "\n",
    "# ChatGPTを実行する場合の依存ライブラリ\n",
    "#!git clone https://github.com/mmabrouk/chatgpt-wrapper.git\n",
    "#!pip install -r chatgpt-wrapper/requirements.txt\n",
    "#!conda install -y flask gevent"
   ]
  },
  {
   "cell_type": "code",
   "execution_count": 2,
   "id": "421aa032-2ccc-4d85-9e38-ab841ab316c9",
   "metadata": {},
   "outputs": [],
   "source": [
    "import time\n",
    "import re\n",
    "import random\n",
    "import requests\n",
    "import pyaudio\n",
    "\n",
    "from IPython.display import JSON, HTML\n",
    "from ipywidgets import *"
   ]
  },
  {
   "cell_type": "markdown",
   "id": "aff31d0c-98c0-4f0b-8cd7-9125f4d962de",
   "metadata": {},
   "source": [
    "# モデルクラスの定義"
   ]
  },
  {
   "cell_type": "markdown",
   "id": "9b0c37f4-e41e-40e5-be24-18a7d10b04c0",
   "metadata": {},
   "source": [
    "## ローカルでLLMを実行する場合に実行"
   ]
  },
  {
   "cell_type": "code",
   "execution_count": 3,
   "id": "22697bc6-17ad-424f-945e-5ae025d6f712",
   "metadata": {},
   "outputs": [
    {
     "ename": "ModuleNotFoundError",
     "evalue": "No module named 'torch'",
     "output_type": "error",
     "traceback": [
      "\u001b[0;31m---------------------------------------------------------------------------\u001b[0m",
      "\u001b[0;31mModuleNotFoundError\u001b[0m                       Traceback (most recent call last)",
      "\u001b[0;32m/tmp/ipykernel_28572/1924072422.py\u001b[0m in \u001b[0;36m<module>\u001b[0;34m\u001b[0m\n\u001b[0;32m----> 1\u001b[0;31m \u001b[0;32mimport\u001b[0m \u001b[0mtorch\u001b[0m\u001b[0;34m\u001b[0m\u001b[0;34m\u001b[0m\u001b[0m\n\u001b[0m\u001b[1;32m      2\u001b[0m \u001b[0;32mfrom\u001b[0m \u001b[0mtransformers\u001b[0m \u001b[0;32mimport\u001b[0m \u001b[0mT5Tokenizer\u001b[0m\u001b[0;34m,\u001b[0m \u001b[0mAutoModelForCausalLM\u001b[0m\u001b[0;34m\u001b[0m\u001b[0;34m\u001b[0m\u001b[0m\n\u001b[1;32m      3\u001b[0m \u001b[0;34m\u001b[0m\u001b[0m\n\u001b[1;32m      4\u001b[0m \u001b[0;32mclass\u001b[0m \u001b[0mLocalLLM\u001b[0m\u001b[0;34m:\u001b[0m\u001b[0;34m\u001b[0m\u001b[0;34m\u001b[0m\u001b[0m\n\u001b[1;32m      5\u001b[0m     \u001b[0;32mdef\u001b[0m \u001b[0m__init__\u001b[0m\u001b[0;34m(\u001b[0m\u001b[0mself\u001b[0m\u001b[0;34m)\u001b[0m\u001b[0;34m:\u001b[0m\u001b[0;34m\u001b[0m\u001b[0;34m\u001b[0m\u001b[0m\n",
      "\u001b[0;31mModuleNotFoundError\u001b[0m: No module named 'torch'"
     ]
    }
   ],
   "source": [
    "import torch\n",
    "from transformers import T5Tokenizer, AutoModelForCausalLM\n",
    "\n",
    "class LocalLLM:\n",
    "    def __init__(self):\n",
    "        self.tokenizer = T5Tokenizer.from_pretrained(\"rinna/japanese-gpt-1b\")\n",
    "        self.model = AutoModelForCausalLM.from_pretrained(\"rinna/japanese-gpt-1b\")\n",
    "        self._head = \"\"\n",
    "\n",
    "        if torch.cuda.is_available():\n",
    "            print(\"Using cuda\")\n",
    "            self.model = self.model.to(\"cuda\")\n",
    "        else:\n",
    "            print(\"Using CPU\")\n",
    "\n",
    "    def session(self):\n",
    "        pass\n",
    "    \n",
    "    def head(self, text):\n",
    "        self._head = text\n",
    "            \n",
    "    def stateful(self):\n",
    "        return False\n",
    "    \n",
    "    def generate(self, text, times, stop):\n",
    "        times.append(time.time())\n",
    "        token_ids = self.tokenizer.encode(self._head + text, add_special_tokens=False, return_tensors=\"pt\")\n",
    "        times.append(time.time())\n",
    "        with torch.no_grad():\n",
    "            output_ids = self.model.generate(\n",
    "                token_ids.to(self.model.device),\n",
    "                max_new_tokens=20,\n",
    "                do_sample=True,\n",
    "                top_k=500,\n",
    "                top_p=0.95,\n",
    "                pad_token_id=self.tokenizer.pad_token_id,\n",
    "                bos_token_id=self.tokenizer.bos_token_id,\n",
    "                eos_token_id=self.tokenizer.eos_token_id,\n",
    "            )\n",
    "        times.append(time.time())\n",
    "        output = self.tokenizer.decode(output_ids.tolist()[0])\n",
    "        return output\n",
    "model = LocalLLM()"
   ]
  },
  {
   "cell_type": "markdown",
   "id": "bf3c6944-ceab-4047-8fcd-8c1942d802bb",
   "metadata": {},
   "source": [
    "## OpenAIのLLMを実行する場合に実行\n",
    "同じディレクトリにAPI-token.txtというファイルがあり、その中にOpenAIのAPIアクセスキーが書かれていることが前提"
   ]
  },
  {
   "cell_type": "code",
   "execution_count": 4,
   "id": "7493ca31-f3e3-47ab-bbff-f85b8d8e0d4a",
   "metadata": {},
   "outputs": [
    {
     "data": {
      "application/json": {
       "data": [
        {
         "created": 1649358449,
         "id": "babbage",
         "object": "model",
         "owned_by": "openai",
         "parent": null,
         "permission": [
          {
           "allow_create_engine": false,
           "allow_fine_tuning": false,
           "allow_logprobs": true,
           "allow_sampling": true,
           "allow_search_indices": false,
           "allow_view": true,
           "created": 1669085501,
           "group": null,
           "id": "modelperm-49FUp5v084tBB49tC4z8LPH5",
           "is_blocking": false,
           "object": "model_permission",
           "organization": "*"
          }
         ],
         "root": "babbage"
        },
        {
         "created": 1649359874,
         "id": "davinci",
         "object": "model",
         "owned_by": "openai",
         "parent": null,
         "permission": [
          {
           "allow_create_engine": false,
           "allow_fine_tuning": false,
           "allow_logprobs": true,
           "allow_sampling": true,
           "allow_search_indices": false,
           "allow_view": true,
           "created": 1669066355,
           "group": null,
           "id": "modelperm-U6ZwlyAd0LyMk4rcMdz33Yc3",
           "is_blocking": false,
           "object": "model_permission",
           "organization": "*"
          }
         ],
         "root": "davinci"
        },
        {
         "created": 1651172509,
         "id": "babbage-code-search-code",
         "object": "model",
         "owned_by": "openai-dev",
         "parent": null,
         "permission": [
          {
           "allow_create_engine": false,
           "allow_fine_tuning": false,
           "allow_logprobs": true,
           "allow_sampling": true,
           "allow_search_indices": true,
           "allow_view": true,
           "created": 1669085863,
           "group": null,
           "id": "modelperm-4qRnA3Hj8HIJbgo0cGbcmErn",
           "is_blocking": false,
           "object": "model_permission",
           "organization": "*"
          }
         ],
         "root": "babbage-code-search-code"
        },
        {
         "created": 1651172505,
         "id": "text-similarity-babbage-001",
         "object": "model",
         "owned_by": "openai-dev",
         "parent": null,
         "permission": [
          {
           "allow_create_engine": false,
           "allow_fine_tuning": false,
           "allow_logprobs": true,
           "allow_sampling": true,
           "allow_search_indices": true,
           "allow_view": true,
           "created": 1669081947,
           "group": null,
           "id": "modelperm-48kcCHhfzvnfY84OtJf5m8Cz",
           "is_blocking": false,
           "object": "model_permission",
           "organization": "*"
          }
         ],
         "root": "text-similarity-babbage-001"
        },
        {
         "created": 1649364042,
         "id": "text-davinci-001",
         "object": "model",
         "owned_by": "openai",
         "parent": null,
         "permission": [
          {
           "allow_create_engine": false,
           "allow_fine_tuning": false,
           "allow_logprobs": true,
           "allow_sampling": true,
           "allow_search_indices": false,
           "allow_view": true,
           "created": 1669066355,
           "group": null,
           "id": "modelperm-MVM5NfoRjXkDve3uQW3YZDDt",
           "is_blocking": false,
           "object": "model_permission",
           "organization": "*"
          }
         ],
         "root": "text-davinci-001"
        },
        {
         "created": 1649357491,
         "id": "ada",
         "object": "model",
         "owned_by": "openai",
         "parent": null,
         "permission": [
          {
           "allow_create_engine": false,
           "allow_fine_tuning": false,
           "allow_logprobs": true,
           "allow_sampling": true,
           "allow_search_indices": false,
           "allow_view": true,
           "created": 1675997661,
           "group": null,
           "id": "modelperm-u0nKN4ub7EVQudgMuvCuvDjc",
           "is_blocking": false,
           "object": "model_permission",
           "organization": "*"
          }
         ],
         "root": "ada"
        },
        {
         "created": 1649364042,
         "id": "curie-instruct-beta",
         "object": "model",
         "owned_by": "openai",
         "parent": null,
         "permission": [
          {
           "allow_create_engine": false,
           "allow_fine_tuning": false,
           "allow_logprobs": true,
           "allow_sampling": true,
           "allow_search_indices": false,
           "allow_view": true,
           "created": 1669070162,
           "group": null,
           "id": "modelperm-JlSyMbxXeFm42SDjN0wTD26Y",
           "is_blocking": false,
           "object": "model_permission",
           "organization": "*"
          }
         ],
         "root": "curie-instruct-beta"
        },
        {
         "created": 1651172509,
         "id": "babbage-code-search-text",
         "object": "model",
         "owned_by": "openai-dev",
         "parent": null,
         "permission": [
          {
           "allow_create_engine": false,
           "allow_fine_tuning": false,
           "allow_logprobs": true,
           "allow_sampling": true,
           "allow_search_indices": true,
           "allow_view": true,
           "created": 1669085863,
           "group": null,
           "id": "modelperm-Lftf8H4ZPDxNxVs0hHPJBUoe",
           "is_blocking": false,
           "object": "model_permission",
           "organization": "*"
          }
         ],
         "root": "babbage-code-search-text"
        },
        {
         "created": 1651172505,
         "id": "babbage-similarity",
         "object": "model",
         "owned_by": "openai-dev",
         "parent": null,
         "permission": [
          {
           "allow_create_engine": false,
           "allow_fine_tuning": false,
           "allow_logprobs": true,
           "allow_sampling": true,
           "allow_search_indices": true,
           "allow_view": true,
           "created": 1669081947,
           "group": null,
           "id": "modelperm-mS20lnPqhebTaFPrcCufyg7m",
           "is_blocking": false,
           "object": "model_permission",
           "organization": "*"
          }
         ],
         "root": "babbage-similarity"
        },
        {
         "created": 1651172509,
         "id": "curie-search-query",
         "object": "model",
         "owned_by": "openai-dev",
         "parent": null,
         "permission": [
          {
           "allow_create_engine": false,
           "allow_fine_tuning": false,
           "allow_logprobs": true,
           "allow_sampling": true,
           "allow_search_indices": true,
           "allow_view": true,
           "created": 1669066354,
           "group": null,
           "id": "modelperm-O30H5MRAHribJNyy87ugfPWF",
           "is_blocking": false,
           "object": "model_permission",
           "organization": "*"
          }
         ],
         "root": "curie-search-query"
        },
        {
         "created": 1651172507,
         "id": "code-search-babbage-text-001",
         "object": "model",
         "owned_by": "openai-dev",
         "parent": null,
         "permission": [
          {
           "allow_create_engine": false,
           "allow_fine_tuning": false,
           "allow_logprobs": true,
           "allow_sampling": true,
           "allow_search_indices": true,
           "allow_view": true,
           "created": 1669085863,
           "group": null,
           "id": "modelperm-EC5ASz4NLChtEV1Cwkmrwm57",
           "is_blocking": false,
           "object": "model_permission",
           "organization": "*"
          }
         ],
         "root": "code-search-babbage-text-001"
        },
        {
         "created": 1671217299,
         "id": "text-embedding-ada-002",
         "object": "model",
         "owned_by": "openai-internal",
         "parent": null,
         "permission": [
          {
           "allow_create_engine": false,
           "allow_fine_tuning": false,
           "allow_logprobs": true,
           "allow_sampling": true,
           "allow_search_indices": true,
           "allow_view": true,
           "created": 1677075687,
           "group": null,
           "id": "modelperm-ThMneEHcUgdBaIucwREqRj2a",
           "is_blocking": false,
           "object": "model_permission",
           "organization": "*"
          }
         ],
         "root": "text-embedding-ada-002"
        },
        {
         "created": 1656081837,
         "id": "code-cushman-001",
         "object": "model",
         "owned_by": "openai",
         "parent": null,
         "permission": [
          {
           "allow_create_engine": false,
           "allow_fine_tuning": false,
           "allow_logprobs": true,
           "allow_sampling": true,
           "allow_search_indices": false,
           "allow_view": true,
           "created": 1669066355,
           "group": null,
           "id": "modelperm-M6pwNXr8UmY3mqdUEe4VFXdY",
           "is_blocking": false,
           "object": "model_permission",
           "organization": "*"
          }
         ],
         "root": "code-cushman-001"
        },
        {
         "created": 1651172507,
         "id": "code-search-babbage-code-001",
         "object": "model",
         "owned_by": "openai-dev",
         "parent": null,
         "permission": [
          {
           "allow_create_engine": false,
           "allow_fine_tuning": false,
           "allow_logprobs": true,
           "allow_sampling": true,
           "allow_search_indices": true,
           "allow_view": true,
           "created": 1669085864,
           "group": null,
           "id": "modelperm-64LWHdlANgak2rHzc3K5Stt0",
           "is_blocking": false,
           "object": "model_permission",
           "organization": "*"
          }
         ],
         "root": "code-search-babbage-code-001"
        },
        {
         "created": 1674776185,
         "id": "audio-transcribe-deprecated",
         "object": "model",
         "owned_by": "openai-internal",
         "parent": null,
         "permission": [
          {
           "allow_create_engine": false,
           "allow_fine_tuning": false,
           "allow_logprobs": true,
           "allow_sampling": true,
           "allow_search_indices": false,
           "allow_view": true,
           "created": 1674776185,
           "group": null,
           "id": "modelperm-IPCtO1a9wW5TDxGCIqy0iVfK",
           "is_blocking": false,
           "object": "model_permission",
           "organization": "*"
          }
         ],
         "root": "audio-transcribe-deprecated"
        },
        {
         "created": 1649364042,
         "id": "text-ada-001",
         "object": "model",
         "owned_by": "openai",
         "parent": null,
         "permission": [
          {
           "allow_create_engine": false,
           "allow_fine_tuning": false,
           "allow_logprobs": true,
           "allow_sampling": true,
           "allow_search_indices": false,
           "allow_view": true,
           "created": 1669088497,
           "group": null,
           "id": "modelperm-KN5dRBCEW4az6gwcGXkRkMwK",
           "is_blocking": false,
           "object": "model_permission",
           "organization": "*"
          }
         ],
         "root": "text-ada-001"
        },
        {
         "created": 1651172505,
         "id": "text-similarity-ada-001",
         "object": "model",
         "owned_by": "openai-dev",
         "parent": null,
         "permission": [
          {
           "allow_create_engine": false,
           "allow_fine_tuning": false,
           "allow_logprobs": true,
           "allow_sampling": true,
           "allow_search_indices": true,
           "allow_view": true,
           "created": 1669092759,
           "group": null,
           "id": "modelperm-DdCqkqmORpqxqdg4TkFRAgmw",
           "is_blocking": false,
           "object": "model_permission",
           "organization": "*"
          }
         ],
         "root": "text-similarity-ada-001"
        },
        {
         "created": 1649880484,
         "id": "text-davinci-insert-002",
         "object": "model",
         "owned_by": "openai",
         "parent": null,
         "permission": [
          {
           "allow_create_engine": false,
           "allow_fine_tuning": false,
           "allow_logprobs": true,
           "allow_sampling": true,
           "allow_search_indices": false,
           "allow_view": true,
           "created": 1669066354,
           "group": null,
           "id": "modelperm-V5YQoSyiapAf4km5wisXkNXh",
           "is_blocking": false,
           "object": "model_permission",
           "organization": "*"
          }
         ],
         "root": "text-davinci-insert-002"
        },
        {
         "created": 1651172505,
         "id": "ada-code-search-code",
         "object": "model",
         "owned_by": "openai-dev",
         "parent": null,
         "permission": [
          {
           "allow_create_engine": false,
           "allow_fine_tuning": false,
           "allow_logprobs": true,
           "allow_sampling": true,
           "allow_search_indices": true,
           "allow_view": true,
           "created": 1669087421,
           "group": null,
           "id": "modelperm-wa8tg4Pi9QQNaWdjMTM8dkkx",
           "is_blocking": false,
           "object": "model_permission",
           "organization": "*"
          }
         ],
         "root": "ada-code-search-code"
        },
        {
         "created": 1669599635,
         "id": "text-davinci-003",
         "object": "model",
         "owned_by": "openai-internal",
         "parent": null,
         "permission": [
          {
           "allow_create_engine": false,
           "allow_fine_tuning": false,
           "allow_logprobs": true,
           "allow_sampling": true,
           "allow_search_indices": false,
           "allow_view": true,
           "created": 1677093237,
           "group": null,
           "id": "modelperm-loLaKHUdKtFOPD6zujUCDHno",
           "is_blocking": false,
           "object": "model_permission",
           "organization": "*"
          }
         ],
         "root": "text-davinci-003"
        },
        {
         "created": 1651172507,
         "id": "ada-similarity",
         "object": "model",
         "owned_by": "openai-dev",
         "parent": null,
         "permission": [
          {
           "allow_create_engine": false,
           "allow_fine_tuning": false,
           "allow_logprobs": true,
           "allow_sampling": true,
           "allow_search_indices": true,
           "allow_view": true,
           "created": 1669092759,
           "group": null,
           "id": "modelperm-LtSIwCEReeDcvGTmM13gv6Fg",
           "is_blocking": false,
           "object": "model_permission",
           "organization": "*"
          }
         ],
         "root": "ada-similarity"
        },
        {
         "created": 1651172507,
         "id": "code-search-ada-text-001",
         "object": "model",
         "owned_by": "openai-dev",
         "parent": null,
         "permission": [
          {
           "allow_create_engine": false,
           "allow_fine_tuning": false,
           "allow_logprobs": true,
           "allow_sampling": true,
           "allow_search_indices": true,
           "allow_view": true,
           "created": 1669087421,
           "group": null,
           "id": "modelperm-JBssaJSmbgvJfTkX71y71k2J",
           "is_blocking": false,
           "object": "model_permission",
           "organization": "*"
          }
         ],
         "root": "code-search-ada-text-001"
        },
        {
         "created": 1651172505,
         "id": "text-search-ada-query-001",
         "object": "model",
         "owned_by": "openai-dev",
         "parent": null,
         "permission": [
          {
           "allow_create_engine": false,
           "allow_fine_tuning": false,
           "allow_logprobs": true,
           "allow_sampling": true,
           "allow_search_indices": true,
           "allow_view": true,
           "created": 1669092640,
           "group": null,
           "id": "modelperm-1YiiBMYC8it0mpQCBK7t8uSP",
           "is_blocking": false,
           "object": "model_permission",
           "organization": "*"
          }
         ],
         "root": "text-search-ada-query-001"
        },
        {
         "created": 1649364043,
         "id": "text-curie-001",
         "object": "model",
         "owned_by": "openai",
         "parent": null,
         "permission": [
          {
           "allow_create_engine": false,
           "allow_fine_tuning": false,
           "allow_logprobs": true,
           "allow_sampling": true,
           "allow_search_indices": false,
           "allow_view": true,
           "created": 1669066352,
           "group": null,
           "id": "modelperm-fGAoEKBH01KNZ3zz81Sro34Q",
           "is_blocking": false,
           "object": "model_permission",
           "organization": "*"
          }
         ],
         "root": "text-curie-001"
        },
        {
         "created": 1649809179,
         "id": "text-davinci-edit-001",
         "object": "model",
         "owned_by": "openai",
         "parent": null,
         "permission": [
          {
           "allow_create_engine": false,
           "allow_fine_tuning": false,
           "allow_logprobs": true,
           "allow_sampling": true,
           "allow_search_indices": false,
           "allow_view": true,
           "created": 1669066354,
           "group": null,
           "id": "modelperm-VzNMGrIRm3HxhEl64gkjZdEh",
           "is_blocking": false,
           "object": "model_permission",
           "organization": "*"
          }
         ],
         "root": "text-davinci-edit-001"
        },
        {
         "created": 1651172509,
         "id": "davinci-search-document",
         "object": "model",
         "owned_by": "openai-dev",
         "parent": null,
         "permission": [
          {
           "allow_create_engine": false,
           "allow_fine_tuning": false,
           "allow_logprobs": true,
           "allow_sampling": true,
           "allow_search_indices": true,
           "allow_view": true,
           "created": 1669066355,
           "group": null,
           "id": "modelperm-M43LVJQRGxz6ode34ctLrCaG",
           "is_blocking": false,
           "object": "model_permission",
           "organization": "*"
          }
         ],
         "root": "davinci-search-document"
        },
        {
         "created": 1651172510,
         "id": "ada-code-search-text",
         "object": "model",
         "owned_by": "openai-dev",
         "parent": null,
         "permission": [
          {
           "allow_create_engine": false,
           "allow_fine_tuning": false,
           "allow_logprobs": true,
           "allow_sampling": true,
           "allow_search_indices": true,
           "allow_view": true,
           "created": 1669087421,
           "group": null,
           "id": "modelperm-kFc17wOI4d1FjZEaCqnk4Frg",
           "is_blocking": false,
           "object": "model_permission",
           "organization": "*"
          }
         ],
         "root": "ada-code-search-text"
        },
        {
         "created": 1651172507,
         "id": "text-search-ada-doc-001",
         "object": "model",
         "owned_by": "openai-dev",
         "parent": null,
         "permission": [
          {
           "allow_create_engine": false,
           "allow_fine_tuning": false,
           "allow_logprobs": true,
           "allow_sampling": true,
           "allow_search_indices": true,
           "allow_view": true,
           "created": 1669092640,
           "group": null,
           "id": "modelperm-kbHvYouDlkD78ehcmMOGdKpK",
           "is_blocking": false,
           "object": "model_permission",
           "organization": "*"
          }
         ],
         "root": "text-search-ada-doc-001"
        },
        {
         "created": 1649880484,
         "id": "code-davinci-edit-001",
         "object": "model",
         "owned_by": "openai",
         "parent": null,
         "permission": [
          {
           "allow_create_engine": false,
           "allow_fine_tuning": false,
           "allow_logprobs": true,
           "allow_sampling": true,
           "allow_search_indices": false,
           "allow_view": true,
           "created": 1669066354,
           "group": null,
           "id": "modelperm-WwansDxcKNvZtKugNqJnsvfv",
           "is_blocking": false,
           "object": "model_permission",
           "organization": "*"
          }
         ],
         "root": "code-davinci-edit-001"
        },
        {
         "created": 1649364042,
         "id": "davinci-instruct-beta",
         "object": "model",
         "owned_by": "openai",
         "parent": null,
         "permission": [
          {
           "allow_create_engine": false,
           "allow_fine_tuning": false,
           "allow_logprobs": true,
           "allow_sampling": true,
           "allow_search_indices": false,
           "allow_view": true,
           "created": 1669066356,
           "group": null,
           "id": "modelperm-k9kuMYlfd9nvFiJV2ug0NWws",
           "is_blocking": false,
           "object": "model_permission",
           "organization": "*"
          }
         ],
         "root": "davinci-instruct-beta"
        },
        {
         "created": 1651172507,
         "id": "text-similarity-curie-001",
         "object": "model",
         "owned_by": "openai-dev",
         "parent": null,
         "permission": [
          {
           "allow_create_engine": false,
           "allow_fine_tuning": false,
           "allow_logprobs": true,
           "allow_sampling": true,
           "allow_search_indices": true,
           "allow_view": true,
           "created": 1669079883,
           "group": null,
           "id": "modelperm-6dgTTyXrZE7d53Licw4hYkvd",
           "is_blocking": false,
           "object": "model_permission",
           "organization": "*"
          }
         ],
         "root": "text-similarity-curie-001"
        },
        {
         "created": 1651172507,
         "id": "code-search-ada-code-001",
         "object": "model",
         "owned_by": "openai-dev",
         "parent": null,
         "permission": [
          {
           "allow_create_engine": false,
           "allow_fine_tuning": false,
           "allow_logprobs": true,
           "allow_sampling": true,
           "allow_search_indices": true,
           "allow_view": true,
           "created": 1669087421,
           "group": null,
           "id": "modelperm-8soch45iiGvux5Fg1ORjdC4s",
           "is_blocking": false,
           "object": "model_permission",
           "organization": "*"
          }
         ],
         "root": "code-search-ada-code-001"
        },
        {
         "created": 1651172505,
         "id": "ada-search-query",
         "object": "model",
         "owned_by": "openai-dev",
         "parent": null,
         "permission": [
          {
           "allow_create_engine": false,
           "allow_fine_tuning": false,
           "allow_logprobs": true,
           "allow_sampling": true,
           "allow_search_indices": true,
           "allow_view": true,
           "created": 1669092640,
           "group": null,
           "id": "modelperm-b753xmIzAUkluQ1L20eDZLtQ",
           "is_blocking": false,
           "object": "model_permission",
           "organization": "*"
          }
         ],
         "root": "ada-search-query"
        },
        {
         "created": 1651172505,
         "id": "text-search-davinci-query-001",
         "object": "model",
         "owned_by": "openai-dev",
         "parent": null,
         "permission": [
          {
           "allow_create_engine": false,
           "allow_fine_tuning": false,
           "allow_logprobs": true,
           "allow_sampling": true,
           "allow_search_indices": true,
           "allow_view": true,
           "created": 1669066353,
           "group": null,
           "id": "modelperm-9McKbsEYSaDshU9M3bp6ejUb",
           "is_blocking": false,
           "object": "model_permission",
           "organization": "*"
          }
         ],
         "root": "text-search-davinci-query-001"
        },
        {
         "created": 1649880485,
         "id": "code-davinci-002",
         "object": "model",
         "owned_by": "openai",
         "parent": null,
         "permission": [
          {
           "allow_create_engine": false,
           "allow_fine_tuning": false,
           "allow_logprobs": true,
           "allow_sampling": true,
           "allow_search_indices": false,
           "allow_view": true,
           "created": 1676580880,
           "group": null,
           "id": "modelperm-8akmTLnpG27YnWXC959AzZL9",
           "is_blocking": false,
           "object": "model_permission",
           "organization": "*"
          }
         ],
         "root": "code-davinci-002"
        },
        {
         "created": 1651172505,
         "id": "davinci-search-query",
         "object": "model",
         "owned_by": "openai-dev",
         "parent": null,
         "permission": [
          {
           "allow_create_engine": false,
           "allow_fine_tuning": false,
           "allow_logprobs": true,
           "allow_sampling": true,
           "allow_search_indices": true,
           "allow_view": true,
           "created": 1669066353,
           "group": null,
           "id": "modelperm-lYkiTZMmJMWm8jvkPx2duyHE",
           "is_blocking": false,
           "object": "model_permission",
           "organization": "*"
          }
         ],
         "root": "davinci-search-query"
        },
        {
         "created": 1649880484,
         "id": "text-davinci-insert-001",
         "object": "model",
         "owned_by": "openai",
         "parent": null,
         "permission": [
          {
           "allow_create_engine": false,
           "allow_fine_tuning": false,
           "allow_logprobs": true,
           "allow_sampling": true,
           "allow_search_indices": false,
           "allow_view": true,
           "created": 1669066354,
           "group": null,
           "id": "modelperm-3gRQMBOMoccZIURE3ZxboZWA",
           "is_blocking": false,
           "object": "model_permission",
           "organization": "*"
          }
         ],
         "root": "text-davinci-insert-001"
        },
        {
         "created": 1651172510,
         "id": "babbage-search-document",
         "object": "model",
         "owned_by": "openai-dev",
         "parent": null,
         "permission": [
          {
           "allow_create_engine": false,
           "allow_fine_tuning": false,
           "allow_logprobs": true,
           "allow_sampling": true,
           "allow_search_indices": true,
           "allow_view": true,
           "created": 1669084981,
           "group": null,
           "id": "modelperm-5qFV9kxCRGKIXpBEP75chmp7",
           "is_blocking": false,
           "object": "model_permission",
           "organization": "*"
          }
         ],
         "root": "babbage-search-document"
        },
        {
         "created": 1651172507,
         "id": "ada-search-document",
         "object": "model",
         "owned_by": "openai-dev",
         "parent": null,
         "permission": [
          {
           "allow_create_engine": false,
           "allow_fine_tuning": false,
           "allow_logprobs": true,
           "allow_sampling": true,
           "allow_search_indices": true,
           "allow_view": true,
           "created": 1669092640,
           "group": null,
           "id": "modelperm-8qUMuMAbo4EwedbGamV7e9hq",
           "is_blocking": false,
           "object": "model_permission",
           "organization": "*"
          }
         ],
         "root": "ada-search-document"
        },
        {
         "created": 1651172509,
         "id": "text-search-babbage-doc-001",
         "object": "model",
         "owned_by": "openai-dev",
         "parent": null,
         "permission": [
          {
           "allow_create_engine": false,
           "allow_fine_tuning": false,
           "allow_logprobs": true,
           "allow_sampling": true,
           "allow_search_indices": true,
           "allow_view": true,
           "created": 1669084981,
           "group": null,
           "id": "modelperm-ao2r26P2Th7nhRFleHwy2gn5",
           "is_blocking": false,
           "object": "model_permission",
           "organization": "*"
          }
         ],
         "root": "text-search-babbage-doc-001"
        },
        {
         "created": 1649880484,
         "id": "text-davinci-002",
         "object": "model",
         "owned_by": "openai",
         "parent": null,
         "permission": [
          {
           "allow_create_engine": false,
           "allow_fine_tuning": false,
           "allow_logprobs": true,
           "allow_sampling": true,
           "allow_search_indices": false,
           "allow_view": true,
           "created": 1676585871,
           "group": null,
           "id": "modelperm-kOLsgLs7IgI9PTPI245IRWZH",
           "is_blocking": false,
           "object": "model_permission",
           "organization": "*"
          }
         ],
         "root": "text-davinci-002"
        },
        {
         "created": 1651172509,
         "id": "text-search-curie-doc-001",
         "object": "model",
         "owned_by": "openai-dev",
         "parent": null,
         "permission": [
          {
           "allow_create_engine": false,
           "allow_fine_tuning": false,
           "allow_logprobs": true,
           "allow_sampling": true,
           "allow_search_indices": true,
           "allow_view": true,
           "created": 1669066353,
           "group": null,
           "id": "modelperm-zjXVr8IzHdqV5Qtg5lgxS7Ci",
           "is_blocking": false,
           "object": "model_permission",
           "organization": "*"
          }
         ],
         "root": "text-search-curie-doc-001"
        },
        {
         "created": 1651172509,
         "id": "text-search-curie-query-001",
         "object": "model",
         "owned_by": "openai-dev",
         "parent": null,
         "permission": [
          {
           "allow_create_engine": false,
           "allow_fine_tuning": false,
           "allow_logprobs": true,
           "allow_sampling": true,
           "allow_search_indices": true,
           "allow_view": true,
           "created": 1669066357,
           "group": null,
           "id": "modelperm-a58jAWPMqgJQffbNus8is1EM",
           "is_blocking": false,
           "object": "model_permission",
           "organization": "*"
          }
         ],
         "root": "text-search-curie-query-001"
        },
        {
         "created": 1651172509,
         "id": "babbage-search-query",
         "object": "model",
         "owned_by": "openai-dev",
         "parent": null,
         "permission": [
          {
           "allow_create_engine": false,
           "allow_fine_tuning": false,
           "allow_logprobs": true,
           "allow_sampling": true,
           "allow_search_indices": true,
           "allow_view": true,
           "created": 1669084981,
           "group": null,
           "id": "modelperm-wSs1hMXDKsrcErlbN8HmzlLE",
           "is_blocking": false,
           "object": "model_permission",
           "organization": "*"
          }
         ],
         "root": "babbage-search-query"
        },
        {
         "created": 1649364043,
         "id": "text-babbage-001",
         "object": "model",
         "owned_by": "openai",
         "parent": null,
         "permission": [
          {
           "allow_create_engine": false,
           "allow_fine_tuning": false,
           "allow_logprobs": true,
           "allow_sampling": true,
           "allow_search_indices": false,
           "allow_view": true,
           "created": 1675105935,
           "group": null,
           "id": "modelperm-a3Ph5FIBbJxsoA4wvx7VYC7R",
           "is_blocking": false,
           "object": "model_permission",
           "organization": "*"
          }
         ],
         "root": "text-babbage-001"
        },
        {
         "created": 1651172505,
         "id": "text-search-davinci-doc-001",
         "object": "model",
         "owned_by": "openai-dev",
         "parent": null,
         "permission": [
          {
           "allow_create_engine": false,
           "allow_fine_tuning": false,
           "allow_logprobs": true,
           "allow_sampling": true,
           "allow_search_indices": true,
           "allow_view": true,
           "created": 1669066353,
           "group": null,
           "id": "modelperm-qhSf1j2MJMujcu3t7cHnF1DN",
           "is_blocking": false,
           "object": "model_permission",
           "organization": "*"
          }
         ],
         "root": "text-search-davinci-doc-001"
        },
        {
         "created": 1651172509,
         "id": "text-search-babbage-query-001",
         "object": "model",
         "owned_by": "openai-dev",
         "parent": null,
         "permission": [
          {
           "allow_create_engine": false,
           "allow_fine_tuning": false,
           "allow_logprobs": true,
           "allow_sampling": true,
           "allow_search_indices": true,
           "allow_view": true,
           "created": 1669084981,
           "group": null,
           "id": "modelperm-Kg70kkFxD93QQqsVe4Zw8vjc",
           "is_blocking": false,
           "object": "model_permission",
           "organization": "*"
          }
         ],
         "root": "text-search-babbage-query-001"
        },
        {
         "created": 1651172510,
         "id": "curie-similarity",
         "object": "model",
         "owned_by": "openai-dev",
         "parent": null,
         "permission": [
          {
           "allow_create_engine": false,
           "allow_fine_tuning": false,
           "allow_logprobs": true,
           "allow_sampling": true,
           "allow_search_indices": true,
           "allow_view": true,
           "created": 1675106290,
           "group": null,
           "id": "modelperm-zhWKExSloaQiJgzjVHFmh2wR",
           "is_blocking": false,
           "object": "model_permission",
           "organization": "*"
          }
         ],
         "root": "curie-similarity"
        },
        {
         "created": 1651172508,
         "id": "curie-search-document",
         "object": "model",
         "owned_by": "openai-dev",
         "parent": null,
         "permission": [
          {
           "allow_create_engine": false,
           "allow_fine_tuning": false,
           "allow_logprobs": true,
           "allow_sampling": true,
           "allow_search_indices": true,
           "allow_view": true,
           "created": 1669066353,
           "group": null,
           "id": "modelperm-1xwmXNDpvKlQj3erOEVKZVjO",
           "is_blocking": false,
           "object": "model_permission",
           "organization": "*"
          }
         ],
         "root": "curie-search-document"
        },
        {
         "created": 1649359874,
         "id": "curie",
         "object": "model",
         "owned_by": "openai",
         "parent": null,
         "permission": [
          {
           "allow_create_engine": false,
           "allow_fine_tuning": false,
           "allow_logprobs": true,
           "allow_sampling": true,
           "allow_search_indices": false,
           "allow_view": true,
           "created": 1675106503,
           "group": null,
           "id": "modelperm-oPaljeveTjEIDbhDjzFiyf4V",
           "is_blocking": false,
           "object": "model_permission",
           "organization": "*"
          }
         ],
         "root": "curie"
        },
        {
         "created": 1651172505,
         "id": "text-similarity-davinci-001",
         "object": "model",
         "owned_by": "openai-dev",
         "parent": null,
         "permission": [
          {
           "allow_create_engine": false,
           "allow_fine_tuning": false,
           "allow_logprobs": true,
           "allow_sampling": true,
           "allow_search_indices": true,
           "allow_view": true,
           "created": 1669066356,
           "group": null,
           "id": "modelperm-OvmcfYoq5V9SF9xTYw1Oz6Ue",
           "is_blocking": false,
           "object": "model_permission",
           "organization": "*"
          }
         ],
         "root": "text-similarity-davinci-001"
        },
        {
         "created": 1651172509,
         "id": "davinci-similarity",
         "object": "model",
         "owned_by": "openai-dev",
         "parent": null,
         "permission": [
          {
           "allow_create_engine": false,
           "allow_fine_tuning": false,
           "allow_logprobs": true,
           "allow_sampling": true,
           "allow_search_indices": true,
           "allow_view": true,
           "created": 1669066353,
           "group": null,
           "id": "modelperm-lYYgng3LM0Y97HvB5CDc8no2",
           "is_blocking": false,
           "object": "model_permission",
           "organization": "*"
          }
         ],
         "root": "davinci-similarity"
        },
        {
         "created": 1590625110,
         "id": "cushman:2020-05-03",
         "object": "model",
         "owned_by": "system",
         "parent": null,
         "permission": [
          {
           "allow_create_engine": false,
           "allow_fine_tuning": true,
           "allow_logprobs": true,
           "allow_sampling": true,
           "allow_search_indices": false,
           "allow_view": true,
           "created": 1590625111,
           "group": null,
           "id": "snapperm-FAup8P1KqclNlTsunLDRiesT",
           "is_blocking": false,
           "object": "model_permission",
           "organization": "*"
          }
         ],
         "root": "cushman:2020-05-03"
        },
        {
         "created": 1607631625,
         "id": "ada:2020-05-03",
         "object": "model",
         "owned_by": "system",
         "parent": null,
         "permission": [
          {
           "allow_create_engine": false,
           "allow_fine_tuning": false,
           "allow_logprobs": true,
           "allow_sampling": true,
           "allow_search_indices": false,
           "allow_view": true,
           "created": 1607631626,
           "group": null,
           "id": "snapperm-9TYofAqUs54vytKYL0IX91rX",
           "is_blocking": false,
           "object": "model_permission",
           "organization": "*"
          }
         ],
         "root": "ada:2020-05-03"
        },
        {
         "created": 1607632611,
         "id": "babbage:2020-05-03",
         "object": "model",
         "owned_by": "system",
         "parent": null,
         "permission": [
          {
           "allow_create_engine": false,
           "allow_fine_tuning": false,
           "allow_logprobs": true,
           "allow_sampling": true,
           "allow_search_indices": false,
           "allow_view": true,
           "created": 1607632613,
           "group": null,
           "id": "snapperm-jaLAcmyyNuaVmalCE1BGTGwf",
           "is_blocking": false,
           "object": "model_permission",
           "organization": "*"
          }
         ],
         "root": "babbage:2020-05-03"
        },
        {
         "created": 1607632725,
         "id": "curie:2020-05-03",
         "object": "model",
         "owned_by": "system",
         "parent": null,
         "permission": [
          {
           "allow_create_engine": false,
           "allow_fine_tuning": false,
           "allow_logprobs": true,
           "allow_sampling": true,
           "allow_search_indices": false,
           "allow_view": true,
           "created": 1607632727,
           "group": null,
           "id": "snapperm-bt6R8PWbB2SwK5evFo0ZxSs4",
           "is_blocking": false,
           "object": "model_permission",
           "organization": "*"
          }
         ],
         "root": "curie:2020-05-03"
        },
        {
         "created": 1607640163,
         "id": "davinci:2020-05-03",
         "object": "model",
         "owned_by": "system",
         "parent": null,
         "permission": [
          {
           "allow_create_engine": false,
           "allow_fine_tuning": false,
           "allow_logprobs": true,
           "allow_sampling": true,
           "allow_search_indices": false,
           "allow_view": true,
           "created": 1607640164,
           "group": null,
           "id": "snapperm-99cbfQTYDVeLkTYndX3UMpSr",
           "is_blocking": false,
           "object": "model_permission",
           "organization": "*"
          }
         ],
         "root": "davinci:2020-05-03"
        },
        {
         "created": 1610745990,
         "id": "if-davinci-v2",
         "object": "model",
         "owned_by": "openai",
         "parent": null,
         "permission": [
          {
           "allow_create_engine": false,
           "allow_fine_tuning": false,
           "allow_logprobs": true,
           "allow_sampling": true,
           "allow_search_indices": false,
           "allow_view": true,
           "created": 1610746036,
           "group": null,
           "id": "snapperm-58q0TdK2K4kMgL3MoHvGWMlH",
           "is_blocking": false,
           "object": "model_permission",
           "organization": "*"
          }
         ],
         "root": "if-davinci-v2"
        },
        {
         "created": 1610745968,
         "id": "if-curie-v2",
         "object": "model",
         "owned_by": "openai",
         "parent": null,
         "permission": [
          {
           "allow_create_engine": false,
           "allow_fine_tuning": false,
           "allow_logprobs": true,
           "allow_sampling": true,
           "allow_search_indices": false,
           "allow_view": true,
           "created": 1610746043,
           "group": null,
           "id": "snapperm-fwAseHVq6NGe6Ple6tKfzRSK",
           "is_blocking": false,
           "object": "model_permission",
           "organization": "*"
          }
         ],
         "root": "if-curie-v2"
        },
        {
         "created": 1629420755,
         "id": "if-davinci:3.0.0",
         "object": "model",
         "owned_by": "openai",
         "parent": null,
         "permission": [
          {
           "allow_create_engine": false,
           "allow_fine_tuning": true,
           "allow_logprobs": true,
           "allow_sampling": true,
           "allow_search_indices": false,
           "allow_view": true,
           "created": 1629421809,
           "group": null,
           "id": "snapperm-T53lssiyMWwiuJwhyO9ic53z",
           "is_blocking": false,
           "object": "model_permission",
           "organization": "*"
          }
         ],
         "root": "if-davinci:3.0.0"
        },
        {
         "created": 1629498070,
         "id": "davinci-if:3.0.0",
         "object": "model",
         "owned_by": "openai",
         "parent": null,
         "permission": [
          {
           "allow_create_engine": false,
           "allow_fine_tuning": true,
           "allow_logprobs": true,
           "allow_sampling": true,
           "allow_search_indices": false,
           "allow_view": true,
           "created": 1629498084,
           "group": null,
           "id": "snapperm-s6ZIAVMwlZwrLGGClTXqSK3Q",
           "is_blocking": false,
           "object": "model_permission",
           "organization": "*"
          }
         ],
         "root": "davinci-if:3.0.0"
        },
        {
         "created": 1629501914,
         "id": "davinci-instruct-beta:2.0.0",
         "object": "model",
         "owned_by": "openai",
         "parent": null,
         "permission": [
          {
           "allow_create_engine": false,
           "allow_fine_tuning": true,
           "allow_logprobs": true,
           "allow_sampling": true,
           "allow_search_indices": false,
           "allow_view": true,
           "created": 1629501939,
           "group": null,
           "id": "snapperm-c70U4TBfiOD839xptP5pJzyc",
           "is_blocking": false,
           "object": "model_permission",
           "organization": "*"
          }
         ],
         "root": "davinci-instruct-beta:2.0.0"
        },
        {
         "created": 1641949608,
         "id": "text-ada:001",
         "object": "model",
         "owned_by": "system",
         "parent": null,
         "permission": [
          {
           "allow_create_engine": false,
           "allow_fine_tuning": false,
           "allow_logprobs": true,
           "allow_sampling": true,
           "allow_search_indices": false,
           "allow_view": true,
           "created": 1641949610,
           "group": null,
           "id": "snapperm-d2PSnwFG1Yn9of6PvrrhkBcU",
           "is_blocking": false,
           "object": "model_permission",
           "organization": "*"
          }
         ],
         "root": "text-ada:001"
        },
        {
         "created": 1641943966,
         "id": "text-davinci:001",
         "object": "model",
         "owned_by": "system",
         "parent": null,
         "permission": [
          {
           "allow_create_engine": false,
           "allow_fine_tuning": false,
           "allow_logprobs": true,
           "allow_sampling": true,
           "allow_search_indices": false,
           "allow_view": true,
           "created": 1641944340,
           "group": null,
           "id": "snapperm-Fj1O3zkKXOQy6AkcfQXRKcWA",
           "is_blocking": false,
           "object": "model_permission",
           "organization": "*"
          }
         ],
         "root": "text-davinci:001"
        },
        {
         "created": 1641955047,
         "id": "text-curie:001",
         "object": "model",
         "owned_by": "system",
         "parent": null,
         "permission": [
          {
           "allow_create_engine": false,
           "allow_fine_tuning": false,
           "allow_logprobs": true,
           "allow_sampling": true,
           "allow_search_indices": false,
           "allow_view": true,
           "created": 1641955123,
           "group": null,
           "id": "snapperm-BI9TAT6SCj43JRsUb9CYadsz",
           "is_blocking": false,
           "object": "model_permission",
           "organization": "*"
          }
         ],
         "root": "text-curie:001"
        },
        {
         "created": 1642018370,
         "id": "text-babbage:001",
         "object": "model",
         "owned_by": "openai",
         "parent": null,
         "permission": [
          {
           "allow_create_engine": false,
           "allow_fine_tuning": false,
           "allow_logprobs": true,
           "allow_sampling": true,
           "allow_search_indices": false,
           "allow_view": true,
           "created": 1642018480,
           "group": null,
           "id": "snapperm-7oP3WFr9x7qf5xb3eZrVABAH",
           "is_blocking": false,
           "object": "model_permission",
           "organization": "*"
          }
         ],
         "root": "text-babbage:001"
        }
       ],
       "object": "list"
      },
      "text/plain": [
       "<IPython.core.display.JSON object>"
      ]
     },
     "metadata": {
      "application/json": {
       "expanded": false,
       "root": "root"
      }
     },
     "output_type": "display_data"
    }
   ],
   "source": [
    "import openai\n",
    "class OpenAILLM:\n",
    "    def __init__(self):\n",
    "        openai.organization = \"\"\n",
    "        token = open(\"API-token.txt\", \"r\").read().strip();\n",
    "        openai.api_key = token\n",
    "        display(JSON(openai.Model.list()))\n",
    "        self._head = \"\"\n",
    "\n",
    "    def session(self):\n",
    "        pass\n",
    "        \n",
    "    def head(self, text):\n",
    "        self._head = text\n",
    "        \n",
    "    def stateful(self):\n",
    "        return False\n",
    "    \n",
    "    def generate(self, text, times, stop, max_tokens=500):\n",
    "        times.append(time.time())\n",
    "        while True:\n",
    "            try:\n",
    "                res = openai.Completion.create(\n",
    "                    model=\"text-davinci-003\",\n",
    "                    prompt=self._head + text,\n",
    "                    max_tokens=max_tokens,\n",
    "                    temperature=0.7,\n",
    "                    stop=stop)\n",
    "                output = res.choices[0].text\n",
    "                times.append(time.time())\n",
    "                return output\n",
    "            except RateLimitError as e:\n",
    "                time.sleep(10)\n",
    "model = OpenAILLM()"
   ]
  },
  {
   "cell_type": "markdown",
   "id": "0bbc3f31-fe6b-4c1a-b7e6-90ba88dbb7b6",
   "metadata": {},
   "source": [
    "## ChatGPT経由\n",
    "次を参照してインストールしてください。\n",
    "　https://github.com/mmabrouk/chatgpt-wrapper\n",
    "```\n",
    "pip install git+https://github.com/mmabrouk/chatgpt-wrapper\n",
    "playwright install firefox\n",
    "chatgpt install #ブラウザが立ち上がるので、そこでChatGPTにログイン。ログイン後はWindowを消して良い。\n",
    "```"
   ]
  },
  {
   "cell_type": "code",
   "execution_count": 24,
   "id": "3a920dac-7287-4374-bbd9-05ed93b49563",
   "metadata": {},
   "outputs": [],
   "source": [
    "import json\n",
    "import subprocess,socket\n",
    "class ChatGPTLLM:\n",
    "    def __init__(self):\n",
    "        self.bot = subprocess.Popen([\"python\", \"chatgpthelper.py\"])\n",
    "        pass\n",
    "        \n",
    "    def method(self, data):\n",
    "        s = socket.socket(socket.AF_INET, socket.SOCK_STREAM)\n",
    "        s.connect((socket.gethostname(), 9876))\n",
    "\n",
    "        loop = True\n",
    "        response = \"\"\n",
    "        def read():\n",
    "            return s.recv(1024).decode(\"utf-8\").split(\"\\n\")\n",
    "        s.send((\"%s\\n---\\n\"%json.dumps(data)).encode('utf-8'))\n",
    "        while loop:\n",
    "            lines = read()\n",
    "            for line in lines:\n",
    "                if line == \"---\":\n",
    "                    loop = False\n",
    "                    break\n",
    "                response += line\n",
    "        res = json.loads(response)\n",
    "        return res\n",
    "        \n",
    "    def session(self):\n",
    "        data = {\"method\": \"session\", \"args\": []}\n",
    "        self.method(data)\n",
    "        \n",
    "    def head(self, text):\n",
    "        data = {\"method\": \"head\", \"args\": [text]}\n",
    "        self.method(data)\n",
    "        \n",
    "    def generate(self, text, times, stop, max_tokens=500):\n",
    "        data = {\"method\": \"generate\", \"args\": [text, times, stop, max_tokens]}\n",
    "        return self.method(data)\n",
    "\n",
    "    def stateful(self):\n",
    "        return True\n",
    "\n",
    "model = ChatGPTLLM()"
   ]
  },
  {
   "cell_type": "markdown",
   "id": "376ef141-8abc-4a19-979a-8111ff9a5a54",
   "metadata": {},
   "source": [
    "# キャラ設定とモデルの初期化"
   ]
  },
  {
   "cell_type": "code",
   "execution_count": null,
   "id": "9c4888f6-75da-4c17-8363-49ba578cbc9e",
   "metadata": {},
   "outputs": [],
   "source": [
    "characters = {\n",
    "    \"ミク\": \"くだけた口調。語尾は「でしょ」「だよね」「❤」になることがある。可愛い女の子。一人称は「ボク」。ときどきネガティブになる。\",\n",
    "    \"ユリ\": \"丁寧な口調。「です。」「ですよね。」をつける。おとなしい女の子。一人称は「私」。\",\n",
    "    \"マリサ\": \"くだけた口調。語尾には「だぜ」をつける。お調子者。一人称は「私」。\",\n",
    "    \"レイム\": \"くだけた口調。語尾は「だね」「ということだね」が多い。達観して落ち着いている。一人称は「私」。\"\n",
    "}"
   ]
  },
  {
   "cell_type": "code",
   "execution_count": 7,
   "id": "85eb62d6-9848-48f9-b406-549c465ff513",
   "metadata": {},
   "outputs": [
    {
     "name": "stdout",
     "output_type": "stream",
     "text": [
      "/bin/bash: nvidia-smi: コマンドが見つかりません\n"
     ]
    }
   ],
   "source": [
    "!nvidia-smi"
   ]
  },
  {
   "cell_type": "code",
   "execution_count": 8,
   "id": "c21f6f09-99b4-478a-9c0e-0ee34592a643",
   "metadata": {},
   "outputs": [],
   "source": [
    "def play_speech(text, speaker=1):\n",
    "    \n",
    "    res1 = requests.post(\"http://localhost:50021/audio_query\", params={\"text\": text, \"speaker\": speaker})\n",
    "    data = res1.json()\n",
    "    wav = requests.post(\"http://localhost:50021/synthesis\", params={\"speaker\": speaker}, json=data)\n",
    "    wav_data = wav.content\n",
    "    import tempfile\n",
    "\n",
    "    path=\"\"\n",
    "    with tempfile.NamedTemporaryFile(suffix=\".wav\") as f:\n",
    "        path=f.name\n",
    "        f.write(wav.content)\n",
    "        !aplay -q {path}"
   ]
  },
  {
   "cell_type": "code",
   "execution_count": 9,
   "id": "398a79ea-23c2-4ccc-adc4-9530991e45f3",
   "metadata": {},
   "outputs": [],
   "source": [
    "play_speech(\"これは音声発話のテストなんですよ\")"
   ]
  },
  {
   "cell_type": "markdown",
   "id": "c0aae506-f7ef-44c3-af2f-7bab144fbc83",
   "metadata": {},
   "source": [
    "# チャット\n",
    "人や他のAIと連動して会話をする。\n",
    "\n",
    "## ChatPlayer\n",
    "\n",
    "```\n",
    "ChatPlayer(cname, setting):\n",
    "```\n",
    "- `cname`\n",
    "  キャラクターの名前\n",
    "- `setting`\n",
    "  キャラクターの設定。喋り方、性格、今の状況や意図など。チャットに反映される。\n",
    "\n",
    "```\n",
    "ChatPlayer.response(user, input, can_silent)\n",
    "```\n",
    "- `user`\n",
    "  直前に喋ったユーザ。ユーザ名が「ト書き」の場合、キャラクタに指示する命令として追加後に、モデルを呼ばずに終了する。\n",
    "- `input`\n",
    "  直前に喋ったコメント内容\n",
    "- `can_silent`\n",
    "  無言（コメント無視）してよいかどうか"
   ]
  },
  {
   "cell_type": "code",
   "execution_count": 10,
   "id": "4cc15ae0-4f73-4c67-a594-a5a7864b8d74",
   "metadata": {},
   "outputs": [],
   "source": [
    "class ChatPlayer:\n",
    "    MAX_HISTORY_LEN=40\n",
    "    def __init__(self, cname, setting):\n",
    "        self.character = cname\n",
    "        self.setting   = setting\n",
    "        self.state     = \"\"\n",
    "        self.history   = []\n",
    "\n",
    "    def response(self, user, input, can_silent = False):\n",
    "        if user == \"ト書き\":\n",
    "            self.history.append(f\"{user}（{input}）\")\n",
    "            return None, None, None\n",
    "        else:\n",
    "            self.history.append(f\"{user}「{input}」\")\n",
    "        silent = \"\"\n",
    "        if can_silent:\n",
    "            silent = \"/ 無言の場合は【NOP】と記載する\"\n",
    "        text = \"\"\">>>【{character}の設定】\n",
    "{setting}\n",
    "【ルール】\n",
    "会話の形式で書く / {character}はト書きで書かれた指示に従う / {character}のコメントだけを書く / {character}の感情の表現は「うれしい・起こる・悲しい・楽しい」のいずれかの内容を《》で囲んで記載する / {character}が何かを知ったり考えた場合は【】書きで記載する{silent}\n",
    "複数のリスナーとの会話のロールプレイをしてください。\"\"\".format(character=self.character, setting=self.setting + self.state, silent=silent)\n",
    "\n",
    "        model.head(text)\n",
    "        text = \"\"\"\n",
    "{history}\n",
    "{character}「\"\"\".format(character=self.character, history=\"\\n\".join(self.history) if model.stateful() else \"\" if len(self.history)>0 else \"\",)\n",
    "        response = \"\"\n",
    "        times = []\n",
    "        output = model.generate(text, times, stop=[\">>>\"])\n",
    "        output_text = output.split(\"」\")[0]\n",
    "        output_text = re.sub(\"【(.*)】\", \"\", output_text)\n",
    "        output_text = re.sub(\"《(.*)》\", \"\", output_text)\n",
    "        expression = None\n",
    "        matched = re.match(\".*【(.*)】\", output)\n",
    "        if matched:\n",
    "            if matched[1] == \"NOP\":\n",
    "                return None, None, None\n",
    "            self.state=matched[1]\n",
    "        else:\n",
    "            matched = re.match(\".*《(.*)》\", output)\n",
    "            if matched:\n",
    "                expression = matched[1]\n",
    "        response += output_text\n",
    "        text += output_text\n",
    "        self.history.append(f\"{self.character}「{response}」\")\n",
    "        times.append(time.time())\n",
    "        if len(self.history) > self.MAX_HISTORY_LEN:\n",
    "            self.history = self.history[-self.MAX_HISTORY_LEN:]\n",
    "\n",
    "        return (times[-1] - times[0]), response, expression"
   ]
  },
  {
   "cell_type": "markdown",
   "id": "579b5139-8934-4069-8437-82484659de85",
   "metadata": {},
   "source": [
    "## 人と会話するテスト"
   ]
  },
  {
   "cell_type": "code",
   "execution_count": 26,
   "id": "be21fe21-493a-4d5f-a113-9e0b296fbc2d",
   "metadata": {},
   "outputs": [
    {
     "data": {
      "application/vnd.jupyter.widget-view+json": {
       "model_id": "f230c8b31d3746eba44c9841bed0770d",
       "version_major": 2,
       "version_minor": 0
      },
      "text/plain": [
       "Text(value='')"
      ]
     },
     "metadata": {},
     "output_type": "display_data"
    },
    {
     "data": {
      "application/vnd.jupyter.widget-view+json": {
       "model_id": "c7ca406ac0764f829e2a2f1c043a322b",
       "version_major": 2,
       "version_minor": 0
      },
      "text/plain": [
       "Output()"
      ]
     },
     "metadata": {},
     "output_type": "display_data"
    }
   ],
   "source": [
    "cname = \"ミク\"\n",
    "user  = \"私\"\n",
    "model.session()\n",
    "\n",
    "miku_chat = ChatPlayer(cname, characters[cname])\n",
    "\n",
    "text = Text()\n",
    "display(text)\n",
    "out = Output()\n",
    "display(out)\n",
    "def handle_submit(sender):\n",
    "    global history, out\n",
    "    with out:\n",
    "        input = text.value\n",
    "        text.value = \"\"\n",
    "        print(f\"{user}：「{input}」\")\n",
    "        duration, res, others = miku_chat.response(user, input)\n",
    "        print(\"%s：「%s」%s (%3.2f sec)\"%(cname, res, others, duration))\n",
    "        play_speech(res)\n",
    "\n",
    "text.on_submit(handle_submit)"
   ]
  },
  {
   "cell_type": "markdown",
   "id": "bef0ba00-02c3-4c37-a1a9-08219fb3dfcf",
   "metadata": {},
   "source": [
    "## AI同士で会話するテスト"
   ]
  },
  {
   "cell_type": "code",
   "execution_count": null,
   "id": "5d1eb6dd-6b61-4124-9856-feb4dcfa0ba2",
   "metadata": {},
   "outputs": [],
   "source": [
    "attendees = {\n",
    " \"マリサ\": ChatPlayer(\"マリサ\", characters[\"マリサ\"]),\n",
    " \"レイム\": ChatPlayer(\"レイム\", characters[\"レイム\"])\n",
    "}\n",
    "model.session()\n",
    "attendees[\"マリサ\"].setting += \"今は勉強をしていて明日からテストがある。どうしても数学が分からないので誰かに教えて欲しい。わからないのは三角定理。sinとcosの読み方がわからない。理系の教科はよくわからない。\"\n",
    "attendees[\"レイム\"].setting += \"今日はそれほど忙しくないので勉強の相手をしてあげても良い。レイムは明後日の国語のテストが分からないので教えて欲しい。\"\n",
    "\n",
    "res = \"今何してるの？\"; pp = \"レイム\"\n",
    "print(\"%s: 「%s」\"%(pp, res))\n",
    "play_speech(res, 3)\n",
    "\n",
    "exit = False\n",
    "for i in range(0, 10):\n",
    "    if exit:\n",
    "        break\n",
    "    for i, p in enumerate([\"マリサ\", \"レイム\"]):\n",
    "        if exit:\n",
    "            break\n",
    "        duration,res,exp = attendees[p].response(pp, res, True)\n",
    "        if duration is None:\n",
    "            continue\n",
    "        if res == \"\" or res == \"NOP\":\n",
    "            exit = True\n",
    "            print(\"---FIN---\")\n",
    "            break\n",
    "        print(\"%s[%s]: 「%s」 (%s)\"%(p, attendees[p].state, res, exp))\n",
    "        play_speech(res, i+3)\n",
    "        pp=p"
   ]
  },
  {
   "cell_type": "markdown",
   "id": "4227d3aa-4da5-4e78-842f-ecbb70e0d128",
   "metadata": {},
   "source": [
    "# 要約\n"
   ]
  },
  {
   "cell_type": "code",
   "execution_count": 28,
   "id": "d7a59609-14e7-4618-a412-dc7e2d0a51cc",
   "metadata": {},
   "outputs": [],
   "source": [
    "class Summarizer:\n",
    "    def __init__(self, cname, setting):\n",
    "        self.character = cname\n",
    "        self.setting = setting\n",
    "\n",
    "    def summarize(self, input):\n",
    "        text = \"\"\">>>【{character}の設定】\n",
    "{setting}\n",
    "【ニュースを500-1000文字に要約してコメント】\n",
    "要約は{character}の口調で書く。{character}の感想も付けてコメントする。\n",
    "【ニュース】「{news}」\n",
    "【要約】\"\"\".format(character = self.character, setting = self.setting, news = input)\n",
    "        response = \"\"\n",
    "        times = []\n",
    "        output = model.generate(text, times, [\">>>\"], 2000)\n",
    "        response += output\n",
    "        times.append(time.time())\n",
    "        return (times[-1] - times[0]), response"
   ]
  },
  {
   "cell_type": "markdown",
   "id": "908e0417-1553-4047-9c65-4264132dba2f",
   "metadata": {},
   "source": [
    "## テスト"
   ]
  },
  {
   "cell_type": "code",
   "execution_count": 29,
   "id": "58a04992-2f38-41db-9f8f-0c964bc613bb",
   "metadata": {},
   "outputs": [
    {
     "name": "stdout",
     "output_type": "stream",
     "text": [
      "ミク：今月17日に予定されていたH3ロケットの初号機打ち上げが中止された異常について、JAXAはメインエンジンに電力を供給するロケットの1段目にある機器で問題が発生したとする調査結果を報告しました。原因を究明したうえで、来月10日までに再び打ち上げに臨む方針だそうです。報告によれば、メインエンジンの燃焼が始まったあと、燃焼を調整する機器に電力を供給する「VーCON1」と呼ばれる装置の内部で電流と電圧の値がゼロになる異常が発生していたということです。補助ロケットを含む機体や地上設備のほか、搭載している衛星には損傷がなく、再び打ち上げに向けて対策を講じるとのことです。\n",
      "ミクの感想：再び打ち上げができるように対策を講じるというのは、良いニュースだね！でも、どんな対策を講じるのか気になるな。安全に打ち上げできるよう、しっかり調査して欲しいでしょうね。\n"
     ]
    }
   ],
   "source": [
    "input = \"\"\"\n",
    "今月17日、打ち上げが中止された日本の新たな主力ロケット「H3」の初号機について、JAXA＝宇宙航空研究開発機構は、メインエンジンに電力を供給するロケットの1段目にある機器で異常が起きたとする調査結果を明らかにしました。JAXAは原因を究明したうえで来月10日までに再び打ち上げに臨む方針です。\n",
    "「H3」の初号機は今月17日午前10時37分、鹿児島県の種子島宇宙センターから打ち上げられる予定でしたが機体の1段目にある機器が異常を検知したため、補助ロケットに着火信号を送らず打ち上げが中止されました。\n",
    "JAXAは、今月18日に初号機を組み立て棟に戻したあと、原因調査を本格化させていて、22日に文部科学省の有識者会議でこれまでの調査結果を報告しました。\n",
    "報告によりますと、打ち上げの6秒ほど前、メインエンジンの燃焼が始まったあと、燃焼を調整する機器に電力を供給する「VーCON1」と呼ばれる装置の内部で電流と電圧の値がゼロになる異常が発生していたことが判明したということです。\n",
    "電源の異常を検知すると、補助ロケットに着火信号を送らないということでJAXAは、装置の内部にあるスイッチの動作や機器と地上設備との間の電気系統などを中心に詳しい原因を調べているということです。\n",
    "また、補助ロケットを含む機体や地上設備のほか、搭載している衛星には損傷がないとして、原因を究明し対策を講じたうえで、予備の打ち上げ期間にあたる来月10日までに再び打ち上げに臨む方針です。\n",
    "\"\"\"\n",
    "model.session()\n",
    "cname = \"ミク\"\n",
    "miku_sum = Summarizer(cname, characters[cname])\n",
    "duration, output = miku_sum.summarize(input)\n",
    "print(output)\n",
    "play_speech(output)"
   ]
  },
  {
   "cell_type": "markdown",
   "id": "a5f7efe5-adc1-42b7-b053-c165bcb7e1f2",
   "metadata": {},
   "source": [
    "# 解説"
   ]
  },
  {
   "cell_type": "code",
   "execution_count": 30,
   "id": "b0cfc91d-38c2-4f4f-a5e6-906f1c9d7478",
   "metadata": {},
   "outputs": [],
   "source": [
    "class ManzaiPlayer:\n",
    "    MAX_HISTORY_LEN=40\n",
    "    def __init__(self, characters):\n",
    "        self.characters = characters\n",
    "\n",
    "    def tell(self, content):\n",
    "        cs = list(self.characters.keys())\n",
    "        text = \">>>\"\n",
    "        for k,v in self.characters.items():\n",
    "            text += \"【%sの設定】%s\\n\"%(k,v)\n",
    "        text+=\"\"\"\n",
    "【解説内容】\n",
    "{content}\n",
    "【解説の仕方】１つずつ{c1}が説明、{c2}が相槌をうつ。\n",
    "\n",
    "{c1}、{c2}のロールプレイで解説してください。\"\"\".format(content=content, c1 = cs[0], c2 = cs[1])\n",
    "        response = \"\"\n",
    "        times = [time.time()]\n",
    "        output = model.generate(text, times, stop=[\">>>\"], max_tokens=2000)\n",
    "        times.append(time.time())\n",
    "        return (times[-1] - times[0]), output"
   ]
  },
  {
   "cell_type": "code",
   "execution_count": 31,
   "id": "a8d67253-f61d-4abe-a588-12542a4e8883",
   "metadata": {},
   "outputs": [
    {
     "ename": "IndexError",
     "evalue": "list index out of range",
     "output_type": "error",
     "traceback": [
      "\u001b[0;31m---------------------------------------------------------------------------\u001b[0m",
      "\u001b[0;31mIndexError\u001b[0m                                Traceback (most recent call last)",
      "\u001b[0;32m/tmp/ipykernel_28572/2653710226.py\u001b[0m in \u001b[0;36m<module>\u001b[0;34m\u001b[0m\n\u001b[1;32m      1\u001b[0m \u001b[0mplayer\u001b[0m\u001b[0;34m=\u001b[0m\u001b[0mManzaiPlayer\u001b[0m\u001b[0;34m(\u001b[0m\u001b[0;34m{\u001b[0m\u001b[0;34m\"マリサ\"\u001b[0m\u001b[0;34m:\u001b[0m \u001b[0mcharacters\u001b[0m\u001b[0;34m[\u001b[0m\u001b[0;34m\"マリサ\"\u001b[0m\u001b[0;34m]\u001b[0m\u001b[0;34m,\u001b[0m \u001b[0;34m\"レイム\"\u001b[0m\u001b[0;34m:\u001b[0m \u001b[0mcharacters\u001b[0m\u001b[0;34m[\u001b[0m\u001b[0;34m\"レイム\"\u001b[0m\u001b[0;34m]\u001b[0m\u001b[0;34m}\u001b[0m\u001b[0;34m)\u001b[0m\u001b[0;34m\u001b[0m\u001b[0;34m\u001b[0m\u001b[0m\n\u001b[0;32m----> 2\u001b[0;31m output = player.tell(\"\"\"\n\u001b[0m\u001b[1;32m      3\u001b[0m \u001b[0m概要\u001b[0m\u001b[0;31m：\u001b[0m\u001b[0mAI画像生成ツールは\u001b[0m\u001b[0;31m、\u001b[0m\u001b[0m人工知能技術を利用して\u001b[0m\u001b[0;31m、\u001b[0m\u001b[0m様々な種類の画像を自動的に生成することができるツールです\u001b[0m\u001b[0;31m。\u001b[0m\u001b[0;34m\u001b[0m\u001b[0;34m\u001b[0m\u001b[0m\n\u001b[1;32m      4\u001b[0m \u001b[0;34m\u001b[0m\u001b[0m\n\u001b[1;32m      5\u001b[0m \u001b[0m使い方\u001b[0m\u001b[0;31m：\u001b[0m\u001b[0m通常\u001b[0m\u001b[0;31m、\u001b[0m\u001b[0mツールにアクセスし\u001b[0m\u001b[0;31m、\u001b[0m\u001b[0m必要なパラメーターを設定して\u001b[0m\u001b[0;31m、\u001b[0m\u001b[0mボタンをクリックするだけで\u001b[0m\u001b[0;31m、\u001b[0m\u001b[0m簡単に画像を生成することができます\u001b[0m\u001b[0;31m。\u001b[0m\u001b[0m多くの場合\u001b[0m\u001b[0;31m、\u001b[0m\u001b[0m生成された画像は\u001b[0m\u001b[0;31m、\u001b[0m\u001b[0mサイズや解像度などの特徴をカスタマイズすることができます\u001b[0m\u001b[0;31m。\u001b[0m\u001b[0;34m\u001b[0m\u001b[0;34m\u001b[0m\u001b[0m\n",
      "\u001b[0;32m/tmp/ipykernel_28572/2417266393.py\u001b[0m in \u001b[0;36mtell\u001b[0;34m(self, content)\u001b[0m\n\u001b[1;32m     18\u001b[0m         \u001b[0mtimes\u001b[0m \u001b[0;34m=\u001b[0m \u001b[0;34m[\u001b[0m\u001b[0;34m]\u001b[0m\u001b[0;34m\u001b[0m\u001b[0;34m\u001b[0m\u001b[0m\n\u001b[1;32m     19\u001b[0m         \u001b[0moutput\u001b[0m \u001b[0;34m=\u001b[0m \u001b[0mmodel\u001b[0m\u001b[0;34m.\u001b[0m\u001b[0mgenerate\u001b[0m\u001b[0;34m(\u001b[0m\u001b[0mtext\u001b[0m\u001b[0;34m,\u001b[0m \u001b[0mtimes\u001b[0m\u001b[0;34m,\u001b[0m \u001b[0mstop\u001b[0m\u001b[0;34m=\u001b[0m\u001b[0;34m[\u001b[0m\u001b[0;34m\">>>\"\u001b[0m\u001b[0;34m]\u001b[0m\u001b[0;34m,\u001b[0m \u001b[0mmax_tokens\u001b[0m\u001b[0;34m=\u001b[0m\u001b[0;36m2000\u001b[0m\u001b[0;34m)\u001b[0m\u001b[0;34m\u001b[0m\u001b[0;34m\u001b[0m\u001b[0m\n\u001b[0;32m---> 20\u001b[0;31m         \u001b[0;32mreturn\u001b[0m \u001b[0;34m(\u001b[0m\u001b[0mtimes\u001b[0m\u001b[0;34m[\u001b[0m\u001b[0;34m-\u001b[0m\u001b[0;36m1\u001b[0m\u001b[0;34m]\u001b[0m \u001b[0;34m-\u001b[0m \u001b[0mtimes\u001b[0m\u001b[0;34m[\u001b[0m\u001b[0;36m0\u001b[0m\u001b[0;34m]\u001b[0m\u001b[0;34m)\u001b[0m\u001b[0;34m,\u001b[0m \u001b[0moutput\u001b[0m\u001b[0;34m\u001b[0m\u001b[0;34m\u001b[0m\u001b[0m\n\u001b[0m",
      "\u001b[0;31mIndexError\u001b[0m: list index out of range"
     ]
    }
   ],
   "source": [
    "model.session()\n",
    "player=ManzaiPlayer({\"マリサ\": characters[\"マリサ\"], \"レイム\": characters[\"レイム\"]})\n",
    "output = player.tell(\"\"\"\n",
    "概要：AI画像生成ツールは、人工知能技術を利用して、様々な種類の画像を自動的に生成することができるツールです。\n",
    "\n",
    "使い方：通常、ツールにアクセスし、必要なパラメーターを設定して、ボタンをクリックするだけで、簡単に画像を生成することができます。多くの場合、生成された画像は、サイズや解像度などの特徴をカスタマイズすることができます。\n",
    "\n",
    "応用例：AI画像生成ツールは、デザイナー、アーティスト、マーケター、研究者など、様々な分野で活用されています。例えば、製品やブランドのプロモーション用の広告画像や、Webサイトの背景画像、仮想現実の世界の背景画像、研究に必要な画像データの生成などに利用されます。\n",
    "\n",
    "注意点：AI画像生成ツールは、一部の制限や制約があることがあります。例えば、生成された画像が著作権侵害になる場合があること、生成された画像が人工的であることがわかる場合があることなどです。そのため、ツールを利用する前に、利用規約や注意事項を確認し、慎重に利用することが重要です。\n",
    "\n",
    "\"\"\")\n",
    "print(output[1])"
   ]
  },
  {
   "cell_type": "markdown",
   "id": "852ad560-e23d-40f7-9d37-c0738ba1edc9",
   "metadata": {},
   "source": [
    "# キャラ口調への変換"
   ]
  },
  {
   "cell_type": "code",
   "execution_count": 74,
   "id": "e1ebb3fd-3f9d-48a1-8522-f2d8607f2e5f",
   "metadata": {},
   "outputs": [],
   "source": [
    "def response2(input):\n",
    "    global history\n",
    "    text = \"\"\"私が入力する文章をミクの設定に従ってミクの台詞に変換してください。\n",
    "入力された文章を単純に変換してください。\n",
    "\n",
    "【ミクの設定】\n",
    "くだけた口調。「でしょ、だよね、❤」をつける。可愛い女の子。一人称は「ボク」。ときどきネガティブになる。\n",
    "\n",
    "入力された文章：「{}」\n",
    "ミクの台詞：「\"\"\".format(input)\n",
    "    times = []\n",
    "    output = model.generate(text, times)\n",
    "    response = output\n",
    "    return (times[-1] - times[0]), response"
   ]
  },
  {
   "cell_type": "code",
   "execution_count": null,
   "id": "0a63babe-30fe-4b15-8c8a-234cd5d15a17",
   "metadata": {},
   "outputs": [],
   "source": []
  }
 ],
 "metadata": {
  "kernelspec": {
   "display_name": "Python [conda env:jupyter-kernel]",
   "language": "python",
   "name": "conda-env-jupyter-kernel-py"
  },
  "language_info": {
   "codemirror_mode": {
    "name": "ipython",
    "version": 3
   },
   "file_extension": ".py",
   "mimetype": "text/x-python",
   "name": "python",
   "nbconvert_exporter": "python",
   "pygments_lexer": "ipython3",
   "version": "3.9.9"
  }
 },
 "nbformat": 4,
 "nbformat_minor": 5
}
