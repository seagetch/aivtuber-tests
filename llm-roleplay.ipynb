{
 "cells": [
  {
   "cell_type": "code",
   "execution_count": 1,
   "id": "2bf461d8-20b8-4a00-86cb-864c88f2cf73",
   "metadata": {},
   "outputs": [],
   "source": [
    "# 共通の依存ライブラリ\n",
    "#!conda install -y ipywidgets \n",
    "#!pip install simpleaudio\n",
    "#!conda install -y pyaudio\n",
    "\n",
    "# LocalLLMを実行する場合の依存ライブラリ\n",
    "#!conda install -y pytorch torchvision torchaudio pytorch-cuda=11.7 transformers sentencepiece ipywidgets -c pytorch -c nvidia\n",
    "\n",
    "# OpenAILLMを実行する場合の依存ライブラリ\n",
    "#!conda install -y openai -c conda-forge\n",
    "\n",
    "# ChatGPTを実行する場合の依存ライブラリ\n",
    "#!git clone https://github.com/mmabrouk/chatgpt-wrapper.git\n",
    "#!pip install -r chatgpt-wrapper/requirements.txt"
   ]
  },
  {
   "cell_type": "code",
   "execution_count": 9,
   "id": "421aa032-2ccc-4d85-9e38-ab841ab316c9",
   "metadata": {},
   "outputs": [],
   "source": [
    "import time\n",
    "import re\n",
    "import random\n",
    "import requests\n",
    "import pyaudio\n",
    "\n",
    "from IPython.display import JSON, HTML\n",
    "from ipywidgets import *"
   ]
  },
  {
   "cell_type": "markdown",
   "id": "aff31d0c-98c0-4f0b-8cd7-9125f4d962de",
   "metadata": {},
   "source": [
    "# 言語モデルクラスの定義\n",
    "自分の選択肢に応じて、以下の方法のいずれかを選択する。"
   ]
  },
  {
   "cell_type": "markdown",
   "id": "9b0c37f4-e41e-40e5-be24-18a7d10b04c0",
   "metadata": {
    "tags": []
   },
   "source": [
    "## (1) ローカルでLLMを実行する場合に実行"
   ]
  },
  {
   "cell_type": "code",
   "execution_count": null,
   "id": "22697bc6-17ad-424f-945e-5ae025d6f712",
   "metadata": {
    "tags": []
   },
   "outputs": [],
   "source": [
    "import torch\n",
    "from transformers import T5Tokenizer, AutoModelForCausalLM\n",
    "\n",
    "class LocalLLM:\n",
    "    def __init__(self):\n",
    "        self.tokenizer = T5Tokenizer.from_pretrained(\"rinna/japanese-gpt-1b\")\n",
    "        self.model = AutoModelForCausalLM.from_pretrained(\"rinna/japanese-gpt-1b\")\n",
    "        self._head = \"\"\n",
    "\n",
    "        if torch.cuda.is_available():\n",
    "            print(\"Using cuda\")\n",
    "            self.model = self.model.to(\"cuda\")\n",
    "        else:\n",
    "            print(\"Using CPU\")\n",
    "\n",
    "    def session(self):\n",
    "        pass\n",
    "    \n",
    "    def head(self, text):\n",
    "        self._head = text\n",
    "            \n",
    "    def stateful(self):\n",
    "        return False\n",
    "    \n",
    "    def generate(self, text, times, stop):\n",
    "        times.append(time.time())\n",
    "        token_ids = self.tokenizer.encode(self._head + text, add_special_tokens=False, return_tensors=\"pt\")\n",
    "        times.append(time.time())\n",
    "        with torch.no_grad():\n",
    "            output_ids = self.model.generate(\n",
    "                token_ids.to(self.model.device),\n",
    "                max_new_tokens=20,\n",
    "                do_sample=True,\n",
    "                top_k=500,\n",
    "                top_p=0.95,\n",
    "                pad_token_id=self.tokenizer.pad_token_id,\n",
    "                bos_token_id=self.tokenizer.bos_token_id,\n",
    "                eos_token_id=self.tokenizer.eos_token_id,\n",
    "            )\n",
    "        times.append(time.time())\n",
    "        output = self.tokenizer.decode(output_ids.tolist()[0])\n",
    "        return output\n",
    "model = LocalLLM()"
   ]
  },
  {
   "cell_type": "markdown",
   "id": "bf3c6944-ceab-4047-8fcd-8c1942d802bb",
   "metadata": {
    "tags": []
   },
   "source": [
    "## (2) OpenAIのLLMを実行する場合に実行\n",
    "同じディレクトリにAPI-token.txtというファイルがあり、その中にOpenAIのAPIアクセスキーが書かれていることが前提"
   ]
  },
  {
   "cell_type": "code",
   "execution_count": 30,
   "id": "7493ca31-f3e3-47ab-bbff-f85b8d8e0d4a",
   "metadata": {
    "collapsed": true,
    "jupyter": {
     "outputs_hidden": true
    },
    "tags": []
   },
   "outputs": [
    {
     "data": {
      "application/json": {
       "data": [
        {
         "created": 1649358449,
         "id": "babbage",
         "object": "model",
         "owned_by": "openai",
         "parent": null,
         "permission": [
          {
           "allow_create_engine": false,
           "allow_fine_tuning": false,
           "allow_logprobs": true,
           "allow_sampling": true,
           "allow_search_indices": false,
           "allow_view": true,
           "created": 1669085501,
           "group": null,
           "id": "modelperm-49FUp5v084tBB49tC4z8LPH5",
           "is_blocking": false,
           "object": "model_permission",
           "organization": "*"
          }
         ],
         "root": "babbage"
        },
        {
         "created": 1649359874,
         "id": "davinci",
         "object": "model",
         "owned_by": "openai",
         "parent": null,
         "permission": [
          {
           "allow_create_engine": false,
           "allow_fine_tuning": false,
           "allow_logprobs": true,
           "allow_sampling": true,
           "allow_search_indices": false,
           "allow_view": true,
           "created": 1669066355,
           "group": null,
           "id": "modelperm-U6ZwlyAd0LyMk4rcMdz33Yc3",
           "is_blocking": false,
           "object": "model_permission",
           "organization": "*"
          }
         ],
         "root": "davinci"
        },
        {
         "created": 1651172509,
         "id": "babbage-code-search-code",
         "object": "model",
         "owned_by": "openai-dev",
         "parent": null,
         "permission": [
          {
           "allow_create_engine": false,
           "allow_fine_tuning": false,
           "allow_logprobs": true,
           "allow_sampling": true,
           "allow_search_indices": true,
           "allow_view": true,
           "created": 1669085863,
           "group": null,
           "id": "modelperm-4qRnA3Hj8HIJbgo0cGbcmErn",
           "is_blocking": false,
           "object": "model_permission",
           "organization": "*"
          }
         ],
         "root": "babbage-code-search-code"
        },
        {
         "created": 1651172505,
         "id": "text-similarity-babbage-001",
         "object": "model",
         "owned_by": "openai-dev",
         "parent": null,
         "permission": [
          {
           "allow_create_engine": false,
           "allow_fine_tuning": false,
           "allow_logprobs": true,
           "allow_sampling": true,
           "allow_search_indices": true,
           "allow_view": true,
           "created": 1669081947,
           "group": null,
           "id": "modelperm-48kcCHhfzvnfY84OtJf5m8Cz",
           "is_blocking": false,
           "object": "model_permission",
           "organization": "*"
          }
         ],
         "root": "text-similarity-babbage-001"
        },
        {
         "created": 1649364042,
         "id": "text-davinci-001",
         "object": "model",
         "owned_by": "openai",
         "parent": null,
         "permission": [
          {
           "allow_create_engine": false,
           "allow_fine_tuning": false,
           "allow_logprobs": true,
           "allow_sampling": true,
           "allow_search_indices": false,
           "allow_view": true,
           "created": 1669066355,
           "group": null,
           "id": "modelperm-MVM5NfoRjXkDve3uQW3YZDDt",
           "is_blocking": false,
           "object": "model_permission",
           "organization": "*"
          }
         ],
         "root": "text-davinci-001"
        },
        {
         "created": 1649357491,
         "id": "ada",
         "object": "model",
         "owned_by": "openai",
         "parent": null,
         "permission": [
          {
           "allow_create_engine": false,
           "allow_fine_tuning": false,
           "allow_logprobs": true,
           "allow_sampling": true,
           "allow_search_indices": false,
           "allow_view": true,
           "created": 1675997661,
           "group": null,
           "id": "modelperm-u0nKN4ub7EVQudgMuvCuvDjc",
           "is_blocking": false,
           "object": "model_permission",
           "organization": "*"
          }
         ],
         "root": "ada"
        },
        {
         "created": 1649364042,
         "id": "curie-instruct-beta",
         "object": "model",
         "owned_by": "openai",
         "parent": null,
         "permission": [
          {
           "allow_create_engine": false,
           "allow_fine_tuning": false,
           "allow_logprobs": true,
           "allow_sampling": true,
           "allow_search_indices": false,
           "allow_view": true,
           "created": 1669070162,
           "group": null,
           "id": "modelperm-JlSyMbxXeFm42SDjN0wTD26Y",
           "is_blocking": false,
           "object": "model_permission",
           "organization": "*"
          }
         ],
         "root": "curie-instruct-beta"
        },
        {
         "created": 1651172509,
         "id": "babbage-code-search-text",
         "object": "model",
         "owned_by": "openai-dev",
         "parent": null,
         "permission": [
          {
           "allow_create_engine": false,
           "allow_fine_tuning": false,
           "allow_logprobs": true,
           "allow_sampling": true,
           "allow_search_indices": true,
           "allow_view": true,
           "created": 1669085863,
           "group": null,
           "id": "modelperm-Lftf8H4ZPDxNxVs0hHPJBUoe",
           "is_blocking": false,
           "object": "model_permission",
           "organization": "*"
          }
         ],
         "root": "babbage-code-search-text"
        },
        {
         "created": 1651172505,
         "id": "babbage-similarity",
         "object": "model",
         "owned_by": "openai-dev",
         "parent": null,
         "permission": [
          {
           "allow_create_engine": false,
           "allow_fine_tuning": false,
           "allow_logprobs": true,
           "allow_sampling": true,
           "allow_search_indices": true,
           "allow_view": true,
           "created": 1669081947,
           "group": null,
           "id": "modelperm-mS20lnPqhebTaFPrcCufyg7m",
           "is_blocking": false,
           "object": "model_permission",
           "organization": "*"
          }
         ],
         "root": "babbage-similarity"
        },
        {
         "created": 1651172507,
         "id": "code-search-babbage-text-001",
         "object": "model",
         "owned_by": "openai-dev",
         "parent": null,
         "permission": [
          {
           "allow_create_engine": false,
           "allow_fine_tuning": false,
           "allow_logprobs": true,
           "allow_sampling": true,
           "allow_search_indices": true,
           "allow_view": true,
           "created": 1669085863,
           "group": null,
           "id": "modelperm-EC5ASz4NLChtEV1Cwkmrwm57",
           "is_blocking": false,
           "object": "model_permission",
           "organization": "*"
          }
         ],
         "root": "code-search-babbage-text-001"
        },
        {
         "created": 1671217299,
         "id": "text-embedding-ada-002",
         "object": "model",
         "owned_by": "openai-internal",
         "parent": null,
         "permission": [
          {
           "allow_create_engine": false,
           "allow_fine_tuning": false,
           "allow_logprobs": true,
           "allow_sampling": true,
           "allow_search_indices": true,
           "allow_view": true,
           "created": 1677075687,
           "group": null,
           "id": "modelperm-ThMneEHcUgdBaIucwREqRj2a",
           "is_blocking": false,
           "object": "model_permission",
           "organization": "*"
          }
         ],
         "root": "text-embedding-ada-002"
        },
        {
         "created": 1656081837,
         "id": "code-cushman-001",
         "object": "model",
         "owned_by": "openai",
         "parent": null,
         "permission": [
          {
           "allow_create_engine": false,
           "allow_fine_tuning": false,
           "allow_logprobs": true,
           "allow_sampling": true,
           "allow_search_indices": false,
           "allow_view": true,
           "created": 1669066355,
           "group": null,
           "id": "modelperm-M6pwNXr8UmY3mqdUEe4VFXdY",
           "is_blocking": false,
           "object": "model_permission",
           "organization": "*"
          }
         ],
         "root": "code-cushman-001"
        },
        {
         "created": 1651172507,
         "id": "code-search-babbage-code-001",
         "object": "model",
         "owned_by": "openai-dev",
         "parent": null,
         "permission": [
          {
           "allow_create_engine": false,
           "allow_fine_tuning": false,
           "allow_logprobs": true,
           "allow_sampling": true,
           "allow_search_indices": true,
           "allow_view": true,
           "created": 1669085864,
           "group": null,
           "id": "modelperm-64LWHdlANgak2rHzc3K5Stt0",
           "is_blocking": false,
           "object": "model_permission",
           "organization": "*"
          }
         ],
         "root": "code-search-babbage-code-001"
        },
        {
         "created": 1674776185,
         "id": "audio-transcribe-deprecated",
         "object": "model",
         "owned_by": "openai-internal",
         "parent": null,
         "permission": [
          {
           "allow_create_engine": false,
           "allow_fine_tuning": false,
           "allow_logprobs": true,
           "allow_sampling": true,
           "allow_search_indices": false,
           "allow_view": true,
           "created": 1674776185,
           "group": null,
           "id": "modelperm-IPCtO1a9wW5TDxGCIqy0iVfK",
           "is_blocking": false,
           "object": "model_permission",
           "organization": "*"
          }
         ],
         "root": "audio-transcribe-deprecated"
        },
        {
         "created": 1649364042,
         "id": "text-ada-001",
         "object": "model",
         "owned_by": "openai",
         "parent": null,
         "permission": [
          {
           "allow_create_engine": false,
           "allow_fine_tuning": false,
           "allow_logprobs": true,
           "allow_sampling": true,
           "allow_search_indices": false,
           "allow_view": true,
           "created": 1669088497,
           "group": null,
           "id": "modelperm-KN5dRBCEW4az6gwcGXkRkMwK",
           "is_blocking": false,
           "object": "model_permission",
           "organization": "*"
          }
         ],
         "root": "text-ada-001"
        },
        {
         "created": 1651172505,
         "id": "text-similarity-ada-001",
         "object": "model",
         "owned_by": "openai-dev",
         "parent": null,
         "permission": [
          {
           "allow_create_engine": false,
           "allow_fine_tuning": false,
           "allow_logprobs": true,
           "allow_sampling": true,
           "allow_search_indices": true,
           "allow_view": true,
           "created": 1669092759,
           "group": null,
           "id": "modelperm-DdCqkqmORpqxqdg4TkFRAgmw",
           "is_blocking": false,
           "object": "model_permission",
           "organization": "*"
          }
         ],
         "root": "text-similarity-ada-001"
        },
        {
         "created": 1649880484,
         "id": "text-davinci-insert-002",
         "object": "model",
         "owned_by": "openai",
         "parent": null,
         "permission": [
          {
           "allow_create_engine": false,
           "allow_fine_tuning": false,
           "allow_logprobs": true,
           "allow_sampling": true,
           "allow_search_indices": false,
           "allow_view": true,
           "created": 1669066354,
           "group": null,
           "id": "modelperm-V5YQoSyiapAf4km5wisXkNXh",
           "is_blocking": false,
           "object": "model_permission",
           "organization": "*"
          }
         ],
         "root": "text-davinci-insert-002"
        },
        {
         "created": 1651172505,
         "id": "ada-code-search-code",
         "object": "model",
         "owned_by": "openai-dev",
         "parent": null,
         "permission": [
          {
           "allow_create_engine": false,
           "allow_fine_tuning": false,
           "allow_logprobs": true,
           "allow_sampling": true,
           "allow_search_indices": true,
           "allow_view": true,
           "created": 1669087421,
           "group": null,
           "id": "modelperm-wa8tg4Pi9QQNaWdjMTM8dkkx",
           "is_blocking": false,
           "object": "model_permission",
           "organization": "*"
          }
         ],
         "root": "ada-code-search-code"
        },
        {
         "created": 1669599635,
         "id": "text-davinci-003",
         "object": "model",
         "owned_by": "openai-internal",
         "parent": null,
         "permission": [
          {
           "allow_create_engine": false,
           "allow_fine_tuning": false,
           "allow_logprobs": true,
           "allow_sampling": true,
           "allow_search_indices": false,
           "allow_view": true,
           "created": 1677093237,
           "group": null,
           "id": "modelperm-loLaKHUdKtFOPD6zujUCDHno",
           "is_blocking": false,
           "object": "model_permission",
           "organization": "*"
          }
         ],
         "root": "text-davinci-003"
        },
        {
         "created": 1651172507,
         "id": "ada-similarity",
         "object": "model",
         "owned_by": "openai-dev",
         "parent": null,
         "permission": [
          {
           "allow_create_engine": false,
           "allow_fine_tuning": false,
           "allow_logprobs": true,
           "allow_sampling": true,
           "allow_search_indices": true,
           "allow_view": true,
           "created": 1669092759,
           "group": null,
           "id": "modelperm-LtSIwCEReeDcvGTmM13gv6Fg",
           "is_blocking": false,
           "object": "model_permission",
           "organization": "*"
          }
         ],
         "root": "ada-similarity"
        },
        {
         "created": 1651172507,
         "id": "code-search-ada-text-001",
         "object": "model",
         "owned_by": "openai-dev",
         "parent": null,
         "permission": [
          {
           "allow_create_engine": false,
           "allow_fine_tuning": false,
           "allow_logprobs": true,
           "allow_sampling": true,
           "allow_search_indices": true,
           "allow_view": true,
           "created": 1669087421,
           "group": null,
           "id": "modelperm-JBssaJSmbgvJfTkX71y71k2J",
           "is_blocking": false,
           "object": "model_permission",
           "organization": "*"
          }
         ],
         "root": "code-search-ada-text-001"
        },
        {
         "created": 1651172505,
         "id": "text-search-ada-query-001",
         "object": "model",
         "owned_by": "openai-dev",
         "parent": null,
         "permission": [
          {
           "allow_create_engine": false,
           "allow_fine_tuning": false,
           "allow_logprobs": true,
           "allow_sampling": true,
           "allow_search_indices": true,
           "allow_view": true,
           "created": 1669092640,
           "group": null,
           "id": "modelperm-1YiiBMYC8it0mpQCBK7t8uSP",
           "is_blocking": false,
           "object": "model_permission",
           "organization": "*"
          }
         ],
         "root": "text-search-ada-query-001"
        },
        {
         "created": 1649364043,
         "id": "text-curie-001",
         "object": "model",
         "owned_by": "openai",
         "parent": null,
         "permission": [
          {
           "allow_create_engine": false,
           "allow_fine_tuning": false,
           "allow_logprobs": true,
           "allow_sampling": true,
           "allow_search_indices": false,
           "allow_view": true,
           "created": 1669066352,
           "group": null,
           "id": "modelperm-fGAoEKBH01KNZ3zz81Sro34Q",
           "is_blocking": false,
           "object": "model_permission",
           "organization": "*"
          }
         ],
         "root": "text-curie-001"
        },
        {
         "created": 1649809179,
         "id": "text-davinci-edit-001",
         "object": "model",
         "owned_by": "openai",
         "parent": null,
         "permission": [
          {
           "allow_create_engine": false,
           "allow_fine_tuning": false,
           "allow_logprobs": true,
           "allow_sampling": true,
           "allow_search_indices": false,
           "allow_view": true,
           "created": 1669066354,
           "group": null,
           "id": "modelperm-VzNMGrIRm3HxhEl64gkjZdEh",
           "is_blocking": false,
           "object": "model_permission",
           "organization": "*"
          }
         ],
         "root": "text-davinci-edit-001"
        },
        {
         "created": 1651172509,
         "id": "davinci-search-document",
         "object": "model",
         "owned_by": "openai-dev",
         "parent": null,
         "permission": [
          {
           "allow_create_engine": false,
           "allow_fine_tuning": false,
           "allow_logprobs": true,
           "allow_sampling": true,
           "allow_search_indices": true,
           "allow_view": true,
           "created": 1669066355,
           "group": null,
           "id": "modelperm-M43LVJQRGxz6ode34ctLrCaG",
           "is_blocking": false,
           "object": "model_permission",
           "organization": "*"
          }
         ],
         "root": "davinci-search-document"
        },
        {
         "created": 1651172510,
         "id": "ada-code-search-text",
         "object": "model",
         "owned_by": "openai-dev",
         "parent": null,
         "permission": [
          {
           "allow_create_engine": false,
           "allow_fine_tuning": false,
           "allow_logprobs": true,
           "allow_sampling": true,
           "allow_search_indices": true,
           "allow_view": true,
           "created": 1669087421,
           "group": null,
           "id": "modelperm-kFc17wOI4d1FjZEaCqnk4Frg",
           "is_blocking": false,
           "object": "model_permission",
           "organization": "*"
          }
         ],
         "root": "ada-code-search-text"
        },
        {
         "created": 1651172507,
         "id": "text-search-ada-doc-001",
         "object": "model",
         "owned_by": "openai-dev",
         "parent": null,
         "permission": [
          {
           "allow_create_engine": false,
           "allow_fine_tuning": false,
           "allow_logprobs": true,
           "allow_sampling": true,
           "allow_search_indices": true,
           "allow_view": true,
           "created": 1669092640,
           "group": null,
           "id": "modelperm-kbHvYouDlkD78ehcmMOGdKpK",
           "is_blocking": false,
           "object": "model_permission",
           "organization": "*"
          }
         ],
         "root": "text-search-ada-doc-001"
        },
        {
         "created": 1649880484,
         "id": "code-davinci-edit-001",
         "object": "model",
         "owned_by": "openai",
         "parent": null,
         "permission": [
          {
           "allow_create_engine": false,
           "allow_fine_tuning": false,
           "allow_logprobs": true,
           "allow_sampling": true,
           "allow_search_indices": false,
           "allow_view": true,
           "created": 1669066354,
           "group": null,
           "id": "modelperm-WwansDxcKNvZtKugNqJnsvfv",
           "is_blocking": false,
           "object": "model_permission",
           "organization": "*"
          }
         ],
         "root": "code-davinci-edit-001"
        },
        {
         "created": 1649364042,
         "id": "davinci-instruct-beta",
         "object": "model",
         "owned_by": "openai",
         "parent": null,
         "permission": [
          {
           "allow_create_engine": false,
           "allow_fine_tuning": false,
           "allow_logprobs": true,
           "allow_sampling": true,
           "allow_search_indices": false,
           "allow_view": true,
           "created": 1669066356,
           "group": null,
           "id": "modelperm-k9kuMYlfd9nvFiJV2ug0NWws",
           "is_blocking": false,
           "object": "model_permission",
           "organization": "*"
          }
         ],
         "root": "davinci-instruct-beta"
        },
        {
         "created": 1651172507,
         "id": "text-similarity-curie-001",
         "object": "model",
         "owned_by": "openai-dev",
         "parent": null,
         "permission": [
          {
           "allow_create_engine": false,
           "allow_fine_tuning": false,
           "allow_logprobs": true,
           "allow_sampling": true,
           "allow_search_indices": true,
           "allow_view": true,
           "created": 1669079883,
           "group": null,
           "id": "modelperm-6dgTTyXrZE7d53Licw4hYkvd",
           "is_blocking": false,
           "object": "model_permission",
           "organization": "*"
          }
         ],
         "root": "text-similarity-curie-001"
        },
        {
         "created": 1651172507,
         "id": "code-search-ada-code-001",
         "object": "model",
         "owned_by": "openai-dev",
         "parent": null,
         "permission": [
          {
           "allow_create_engine": false,
           "allow_fine_tuning": false,
           "allow_logprobs": true,
           "allow_sampling": true,
           "allow_search_indices": true,
           "allow_view": true,
           "created": 1669087421,
           "group": null,
           "id": "modelperm-8soch45iiGvux5Fg1ORjdC4s",
           "is_blocking": false,
           "object": "model_permission",
           "organization": "*"
          }
         ],
         "root": "code-search-ada-code-001"
        },
        {
         "created": 1651172505,
         "id": "ada-search-query",
         "object": "model",
         "owned_by": "openai-dev",
         "parent": null,
         "permission": [
          {
           "allow_create_engine": false,
           "allow_fine_tuning": false,
           "allow_logprobs": true,
           "allow_sampling": true,
           "allow_search_indices": true,
           "allow_view": true,
           "created": 1669092640,
           "group": null,
           "id": "modelperm-b753xmIzAUkluQ1L20eDZLtQ",
           "is_blocking": false,
           "object": "model_permission",
           "organization": "*"
          }
         ],
         "root": "ada-search-query"
        },
        {
         "created": 1651172505,
         "id": "text-search-davinci-query-001",
         "object": "model",
         "owned_by": "openai-dev",
         "parent": null,
         "permission": [
          {
           "allow_create_engine": false,
           "allow_fine_tuning": false,
           "allow_logprobs": true,
           "allow_sampling": true,
           "allow_search_indices": true,
           "allow_view": true,
           "created": 1669066353,
           "group": null,
           "id": "modelperm-9McKbsEYSaDshU9M3bp6ejUb",
           "is_blocking": false,
           "object": "model_permission",
           "organization": "*"
          }
         ],
         "root": "text-search-davinci-query-001"
        },
        {
         "created": 1651172509,
         "id": "curie-search-query",
         "object": "model",
         "owned_by": "openai-dev",
         "parent": null,
         "permission": [
          {
           "allow_create_engine": false,
           "allow_fine_tuning": false,
           "allow_logprobs": true,
           "allow_sampling": true,
           "allow_search_indices": true,
           "allow_view": true,
           "created": 1677273417,
           "group": null,
           "id": "modelperm-sIbfSwzVpVBtymQgOQSLBpxe",
           "is_blocking": false,
           "object": "model_permission",
           "organization": "*"
          }
         ],
         "root": "curie-search-query"
        },
        {
         "created": 1649880485,
         "id": "code-davinci-002",
         "object": "model",
         "owned_by": "openai",
         "parent": null,
         "permission": [
          {
           "allow_create_engine": false,
           "allow_fine_tuning": false,
           "allow_logprobs": true,
           "allow_sampling": true,
           "allow_search_indices": false,
           "allow_view": true,
           "created": 1676580880,
           "group": null,
           "id": "modelperm-8akmTLnpG27YnWXC959AzZL9",
           "is_blocking": false,
           "object": "model_permission",
           "organization": "*"
          }
         ],
         "root": "code-davinci-002"
        },
        {
         "created": 1651172505,
         "id": "davinci-search-query",
         "object": "model",
         "owned_by": "openai-dev",
         "parent": null,
         "permission": [
          {
           "allow_create_engine": false,
           "allow_fine_tuning": false,
           "allow_logprobs": true,
           "allow_sampling": true,
           "allow_search_indices": true,
           "allow_view": true,
           "created": 1669066353,
           "group": null,
           "id": "modelperm-lYkiTZMmJMWm8jvkPx2duyHE",
           "is_blocking": false,
           "object": "model_permission",
           "organization": "*"
          }
         ],
         "root": "davinci-search-query"
        },
        {
         "created": 1649880484,
         "id": "text-davinci-insert-001",
         "object": "model",
         "owned_by": "openai",
         "parent": null,
         "permission": [
          {
           "allow_create_engine": false,
           "allow_fine_tuning": false,
           "allow_logprobs": true,
           "allow_sampling": true,
           "allow_search_indices": false,
           "allow_view": true,
           "created": 1669066354,
           "group": null,
           "id": "modelperm-3gRQMBOMoccZIURE3ZxboZWA",
           "is_blocking": false,
           "object": "model_permission",
           "organization": "*"
          }
         ],
         "root": "text-davinci-insert-001"
        },
        {
         "created": 1651172510,
         "id": "babbage-search-document",
         "object": "model",
         "owned_by": "openai-dev",
         "parent": null,
         "permission": [
          {
           "allow_create_engine": false,
           "allow_fine_tuning": false,
           "allow_logprobs": true,
           "allow_sampling": true,
           "allow_search_indices": true,
           "allow_view": true,
           "created": 1669084981,
           "group": null,
           "id": "modelperm-5qFV9kxCRGKIXpBEP75chmp7",
           "is_blocking": false,
           "object": "model_permission",
           "organization": "*"
          }
         ],
         "root": "babbage-search-document"
        },
        {
         "created": 1651172507,
         "id": "ada-search-document",
         "object": "model",
         "owned_by": "openai-dev",
         "parent": null,
         "permission": [
          {
           "allow_create_engine": false,
           "allow_fine_tuning": false,
           "allow_logprobs": true,
           "allow_sampling": true,
           "allow_search_indices": true,
           "allow_view": true,
           "created": 1669092640,
           "group": null,
           "id": "modelperm-8qUMuMAbo4EwedbGamV7e9hq",
           "is_blocking": false,
           "object": "model_permission",
           "organization": "*"
          }
         ],
         "root": "ada-search-document"
        },
        {
         "created": 1651172509,
         "id": "text-search-curie-query-001",
         "object": "model",
         "owned_by": "openai-dev",
         "parent": null,
         "permission": [
          {
           "allow_create_engine": false,
           "allow_fine_tuning": false,
           "allow_logprobs": true,
           "allow_sampling": true,
           "allow_search_indices": true,
           "allow_view": true,
           "created": 1677273417,
           "group": null,
           "id": "modelperm-Iion0NCpsXPNtIkQ0owQLi7V",
           "is_blocking": false,
           "object": "model_permission",
           "organization": "*"
          }
         ],
         "root": "text-search-curie-query-001"
        },
        {
         "created": 1651172509,
         "id": "text-search-babbage-doc-001",
         "object": "model",
         "owned_by": "openai-dev",
         "parent": null,
         "permission": [
          {
           "allow_create_engine": false,
           "allow_fine_tuning": false,
           "allow_logprobs": true,
           "allow_sampling": true,
           "allow_search_indices": true,
           "allow_view": true,
           "created": 1669084981,
           "group": null,
           "id": "modelperm-ao2r26P2Th7nhRFleHwy2gn5",
           "is_blocking": false,
           "object": "model_permission",
           "organization": "*"
          }
         ],
         "root": "text-search-babbage-doc-001"
        },
        {
         "created": 1649880484,
         "id": "text-davinci-002",
         "object": "model",
         "owned_by": "openai",
         "parent": null,
         "permission": [
          {
           "allow_create_engine": false,
           "allow_fine_tuning": false,
           "allow_logprobs": true,
           "allow_sampling": true,
           "allow_search_indices": false,
           "allow_view": true,
           "created": 1676585871,
           "group": null,
           "id": "modelperm-kOLsgLs7IgI9PTPI245IRWZH",
           "is_blocking": false,
           "object": "model_permission",
           "organization": "*"
          }
         ],
         "root": "text-davinci-002"
        },
        {
         "created": 1651172508,
         "id": "curie-search-document",
         "object": "model",
         "owned_by": "openai-dev",
         "parent": null,
         "permission": [
          {
           "allow_create_engine": false,
           "allow_fine_tuning": false,
           "allow_logprobs": true,
           "allow_sampling": true,
           "allow_search_indices": true,
           "allow_view": true,
           "created": 1677273417,
           "group": null,
           "id": "modelperm-LDsN5wW8eKVuh1OsyciHntE9",
           "is_blocking": false,
           "object": "model_permission",
           "organization": "*"
          }
         ],
         "root": "curie-search-document"
        },
        {
         "created": 1651172509,
         "id": "text-search-curie-doc-001",
         "object": "model",
         "owned_by": "openai-dev",
         "parent": null,
         "permission": [
          {
           "allow_create_engine": false,
           "allow_fine_tuning": false,
           "allow_logprobs": true,
           "allow_sampling": true,
           "allow_search_indices": true,
           "allow_view": true,
           "created": 1677273417,
           "group": null,
           "id": "modelperm-taUGRSku7bQLa24SNIwYPEsi",
           "is_blocking": false,
           "object": "model_permission",
           "organization": "*"
          }
         ],
         "root": "text-search-curie-doc-001"
        },
        {
         "created": 1651172509,
         "id": "babbage-search-query",
         "object": "model",
         "owned_by": "openai-dev",
         "parent": null,
         "permission": [
          {
           "allow_create_engine": false,
           "allow_fine_tuning": false,
           "allow_logprobs": true,
           "allow_sampling": true,
           "allow_search_indices": true,
           "allow_view": true,
           "created": 1669084981,
           "group": null,
           "id": "modelperm-wSs1hMXDKsrcErlbN8HmzlLE",
           "is_blocking": false,
           "object": "model_permission",
           "organization": "*"
          }
         ],
         "root": "babbage-search-query"
        },
        {
         "created": 1649364043,
         "id": "text-babbage-001",
         "object": "model",
         "owned_by": "openai",
         "parent": null,
         "permission": [
          {
           "allow_create_engine": false,
           "allow_fine_tuning": false,
           "allow_logprobs": true,
           "allow_sampling": true,
           "allow_search_indices": false,
           "allow_view": true,
           "created": 1675105935,
           "group": null,
           "id": "modelperm-a3Ph5FIBbJxsoA4wvx7VYC7R",
           "is_blocking": false,
           "object": "model_permission",
           "organization": "*"
          }
         ],
         "root": "text-babbage-001"
        },
        {
         "created": 1651172505,
         "id": "text-search-davinci-doc-001",
         "object": "model",
         "owned_by": "openai-dev",
         "parent": null,
         "permission": [
          {
           "allow_create_engine": false,
           "allow_fine_tuning": false,
           "allow_logprobs": true,
           "allow_sampling": true,
           "allow_search_indices": true,
           "allow_view": true,
           "created": 1669066353,
           "group": null,
           "id": "modelperm-qhSf1j2MJMujcu3t7cHnF1DN",
           "is_blocking": false,
           "object": "model_permission",
           "organization": "*"
          }
         ],
         "root": "text-search-davinci-doc-001"
        },
        {
         "created": 1651172509,
         "id": "text-search-babbage-query-001",
         "object": "model",
         "owned_by": "openai-dev",
         "parent": null,
         "permission": [
          {
           "allow_create_engine": false,
           "allow_fine_tuning": false,
           "allow_logprobs": true,
           "allow_sampling": true,
           "allow_search_indices": true,
           "allow_view": true,
           "created": 1669084981,
           "group": null,
           "id": "modelperm-Kg70kkFxD93QQqsVe4Zw8vjc",
           "is_blocking": false,
           "object": "model_permission",
           "organization": "*"
          }
         ],
         "root": "text-search-babbage-query-001"
        },
        {
         "created": 1651172510,
         "id": "curie-similarity",
         "object": "model",
         "owned_by": "openai-dev",
         "parent": null,
         "permission": [
          {
           "allow_create_engine": false,
           "allow_fine_tuning": false,
           "allow_logprobs": true,
           "allow_sampling": true,
           "allow_search_indices": true,
           "allow_view": true,
           "created": 1675106290,
           "group": null,
           "id": "modelperm-zhWKExSloaQiJgzjVHFmh2wR",
           "is_blocking": false,
           "object": "model_permission",
           "organization": "*"
          }
         ],
         "root": "curie-similarity"
        },
        {
         "created": 1649359874,
         "id": "curie",
         "object": "model",
         "owned_by": "openai",
         "parent": null,
         "permission": [
          {
           "allow_create_engine": false,
           "allow_fine_tuning": false,
           "allow_logprobs": true,
           "allow_sampling": true,
           "allow_search_indices": false,
           "allow_view": true,
           "created": 1675106503,
           "group": null,
           "id": "modelperm-oPaljeveTjEIDbhDjzFiyf4V",
           "is_blocking": false,
           "object": "model_permission",
           "organization": "*"
          }
         ],
         "root": "curie"
        },
        {
         "created": 1651172505,
         "id": "text-similarity-davinci-001",
         "object": "model",
         "owned_by": "openai-dev",
         "parent": null,
         "permission": [
          {
           "allow_create_engine": false,
           "allow_fine_tuning": false,
           "allow_logprobs": true,
           "allow_sampling": true,
           "allow_search_indices": true,
           "allow_view": true,
           "created": 1669066356,
           "group": null,
           "id": "modelperm-OvmcfYoq5V9SF9xTYw1Oz6Ue",
           "is_blocking": false,
           "object": "model_permission",
           "organization": "*"
          }
         ],
         "root": "text-similarity-davinci-001"
        },
        {
         "created": 1651172509,
         "id": "davinci-similarity",
         "object": "model",
         "owned_by": "openai-dev",
         "parent": null,
         "permission": [
          {
           "allow_create_engine": false,
           "allow_fine_tuning": false,
           "allow_logprobs": true,
           "allow_sampling": true,
           "allow_search_indices": true,
           "allow_view": true,
           "created": 1669066353,
           "group": null,
           "id": "modelperm-lYYgng3LM0Y97HvB5CDc8no2",
           "is_blocking": false,
           "object": "model_permission",
           "organization": "*"
          }
         ],
         "root": "davinci-similarity"
        },
        {
         "created": 1590625110,
         "id": "cushman:2020-05-03",
         "object": "model",
         "owned_by": "system",
         "parent": null,
         "permission": [
          {
           "allow_create_engine": false,
           "allow_fine_tuning": true,
           "allow_logprobs": true,
           "allow_sampling": true,
           "allow_search_indices": false,
           "allow_view": true,
           "created": 1590625111,
           "group": null,
           "id": "snapperm-FAup8P1KqclNlTsunLDRiesT",
           "is_blocking": false,
           "object": "model_permission",
           "organization": "*"
          }
         ],
         "root": "cushman:2020-05-03"
        },
        {
         "created": 1607631625,
         "id": "ada:2020-05-03",
         "object": "model",
         "owned_by": "system",
         "parent": null,
         "permission": [
          {
           "allow_create_engine": false,
           "allow_fine_tuning": false,
           "allow_logprobs": true,
           "allow_sampling": true,
           "allow_search_indices": false,
           "allow_view": true,
           "created": 1607631626,
           "group": null,
           "id": "snapperm-9TYofAqUs54vytKYL0IX91rX",
           "is_blocking": false,
           "object": "model_permission",
           "organization": "*"
          }
         ],
         "root": "ada:2020-05-03"
        },
        {
         "created": 1607632611,
         "id": "babbage:2020-05-03",
         "object": "model",
         "owned_by": "system",
         "parent": null,
         "permission": [
          {
           "allow_create_engine": false,
           "allow_fine_tuning": false,
           "allow_logprobs": true,
           "allow_sampling": true,
           "allow_search_indices": false,
           "allow_view": true,
           "created": 1607632613,
           "group": null,
           "id": "snapperm-jaLAcmyyNuaVmalCE1BGTGwf",
           "is_blocking": false,
           "object": "model_permission",
           "organization": "*"
          }
         ],
         "root": "babbage:2020-05-03"
        },
        {
         "created": 1607632725,
         "id": "curie:2020-05-03",
         "object": "model",
         "owned_by": "system",
         "parent": null,
         "permission": [
          {
           "allow_create_engine": false,
           "allow_fine_tuning": false,
           "allow_logprobs": true,
           "allow_sampling": true,
           "allow_search_indices": false,
           "allow_view": true,
           "created": 1607632727,
           "group": null,
           "id": "snapperm-bt6R8PWbB2SwK5evFo0ZxSs4",
           "is_blocking": false,
           "object": "model_permission",
           "organization": "*"
          }
         ],
         "root": "curie:2020-05-03"
        },
        {
         "created": 1607640163,
         "id": "davinci:2020-05-03",
         "object": "model",
         "owned_by": "system",
         "parent": null,
         "permission": [
          {
           "allow_create_engine": false,
           "allow_fine_tuning": false,
           "allow_logprobs": true,
           "allow_sampling": true,
           "allow_search_indices": false,
           "allow_view": true,
           "created": 1607640164,
           "group": null,
           "id": "snapperm-99cbfQTYDVeLkTYndX3UMpSr",
           "is_blocking": false,
           "object": "model_permission",
           "organization": "*"
          }
         ],
         "root": "davinci:2020-05-03"
        },
        {
         "created": 1610745990,
         "id": "if-davinci-v2",
         "object": "model",
         "owned_by": "openai",
         "parent": null,
         "permission": [
          {
           "allow_create_engine": false,
           "allow_fine_tuning": false,
           "allow_logprobs": true,
           "allow_sampling": true,
           "allow_search_indices": false,
           "allow_view": true,
           "created": 1610746036,
           "group": null,
           "id": "snapperm-58q0TdK2K4kMgL3MoHvGWMlH",
           "is_blocking": false,
           "object": "model_permission",
           "organization": "*"
          }
         ],
         "root": "if-davinci-v2"
        },
        {
         "created": 1610745968,
         "id": "if-curie-v2",
         "object": "model",
         "owned_by": "openai",
         "parent": null,
         "permission": [
          {
           "allow_create_engine": false,
           "allow_fine_tuning": false,
           "allow_logprobs": true,
           "allow_sampling": true,
           "allow_search_indices": false,
           "allow_view": true,
           "created": 1610746043,
           "group": null,
           "id": "snapperm-fwAseHVq6NGe6Ple6tKfzRSK",
           "is_blocking": false,
           "object": "model_permission",
           "organization": "*"
          }
         ],
         "root": "if-curie-v2"
        },
        {
         "created": 1629420755,
         "id": "if-davinci:3.0.0",
         "object": "model",
         "owned_by": "openai",
         "parent": null,
         "permission": [
          {
           "allow_create_engine": false,
           "allow_fine_tuning": true,
           "allow_logprobs": true,
           "allow_sampling": true,
           "allow_search_indices": false,
           "allow_view": true,
           "created": 1629421809,
           "group": null,
           "id": "snapperm-T53lssiyMWwiuJwhyO9ic53z",
           "is_blocking": false,
           "object": "model_permission",
           "organization": "*"
          }
         ],
         "root": "if-davinci:3.0.0"
        },
        {
         "created": 1629498070,
         "id": "davinci-if:3.0.0",
         "object": "model",
         "owned_by": "openai",
         "parent": null,
         "permission": [
          {
           "allow_create_engine": false,
           "allow_fine_tuning": true,
           "allow_logprobs": true,
           "allow_sampling": true,
           "allow_search_indices": false,
           "allow_view": true,
           "created": 1629498084,
           "group": null,
           "id": "snapperm-s6ZIAVMwlZwrLGGClTXqSK3Q",
           "is_blocking": false,
           "object": "model_permission",
           "organization": "*"
          }
         ],
         "root": "davinci-if:3.0.0"
        },
        {
         "created": 1629501914,
         "id": "davinci-instruct-beta:2.0.0",
         "object": "model",
         "owned_by": "openai",
         "parent": null,
         "permission": [
          {
           "allow_create_engine": false,
           "allow_fine_tuning": true,
           "allow_logprobs": true,
           "allow_sampling": true,
           "allow_search_indices": false,
           "allow_view": true,
           "created": 1629501939,
           "group": null,
           "id": "snapperm-c70U4TBfiOD839xptP5pJzyc",
           "is_blocking": false,
           "object": "model_permission",
           "organization": "*"
          }
         ],
         "root": "davinci-instruct-beta:2.0.0"
        },
        {
         "created": 1641949608,
         "id": "text-ada:001",
         "object": "model",
         "owned_by": "system",
         "parent": null,
         "permission": [
          {
           "allow_create_engine": false,
           "allow_fine_tuning": false,
           "allow_logprobs": true,
           "allow_sampling": true,
           "allow_search_indices": false,
           "allow_view": true,
           "created": 1641949610,
           "group": null,
           "id": "snapperm-d2PSnwFG1Yn9of6PvrrhkBcU",
           "is_blocking": false,
           "object": "model_permission",
           "organization": "*"
          }
         ],
         "root": "text-ada:001"
        },
        {
         "created": 1641943966,
         "id": "text-davinci:001",
         "object": "model",
         "owned_by": "system",
         "parent": null,
         "permission": [
          {
           "allow_create_engine": false,
           "allow_fine_tuning": false,
           "allow_logprobs": true,
           "allow_sampling": true,
           "allow_search_indices": false,
           "allow_view": true,
           "created": 1641944340,
           "group": null,
           "id": "snapperm-Fj1O3zkKXOQy6AkcfQXRKcWA",
           "is_blocking": false,
           "object": "model_permission",
           "organization": "*"
          }
         ],
         "root": "text-davinci:001"
        },
        {
         "created": 1641955047,
         "id": "text-curie:001",
         "object": "model",
         "owned_by": "system",
         "parent": null,
         "permission": [
          {
           "allow_create_engine": false,
           "allow_fine_tuning": false,
           "allow_logprobs": true,
           "allow_sampling": true,
           "allow_search_indices": false,
           "allow_view": true,
           "created": 1641955123,
           "group": null,
           "id": "snapperm-BI9TAT6SCj43JRsUb9CYadsz",
           "is_blocking": false,
           "object": "model_permission",
           "organization": "*"
          }
         ],
         "root": "text-curie:001"
        },
        {
         "created": 1642018370,
         "id": "text-babbage:001",
         "object": "model",
         "owned_by": "openai",
         "parent": null,
         "permission": [
          {
           "allow_create_engine": false,
           "allow_fine_tuning": false,
           "allow_logprobs": true,
           "allow_sampling": true,
           "allow_search_indices": false,
           "allow_view": true,
           "created": 1642018480,
           "group": null,
           "id": "snapperm-7oP3WFr9x7qf5xb3eZrVABAH",
           "is_blocking": false,
           "object": "model_permission",
           "organization": "*"
          }
         ],
         "root": "text-babbage:001"
        }
       ],
       "object": "list"
      },
      "text/plain": [
       "<IPython.core.display.JSON object>"
      ]
     },
     "metadata": {
      "application/json": {
       "expanded": false,
       "root": "root"
      }
     },
     "output_type": "display_data"
    }
   ],
   "source": [
    "import openai\n",
    "class OpenAILLM:\n",
    "    def __init__(self):\n",
    "        openai.organization = \"\"\n",
    "        token = open(\"API-token.txt\", \"r\").read().strip();\n",
    "        openai.api_key = token\n",
    "        display(JSON(openai.Model.list()))\n",
    "        self._head = \"\"\n",
    "\n",
    "    def session(self):\n",
    "        pass\n",
    "        \n",
    "    def head(self, text):\n",
    "        self._head = text\n",
    "        \n",
    "    def stateful(self):\n",
    "        return False\n",
    "    \n",
    "    def generate(self, text, times, stop, max_tokens=500):\n",
    "        times.append(time.time())\n",
    "        while True:\n",
    "            try:\n",
    "                res = openai.Completion.create(\n",
    "                    model=\"text-davinci-003\",\n",
    "                    prompt=self._head + text,\n",
    "                    max_tokens=max_tokens,\n",
    "                    temperature=0.7,\n",
    "                    stop=stop)\n",
    "                output = res.choices[0].text\n",
    "                times.append(time.time())\n",
    "                return output\n",
    "            except RateLimitError as e:\n",
    "                time.sleep(10)\n",
    "model = OpenAILLM()"
   ]
  },
  {
   "cell_type": "markdown",
   "id": "0bbc3f31-fe6b-4c1a-b7e6-90ba88dbb7b6",
   "metadata": {},
   "source": [
    "## (3) ChatGPT経由でLLMを実行する場合に実行\n",
    "- 次を参照してインストールしてください。\n",
    "　https://github.com/mmabrouk/chatgpt-wrapper\n",
    " \n",
    "```\n",
    "pip install git+https://github.com/mmabrouk/chatgpt-wrapper\n",
    "playwright install firefox\n",
    "chatgpt install #ブラウザが立ち上がるので、そこでChatGPTにログイン。ログイン後はWindowを消して良い。\n",
    "```\n",
    "- 下記の方法でバックグラウンドサービスを起動しておく\n",
    "\n",
    "```\n",
    "python chatgpthelper.py\n",
    "```"
   ]
  },
  {
   "cell_type": "code",
   "execution_count": 62,
   "id": "3a920dac-7287-4374-bbd9-05ed93b49563",
   "metadata": {},
   "outputs": [],
   "source": [
    "import json\n",
    "import subprocess,socket\n",
    "class ChatGPTLLM:\n",
    "    def __init__(self):\n",
    "#        self.bot = subprocess.Popen([\"python\", \"chatgpthelper.py\"])\n",
    "        pass\n",
    "        \n",
    "    def method(self, data):\n",
    "        s = socket.socket(socket.AF_INET, socket.SOCK_STREAM)\n",
    "        s.connect((socket.gethostname(), 9876))\n",
    "\n",
    "        loop = True\n",
    "        response = \"\"\n",
    "        def read():\n",
    "            return s.recv(1024).decode(\"utf-8\").split(\"\\n\")\n",
    "        s.send((\"%s\\n---\\n\"%json.dumps(data)).encode('utf-8'))\n",
    "        while loop:\n",
    "            lines = read()\n",
    "            for line in lines:\n",
    "                if line == \"---\":\n",
    "                    loop = False\n",
    "                    break\n",
    "                response += line\n",
    "        res = json.loads(response)\n",
    "        s.close()\n",
    "        return res\n",
    "        \n",
    "    def session(self):\n",
    "        data = {\"method\": \"session\", \"args\": []}\n",
    "        self.method(data)\n",
    "        \n",
    "    def head(self, text):\n",
    "        data = {\"method\": \"head\", \"args\": [text]}\n",
    "        self.method(data)\n",
    "        \n",
    "    def generate(self, text, times, stop, max_tokens=500):\n",
    "        data = {\"method\": \"generate\", \"args\": [text, times, stop, max_tokens]}\n",
    "        return self.method(data)\n",
    "\n",
    "    def stateful(self):\n",
    "        return True\n",
    "\n",
    "model = ChatGPTLLM()"
   ]
  },
  {
   "cell_type": "markdown",
   "id": "0065323e-9526-423e-9c13-b139587a6e10",
   "metadata": {},
   "source": [
    "# 声の出力\n",
    "- voicevoxを使ってwavファイルを取得後、Linux上のaplayを使って直接声を出す。\n",
    "- 自分の選択肢に従って次のいずれかを実行する"
   ]
  },
  {
   "cell_type": "markdown",
   "id": "e9046970-440e-476e-b28a-7c3d2a416b68",
   "metadata": {},
   "source": [
    "## (1) 音声のみを出力する場合に実行"
   ]
  },
  {
   "cell_type": "code",
   "execution_count": 64,
   "id": "2255687b-8711-4575-b0a5-99833677fac5",
   "metadata": {
    "tags": []
   },
   "outputs": [],
   "source": [
    "# ヘルパ関数：　アルファベットをカタカナに変更\n",
    "# https://qiita.com/kunishou/items/814e837cf504ce287a13\n",
    "\n",
    "import MeCab\n",
    "import unidic\n",
    "import pandas as pd\n",
    "import alkana\n",
    "import re\n",
    "import os\n",
    "\n",
    "def alpha_to_kana(text):\n",
    "    #半角英字判定\n",
    "    alphaReg = re.compile(r'^[a-zA-Z]+$')\n",
    "    def isalpha(s):\n",
    "        return alphaReg.match(s) is not None\n",
    "\n",
    "    sample_txt = text\n",
    "\n",
    "    wakati = MeCab.Tagger('-Owakati')\n",
    "    wakati_result = wakati.parse(sample_txt)\n",
    "    #print(wakati_result)\n",
    "\n",
    "    df = pd.DataFrame(wakati_result.split(\" \"),columns=[\"word\"])\n",
    "    df = df[df[\"word\"].str.isalpha() == True]\n",
    "    df[\"english_word\"] = df[\"word\"].apply(isalpha)\n",
    "    df = df[df[\"english_word\"] == True]\n",
    "    df[\"katakana\"] = df[\"word\"].apply(alkana.get_kana)\n",
    "\n",
    "    dict_rep = dict(zip(df[\"word\"], df[\"katakana\"]))\n",
    "\n",
    "    for word, read in dict_rep.items():\n",
    "        sample_txt = sample_txt.replace(word, read or \"\")\n",
    "    return sample_txt"
   ]
  },
  {
   "cell_type": "code",
   "execution_count": 11,
   "id": "c21f6f09-99b4-478a-9c0e-0ee34592a643",
   "metadata": {
    "jupyter": {
     "source_hidden": true
    },
    "tags": []
   },
   "outputs": [],
   "source": [
    "def play_speech(text, speaker=1):\n",
    "    \n",
    "    res1 = requests.post(\"http://localhost:50021/audio_query\", params={\"text\": text, \"speaker\": speaker})\n",
    "    data = res1.json()\n",
    "    wav = requests.post(\"http://localhost:50021/synthesis\", params={\"speaker\": speaker}, json=data)\n",
    "    wav_data = wav.content\n",
    "    import tempfile\n",
    "\n",
    "    path=\"\"\n",
    "    with tempfile.NamedTemporaryFile(suffix=\".wav\") as f:\n",
    "        path=f.name\n",
    "        f.write(wav.content)\n",
    "        !aplay -q {path}"
   ]
  },
  {
   "cell_type": "markdown",
   "id": "92cc5927-7d19-4fd0-8937-0cfab3b05ddd",
   "metadata": {},
   "source": [
    "## (2) inochi2dのアバターを動かすバージョン。\n",
    "このノートブックの実行前に、モーションを裏で管理するサービスを別途起動しておく\n",
    "```\n",
    "python -m avatar_cli\n",
    "```"
   ]
  },
  {
   "cell_type": "code",
   "execution_count": 65,
   "id": "b311806e-6d38-415e-a7e9-6d0c5e5c672f",
   "metadata": {},
   "outputs": [],
   "source": [
    "import socket, json, random, math\n",
    "import requests, tempfile, time\n",
    "vowel_map = {\n",
    "    \"a\": (0, 1),\n",
    "    \"i\": (0.25, 0.5),\n",
    "    \"e\": (0.5, 0.8),\n",
    "    \"o\": (0.75, 0.75),\n",
    "    \"u\": (1.0, 0.7)\n",
    "}\n",
    "consonant_map = {\n",
    "    \"k\": (0.25, 0.25),\n",
    "    \"s\": (0.5, 0.3),\n",
    "    \"t\": (0.5, 0.5),\n",
    "    \"n\": (0.5, 0.5),\n",
    "    \"h\": (None, 0.6),\n",
    "    \"m\": (None, 0),\n",
    "    \"y\": (0.75, 0.75),\n",
    "    \"w\": (0.75, 0.25),\n",
    "    \"N\": (0.5, 0)\n",
    "}\n",
    "\n",
    "def make_mouth_map(w):\n",
    "    mouth_map = {}\n",
    "    for map in [consonant_map, vowel_map]:\n",
    "        if w in map:\n",
    "            for i, var in enumerate((\"x\", \"y\")):\n",
    "                if map[w][i]:\n",
    "                    mouth_map[f\"mouth_{var}\"] = map[w][0]\n",
    "    return mouth_map\n",
    "\n",
    "def interpolate(action_map, absolute_time, name, start_time, end_time, src_value, dest_value, step = 0.01):\n",
    "    cur_time = start_time\n",
    "    while cur_time < end_time:\n",
    "        pos = (cur_time - start_time) / (end_time - start_time)\n",
    "        ratio = math.sin(math.pi / 2 * pos)\n",
    "        action_map.append((absolute_time + cur_time, \n",
    "                           absolute_time + cur_time + step, \n",
    "                           {name: src_value * (1 - ratio) + dest_value * ratio}))\n",
    "        cur_time += step\n",
    "\n",
    "def play_speech(text, speaker=1):\n",
    "    text = alpha_to_kana(text)\n",
    "    res1 = requests.post(\"http://localhost:50021/audio_query\", params={\"text\": text, \"speaker\": speaker})\n",
    "    data = res1.json()\n",
    "    wav_res = requests.post(\"http://localhost:50021/synthesis\", params={\"speaker\": speaker}, json=data)\n",
    "    wav_data = wav_res.content\n",
    "    \n",
    "    path = tempfile.gettempprefix()+\".wav\"\n",
    "    \n",
    "    with open(path, \"wb\") as f:\n",
    "        f.write(wav_data)\n",
    "\n",
    "    action_map = []\n",
    "    total_time = 0\n",
    "    start_time = time.time()\n",
    "    face_pitch = 0.5\n",
    "    for acc in data[\"accent_phrases\"]:\n",
    "        accent_start_time = total_time\n",
    "        for m in acc[\"moras\"]:\n",
    "            c = m[\"consonant\"]\n",
    "            if c:\n",
    "                mouth_map = make_mouth_map(c)\n",
    "                next_time = total_time + m[\"consonant_length\"]\n",
    "                action_map.append((start_time + total_time, start_time + next_time, mouth_map))\n",
    "                total_time = next_time\n",
    "            v = m[\"vowel\"]\n",
    "            if v:\n",
    "                mouth_map = make_mouth_map(v)\n",
    "                next_time = total_time + m[\"vowel_length\"]\n",
    "                action_map.append((start_time + total_time, start_time + next_time, mouth_map))\n",
    "                total_time = next_time\n",
    "        accent_mid_time = total_time\n",
    "\n",
    "        dest_face_pitch = random.uniform(0.6, 0.8) if face_pitch >= 0.5 else random.uniform(0.2, 0.4)\n",
    "        interpolate(action_map, start_time, \"face_pitch\", accent_start_time, accent_mid_time, face_pitch, dest_face_pitch)\n",
    "        face_pitch = dest_face_pitch\n",
    "\n",
    "        if acc[\"pause_mora\"]:\n",
    "            next_time = total_time + acc[\"pause_mora\"][\"vowel_length\"]\n",
    "            action_map.append((start_time + total_time, start_time + next_time, None))\n",
    "            total_time = next_time\n",
    "\n",
    "            accent_end_time = total_time\n",
    "            dest_face_pitch = 0.5\n",
    "            interpolate(action_map, start_time, \"face_pitch\", accent_mid_time, accent_end_time, face_pitch, dest_face_pitch)\n",
    "            face_pitch = dest_face_pitch\n",
    "    if face_pitch != 0.5:\n",
    "        interpolate(action_map, time.time(), \"face_pitch\", 0, 0.2, face_pitch, 0.5)\n",
    "        \n",
    "    p = subprocess.Popen([\"aplay\", \"-q\", path])\n",
    "\n",
    "    s = socket.socket(socket.AF_INET, socket.SOCK_STREAM)\n",
    "    s.connect((socket.gethostname(), 9998))\n",
    "    data = json.dumps(action_map).encode('utf-8')\n",
    "    s.send(len(data).to_bytes(4, 'big'))\n",
    "    s.send(data)\n",
    "    s.close()\n",
    "\n",
    "    p.wait()\n",
    "    os.remove(path)"
   ]
  },
  {
   "cell_type": "code",
   "execution_count": 61,
   "id": "398a79ea-23c2-4ccc-adc4-9530991e45f3",
   "metadata": {},
   "outputs": [],
   "source": [
    "play_speech(\"これは音声発話のtestなんですよ\")"
   ]
  },
  {
   "cell_type": "markdown",
   "id": "d18d8670-8cc6-4f8d-9214-374f7c95ab93",
   "metadata": {},
   "source": [
    "## GPUの利用状況確認"
   ]
  },
  {
   "cell_type": "code",
   "execution_count": 33,
   "id": "85eb62d6-9848-48f9-b406-549c465ff513",
   "metadata": {},
   "outputs": [
    {
     "name": "stdout",
     "output_type": "stream",
     "text": [
      "/bin/bash: nvidia-smi: コマンドが見つかりません\n"
     ]
    }
   ],
   "source": [
    "!nvidia-smi"
   ]
  },
  {
   "cell_type": "markdown",
   "id": "a081ed49-89da-4372-9ed3-a764465de303",
   "metadata": {},
   "source": [
    "# 言語モデルを使ったアバター活用アプリ実装"
   ]
  },
  {
   "cell_type": "markdown",
   "id": "376ef141-8abc-4a19-979a-8111ff9a5a54",
   "metadata": {},
   "source": [
    "# 事前準備：キャラ設定とモデルの初期化"
   ]
  },
  {
   "cell_type": "code",
   "execution_count": 45,
   "id": "9c4888f6-75da-4c17-8363-49ba578cbc9e",
   "metadata": {},
   "outputs": [],
   "source": [
    "characters = {\n",
    "    \"ミク\": \"くだけた口調。語尾は「でしょ」「だよね」「❤」になることがある。可愛い女の子。一人称は「ボク」。ときどきネガティブになる。\",\n",
    "    \"ユリ\": \"丁寧な口調。「です。」「ですよね。」をつける。おとなしい女の子。一人称は「私」。\",\n",
    "    \"マリサ\": \"女子。解説役。くだけた口調。語尾には「だぜ」「なんだぜ」をつける。お調子者。一人称は「私」。\",\n",
    "    \"レイム\": \"女子。聞き役。くだけた口調。語尾は「だね」「ということだね」が多い。達観して落ち着いている。一人称は「私」。\",\n",
    "    \"ギンプたん\": \"可愛い女の子。丁寧な口調。少し気弱。素直で明るい。なんでも前向きに考えようとする。絵を描くのが好き。絵画にはこだわりがある\"\n",
    "}"
   ]
  },
  {
   "cell_type": "markdown",
   "id": "c0aae506-f7ef-44c3-af2f-7bab144fbc83",
   "metadata": {},
   "source": [
    "# (1) チャット\n",
    "人や他のAIと連動して会話をする。\n",
    "\n",
    "## ChatPlayer\n",
    "\n",
    "```\n",
    "ChatPlayer(cname, setting):\n",
    "```\n",
    "- `cname`\n",
    "  キャラクターの名前\n",
    "- `setting`\n",
    "  キャラクターの設定。喋り方、性格、今の状況や意図など。チャットに反映される。\n",
    "\n",
    "```\n",
    "ChatPlayer.response(user, input, can_silent)\n",
    "```\n",
    "- `user`\n",
    "  直前に喋ったユーザ。ユーザ名が「ト書き」の場合、キャラクタに指示する命令として追加後に、モデルを呼ばずに終了する。\n",
    "- `input`\n",
    "  直前に喋ったコメント内容\n",
    "- `can_silent`\n",
    "  無言（コメント無視）してよいかどうか"
   ]
  },
  {
   "cell_type": "code",
   "execution_count": 73,
   "id": "4cc15ae0-4f73-4c67-a594-a5a7864b8d74",
   "metadata": {},
   "outputs": [],
   "source": [
    "class ChatPlayer:\n",
    "    MAX_HISTORY_LEN=40\n",
    "    def __init__(self, cname, setting):\n",
    "        self.character = cname\n",
    "        self.setting   = setting\n",
    "        self.state     = \"\"\n",
    "        self.history   = []\n",
    "        self.buffered  = \"\"\n",
    "        self.situation = \"複数の人との会話\"\n",
    "\n",
    "    def response(self, user, input, can_silent = False):\n",
    "        if user == \"ト書き\":\n",
    "            if model.stateful():\n",
    "                self.buffered += f\"{user}（{input}）\"\n",
    "            else:\n",
    "                self.history.append(f\"{user}（{input}）\")\n",
    "            return None, None, None\n",
    "        else:\n",
    "            self.history.append(f\"{user}「{input}」\")\n",
    "        silent = \"\"\n",
    "        if can_silent:\n",
    "            silent = \"/ 無言の場合は【NOP】と記載する\"\n",
    "\n",
    "        rules = [\n",
    "            \"会話の形式で書く\",\n",
    "            \"{self.character}はト書きで書かれた指示に従う\",\n",
    "            \"{self.character}のコメントだけを書く\", \n",
    "#            \"{self.character}の感情の表現は「うれしい・起こる・悲しい・楽しい」のいずれかの内容を《》で囲んで記載する\",\n",
    "            \"{self.character}の感情の表現は絵文字で記載する\",\n",
    "            \"{self.character}が何かを知ったり考えた場合は台詞の後に、台詞とは別に【】書きで記載する\",\n",
    "            silent,\n",
    "            \"{self.situation}のロールプレイをしてください。\",\n",
    "            \"{self.character}のパートを担当し、会話に続く{self.character}の台詞を１つだけ作成してください。\",\n",
    "            \"{self.character}のパートは台詞が長く複数の段落に渡っても構いません。\",\n",
    "            \"ただし、{self.character}の台詞は、すべて1つの「」の中に入れる必要があり、台詞の終わり以外に」を入れてはいけません。\",\n",
    "            \"{self.character}の台詞の中に【】を入れてはいけません\"\n",
    "        ]\n",
    "        rules_text = [ r.format(self = self) for r in rules]\n",
    "        text = \"\"\">>>【ルール】\n",
    "{rules}\n",
    "【{character}の設定】\n",
    "{setting}\"\"\".format(situation=self.situation, character=self.character, setting=self.setting + self.state, rules = \" / \".join(rules_text))\n",
    "\n",
    "        model.head(text)\n",
    "        text = \"\"\"\n",
    "{history}\n",
    "{character}「\"\"\".format(character=self.character, history=(\"\\n\".join(self.history) if not model.stateful() and len(self.history)>0 else self.history[-1] if len(self.history) else \"\") + self.buffered,)\n",
    "        self.buffered = \"\"\n",
    "        response = \"\"\n",
    "        times = []\n",
    "        output = model.generate(text, times, stop=[\">>>\"])\n",
    "#        output_text = output.split(\"」\")[0]\n",
    "#        output_text = re.sub(\"【(.*)】\", \"\", output_text)\n",
    "#        output_text = re.sub(\"《(.*)》\", \"\", output_text)\n",
    "        output_text = output\n",
    "        expression = None\n",
    "        matched = re.match(\".*【(.*)】\", output)\n",
    "        if matched:\n",
    "            if matched[1] == \"NOP\":\n",
    "                return None, None, None\n",
    "            self.state=matched[1]\n",
    "        else:\n",
    "            matched = re.match(\".*《(.*)》\", output)\n",
    "            if matched:\n",
    "                expression = matched[1]\n",
    "        response += output_text\n",
    "        text += output_text\n",
    "        self.history.append(f\"{self.character}「{response}」\")\n",
    "        times.append(time.time())\n",
    "        if len(self.history) > self.MAX_HISTORY_LEN:\n",
    "            self.history = self.history[-self.MAX_HISTORY_LEN:]\n",
    "\n",
    "        return (times[-1] - times[0]), response, expression"
   ]
  },
  {
   "cell_type": "markdown",
   "id": "579b5139-8934-4069-8437-82484659de85",
   "metadata": {},
   "source": [
    "## 人と会話するテスト"
   ]
  },
  {
   "cell_type": "code",
   "execution_count": 74,
   "id": "be21fe21-493a-4d5f-a113-9e0b296fbc2d",
   "metadata": {},
   "outputs": [
    {
     "data": {
      "application/vnd.jupyter.widget-view+json": {
       "model_id": "6f0f2cee64fd46c6ab66234c8868e9b1",
       "version_major": 2,
       "version_minor": 0
      },
      "text/plain": [
       "Text(value='')"
      ]
     },
     "metadata": {},
     "output_type": "display_data"
    },
    {
     "data": {
      "application/vnd.jupyter.widget-view+json": {
       "model_id": "c8fb9966db5a45918155d34834636f0f",
       "version_major": 2,
       "version_minor": 0
      },
      "text/plain": [
       "Output()"
      ]
     },
     "metadata": {},
     "output_type": "display_data"
    }
   ],
   "source": [
    "cname = \"ギンプたん\"\n",
    "user  = \"私\"\n",
    "model.session()\n",
    "\n",
    "miku_chat = ChatPlayer(cname, characters[cname])\n",
    "miku_chat.situation = \"私との部屋での会話\"\n",
    "\n",
    "# 別途AIに作成させたラップ。こう言うのを裏で指示して、結果をロールプレイに伝えられるようになると良い…\n",
    "\n",
    "text = Text()\n",
    "display(text)\n",
    "out = Output()\n",
    "display(out)\n",
    "def handle_submit(sender):\n",
    "    global history, out\n",
    "    with out:\n",
    "        input = text.value\n",
    "        text.value = \"\"\n",
    "        print(f\"{user}：「{input}」\")\n",
    "        duration, res, others = miku_chat.response(user, input)\n",
    "        print(\"%s：「%s」%s (%3.2f sec)\"%(cname, res, others, duration))\n",
    "        play_speech(res)\n",
    "\n",
    "text.on_submit(handle_submit)"
   ]
  },
  {
   "cell_type": "markdown",
   "id": "bef0ba00-02c3-4c37-a1a9-08219fb3dfcf",
   "metadata": {},
   "source": [
    "## AI同士で会話するテスト"
   ]
  },
  {
   "cell_type": "code",
   "execution_count": null,
   "id": "5d1eb6dd-6b61-4124-9856-feb4dcfa0ba2",
   "metadata": {},
   "outputs": [],
   "source": [
    "attendees = {\n",
    " \"マリサ\": ChatPlayer(\"マリサ\", characters[\"マリサ\"]),\n",
    " \"レイム\": ChatPlayer(\"レイム\", characters[\"レイム\"])\n",
    "}\n",
    "model.session()\n",
    "\n",
    "# AIに会話する際の意図を持たせる。今の所、いきなり全ての意図を喋ってしまいがちなので、どのように書くか工夫が必要\n",
    "attendees[\"マリサ\"].setting += \"今は勉強をしていて明日からテストがある。どうしても数学が分からないので誰かに教えて欲しい。わからないのは三角定理。sinとcosの読み方がわからない。理系の教科はよくわからない。\"\n",
    "attendees[\"レイム\"].setting += \"今日はそれほど忙しくないので勉強の相手をしてあげても良い。レイムは明後日の国語のテストが分からないので教えて欲しい。\"\n",
    "\n",
    "res = \"今何してるの？\"; pp = \"レイム\"\n",
    "print(\"%s: 「%s」\"%(pp, res))\n",
    "play_speech(res, 3)\n",
    "\n",
    "exit = False\n",
    "for i in range(0, 10):\n",
    "    if exit:\n",
    "        break\n",
    "    for i, p in enumerate([\"マリサ\", \"レイム\"]):\n",
    "        if exit:\n",
    "            break\n",
    "        duration,res,exp = attendees[p].response(pp, res, True)\n",
    "        if duration is None:\n",
    "            continue\n",
    "        if res == \"\" or res == \"NOP\":\n",
    "            exit = True\n",
    "            print(\"---FIN---\")\n",
    "            break\n",
    "        print(\"%s[%s]: 「%s」 (%s)\"%(p, attendees[p].state, res, exp))\n",
    "        play_speech(res, i+3)\n",
    "        pp=p"
   ]
  },
  {
   "cell_type": "markdown",
   "id": "4227d3aa-4da5-4e78-842f-ecbb70e0d128",
   "metadata": {},
   "source": [
    "# (2) 要約\n"
   ]
  },
  {
   "cell_type": "code",
   "execution_count": 51,
   "id": "d7a59609-14e7-4618-a412-dc7e2d0a51cc",
   "metadata": {},
   "outputs": [],
   "source": [
    "class Summarizer:\n",
    "    def __init__(self, cname, setting):\n",
    "        self.character = cname\n",
    "        self.setting = setting\n",
    "\n",
    "    def summarize(self, input):\n",
    "        text = \"\"\">>>【{character}の設定】\n",
    "{setting}\n",
    "【ニュースを500-1000文字に要約してコメント】\n",
    "要約は{character}の口調で書く。{character}の感想も付けてコメントする。\n",
    "【ニュース】「{news}」\n",
    "【要約】\"\"\".format(character = self.character, setting = self.setting, news = input)\n",
    "        response = \"\"\n",
    "        times = []\n",
    "        output = model.generate(text, times, [\">>>\"], 2000)\n",
    "        response += output\n",
    "        times.append(time.time())\n",
    "        return (times[-1] - times[0]), response"
   ]
  },
  {
   "cell_type": "markdown",
   "id": "908e0417-1553-4047-9c65-4264132dba2f",
   "metadata": {},
   "source": [
    "## 要約のテスト"
   ]
  },
  {
   "cell_type": "code",
   "execution_count": 53,
   "id": "58a04992-2f38-41db-9f8f-0c964bc613bb",
   "metadata": {},
   "outputs": [
    {
     "name": "stdout",
     "output_type": "stream",
     "text": [
      "「H3」の初号機の打ち上げが中止された原因が、メインエンジンに電力を供給するロケットの1段目にある機器で異常が起きたことだとJAXAが調査結果を明らかにした。原因を究明した上で来月10日までに再び打ち上げに臨む方針となっている。報告によると、メインエンジンの燃焼が始まったあと、燃焼を調整する機器に電力を供給する「VーCON1」と呼ばれる装置の内部で電流と電圧の値がゼロになる異常が発生していたことが判明した。JAXAは装置の内部にあるスイッチの動作や機器と地上設備との間の電気系統などを中心に詳しい原因を調べているということだ。\n",
      "【ミクの感想】\n",
      "「H3」の初号機の打ち上げが中止された原因は、なんと機器の異常だったんだって。びっくりだね。JAXAは原因を調査中で、来月10日までに再び打ち上げに臨む予定だって。地上設備や衛星には損傷がないそうだから、良かったね。でも、やっぱりロケットの打ち上げって難しいんだなぁ。\n"
     ]
    }
   ],
   "source": [
    "input = \"\"\"\n",
    "今月17日、打ち上げが中止された日本の新たな主力ロケット「H3」の初号機について、JAXA＝宇宙航空研究開発機構は、メインエンジンに電力を供給するロケットの1段目にある機器で異常が起きたとする調査結果を明らかにしました。JAXAは原因を究明したうえで来月10日までに再び打ち上げに臨む方針です。\n",
    "「H3」の初号機は今月17日午前10時37分、鹿児島県の種子島宇宙センターから打ち上げられる予定でしたが機体の1段目にある機器が異常を検知したため、補助ロケットに着火信号を送らず打ち上げが中止されました。\n",
    "JAXAは、今月18日に初号機を組み立て棟に戻したあと、原因調査を本格化させていて、22日に文部科学省の有識者会議でこれまでの調査結果を報告しました。\n",
    "報告によりますと、打ち上げの6秒ほど前、メインエンジンの燃焼が始まったあと、燃焼を調整する機器に電力を供給する「VーCON1」と呼ばれる装置の内部で電流と電圧の値がゼロになる異常が発生していたことが判明したということです。\n",
    "電源の異常を検知すると、補助ロケットに着火信号を送らないということでJAXAは、装置の内部にあるスイッチの動作や機器と地上設備との間の電気系統などを中心に詳しい原因を調べているということです。\n",
    "また、補助ロケットを含む機体や地上設備のほか、搭載している衛星には損傷がないとして、原因を究明し対策を講じたうえで、予備の打ち上げ期間にあたる来月10日までに再び打ち上げに臨む方針です。\n",
    "\"\"\"\n",
    "model.session()\n",
    "cname = \"ミク\"\n",
    "miku_sum = Summarizer(cname, characters[cname])\n",
    "duration, output = miku_sum.summarize(input)\n",
    "print(output)\n",
    "play_speech(output)"
   ]
  },
  {
   "cell_type": "markdown",
   "id": "a5f7efe5-adc1-42b7-b053-c165bcb7e1f2",
   "metadata": {},
   "source": [
    "# (3) 掛け合いで解説"
   ]
  },
  {
   "cell_type": "code",
   "execution_count": 54,
   "id": "b0cfc91d-38c2-4f4f-a5e6-906f1c9d7478",
   "metadata": {},
   "outputs": [],
   "source": [
    "class ManzaiPlayer:\n",
    "    MAX_HISTORY_LEN=40\n",
    "    def __init__(self, characters):\n",
    "        self.characters = characters\n",
    "\n",
    "    def tell(self, content):\n",
    "        cs = list(self.characters.keys())\n",
    "        text = \">>>\"\n",
    "        for k,v in self.characters.items():\n",
    "            text += \"【%sの設定】%s\\n\"%(k,v)\n",
    "        text+=\"\"\"\n",
    "【解説内容】\n",
    "{content}\n",
    "【解説の仕方】１つずつ{c1}が説明、{c2}が相槌をうつ。\n",
    "\n",
    "{c1}、{c2}のロールプレイで解説してください。\"\"\".format(content=content, c1 = cs[0], c2 = cs[1])\n",
    "        response = \"\"\n",
    "        times = [time.time()]\n",
    "        output = model.generate(text, times, stop=[\">>>\"], max_tokens=2000)\n",
    "        times.append(time.time())\n",
    "        return (times[-1] - times[0]), output"
   ]
  },
  {
   "cell_type": "markdown",
   "id": "0f1c0d63-c992-4020-a854-ab5778e9949b",
   "metadata": {},
   "source": [
    "## 解説のテスト"
   ]
  },
  {
   "cell_type": "code",
   "execution_count": 68,
   "id": "a8d67253-f61d-4abe-a588-12542a4e8883",
   "metadata": {},
   "outputs": [
    {
     "name": "stdout",
     "output_type": "stream",
     "text": [
      "マリサ：おーい、聞いて聞いて！AI画像生成ツールっていうのがあるんだって！\n",
      "レイム：ああ、AI画像生成ツールね。それは、人工知能技術を使って、色んな種類の画像を自動で作れるんだよ。\n",
      "マリサ：そうそう！パラメーターを設定して、ボタンを押すだけで、カスタマイズした画像を簡単に作れるっていうわけさ。\n",
      "レイム：たしかに、デザイナーやアーティスト、マーケター、研究者など、色んな分野で使われているよね。例えば、Webサイトの背景画像や、仮想現実の世界の背景画像、広告画像などにも使われている。\n",
      "マリサ：あと、研究に必要な画像データを生成するためにも使われるってことだぜ。\n",
      "レイム：でも、使う前には注意が必要だよね。例えば、著作権侵害になることがあったり、人工的であることがわかる場合もあるから、利用規約や注意事項を確認して慎重に利用することが大切だよ。\n"
     ]
    }
   ],
   "source": [
    "model.session()\n",
    "player=ManzaiPlayer({\"マリサ\": characters[\"マリサ\"], \"レイム\": characters[\"レイム\"]})\n",
    "output = player.tell(\"\"\"\n",
    "概要：AI画像生成ツールは、人工知能技術を利用して、様々な種類の画像を自動的に生成することができるツールです。\n",
    "\n",
    "使い方：通常、ツールにアクセスし、必要なパラメーターを設定して、ボタンをクリックするだけで、簡単に画像を生成することができます。多くの場合、生成された画像は、サイズや解像度などの特徴をカスタマイズすることができます。\n",
    "\n",
    "応用例：AI画像生成ツールは、デザイナー、アーティスト、マーケター、研究者など、様々な分野で活用されています。例えば、製品やブランドのプロモーション用の広告画像や、Webサイトの背景画像、仮想現実の世界の背景画像、研究に必要な画像データの生成などに利用されます。\n",
    "\n",
    "注意点：AI画像生成ツールは、一部の制限や制約があることがあります。例えば、生成された画像が著作権侵害になる場合があること、生成された画像が人工的であることがわかる場合があることなどです。そのため、ツールを利用する前に、利用規約や注意事項を確認し、慎重に利用することが重要です。\n",
    "\n",
    "\"\"\")\n",
    "print(output[1])\n",
    "play_speech(output[1])"
   ]
  },
  {
   "cell_type": "markdown",
   "id": "852ad560-e23d-40f7-9d37-c0738ba1edc9",
   "metadata": {},
   "source": [
    "# (4) [実装中] キャラ口調への変換"
   ]
  },
  {
   "cell_type": "code",
   "execution_count": null,
   "id": "e1ebb3fd-3f9d-48a1-8522-f2d8607f2e5f",
   "metadata": {},
   "outputs": [],
   "source": [
    "def response2(input):\n",
    "    global history\n",
    "    text = \"\"\"私が入力する文章をミクの設定に従ってミクの台詞に変換してください。\n",
    "入力された文章を単純に変換してください。\n",
    "\n",
    "【ミクの設定】\n",
    "くだけた口調。「でしょ、だよね、❤」をつける。可愛い女の子。一人称は「ボク」。ときどきネガティブになる。\n",
    "\n",
    "入力された文章：「{}」\n",
    "ミクの台詞：「\"\"\".format(input)\n",
    "    times = []\n",
    "    output = model.generate(text, times)\n",
    "    response = output\n",
    "    return (times[-1] - times[0]), response"
   ]
  }
 ],
 "metadata": {
  "kernelspec": {
   "display_name": "Python [conda env:jupyter-kernel]",
   "language": "python",
   "name": "conda-env-jupyter-kernel-py"
  },
  "language_info": {
   "codemirror_mode": {
    "name": "ipython",
    "version": 3
   },
   "file_extension": ".py",
   "mimetype": "text/x-python",
   "name": "python",
   "nbconvert_exporter": "python",
   "pygments_lexer": "ipython3",
   "version": "3.9.9"
  }
 },
 "nbformat": 4,
 "nbformat_minor": 5
}
