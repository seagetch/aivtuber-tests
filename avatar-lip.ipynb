{
 "cells": [
  {
   "cell_type": "code",
   "execution_count": 3,
   "id": "e6533522-95a0-4f0b-8eff-a889e73816ca",
   "metadata": {},
   "outputs": [],
   "source": [
    "#!conda install -y -c conda-forge pyaudio\n",
    "#!sudo apt install -y libasound2-plugins-extra\n",
    "#!conda install -y -c conda-forge librosa"
   ]
  },
  {
   "cell_type": "code",
   "execution_count": 4,
   "id": "0995a110-47fd-4ad0-b597-908f9cc8d536",
   "metadata": {},
   "outputs": [],
   "source": [
    "import requests\n",
    "import os, time, sys, subprocess\n",
    "import json\n",
    "from IPython.display import JSON"
   ]
  },
  {
   "cell_type": "code",
   "execution_count": 88,
   "id": "32a29c08-c508-42ac-9ca6-eb29e54298ad",
   "metadata": {},
   "outputs": [],
   "source": [
    "vowel_map = {\n",
    "    \"a\": (0, 1),\n",
    "    \"i\": (0.25, 0.5),\n",
    "    \"e\": (0.5, 0.8),\n",
    "    \"o\": (0.75, 0.75),\n",
    "    \"u\": (1.0, 0.7)\n",
    "}\n",
    "consonant_map = {\n",
    "    \"k\": (0.25, 0.25),\n",
    "    \"s\": (0.5, 0.3),\n",
    "    \"t\": (0.5, 0.5),\n",
    "    \"n\": (0.5, 0.5),\n",
    "    \"h\": (None, 0.6),\n",
    "    \"m\": (None, 0),\n",
    "    \"y\": (0.75, 0.75),\n",
    "    \"w\": (0.75, 0.25),\n",
    "    \"N\": (0.5, 0)\n",
    "}\n",
    "\n",
    "def update(w, t1, t2):\n",
    "    mouth_map = {}\n",
    "    if w in consonant_map:\n",
    "        if consonant_map[w][0]:\n",
    "            mouth_map[\"mouth_x\"] = consonant_map[w][0]\n",
    "        if consonant_map[w][1]:\n",
    "            mouth_map[\"mouth_y\"] = consonant_map[w][1]\n",
    "    if w in vowel_map:\n",
    "        mouth_map = {}\n",
    "        if vowel_map[w][0]:\n",
    "            mouth_map[\"mouth_x\"] = vowel_map[w][0]\n",
    "        if vowel_map[w][1]:\n",
    "            mouth_map[\"mouth_y\"] = vowel_map[w][1]\n",
    "\n",
    "    # Sending WebHook request to Inochi2D.\n",
    "    # Currently, requests.post disconnected from WebHook adapter everytime after sending action.\n",
    "    # Should develop non-blocking, keep connection method.\n",
    "    while time.time() - t1 < t2:\n",
    "        try:\n",
    "            res = requests.post(\"http://localhost:9999/blendshapes\", json=mouth_map, timeout=0.000000001)\n",
    "        except Exception as e:\n",
    "            pass"
   ]
  },
  {
   "cell_type": "code",
   "execution_count": 94,
   "id": "d93f4ff7-598f-4e19-8cd3-b23c283bfbd2",
   "metadata": {},
   "outputs": [],
   "source": [
    "import io\n",
    "import tempfile\n",
    "\n",
    "def play_speech(text, speaker=1):\n",
    "\n",
    "    res1 = requests.post(\"http://localhost:50021/audio_query\", params={\"text\": text, \"speaker\": speaker})\n",
    "    data = res1.json()\n",
    "    display(JSON(data))\n",
    "    wav_res = requests.post(\"http://localhost:50021/synthesis\", params={\"speaker\": speaker}, json=data)\n",
    "    wav_data = wav_res.content\n",
    "    \n",
    "    path = tempfile.gettempprefix()+\".wav\"\n",
    "    \n",
    "    with open(path, \"wb\") as f:\n",
    "        f.write(wav_data)\n",
    "\n",
    "    action_map = []\n",
    "    total_time = 0\n",
    "    for acc in data[\"accent_phrases\"]:\n",
    "        for m in acc[\"moras\"]:\n",
    "            print(m[\"text\"],end=\"\")\n",
    "            c = m[\"consonant\"]\n",
    "            if c:\n",
    "                next_time = total_time + m[\"consonant_length\"]\n",
    "                action_map.append((total_time, next_time, c))\n",
    "                total_time = next_time\n",
    "            v = m[\"vowel\"]\n",
    "            if v:\n",
    "                next_time = total_time + m[\"vowel_length\"]\n",
    "                action_map.append((total_time, next_time, v))\n",
    "                total_time = next_time\n",
    "        if acc[\"pause_mora\"]:\n",
    "            next_time = total_time + acc[\"pause_mora\"][\"vowel_length\"]\n",
    "            action_map.append((total_time, next_time, None))\n",
    "            total_time = next_time\n",
    "    \n",
    "    p = subprocess.Popen([\"aplay\", \"-q\", path])\n",
    "\n",
    "    start_time = time.time()\n",
    "    for a in action_map:\n",
    "        if a[2]:\n",
    "            update(a[2], start_time, a[1])\n",
    "        else:\n",
    "            time.sleep(a[1] + start_time - time.time())\n",
    "    p.wait()\n",
    "    os.remove(path)"
   ]
  },
  {
   "cell_type": "code",
   "execution_count": 97,
   "id": "d562c9a8-4d8f-4566-b00f-d23f7465ac5f",
   "metadata": {},
   "outputs": [
    {
     "data": {
      "application/json": {
       "accent_phrases": [
        {
         "accent": 3,
         "is_interrogative": false,
         "moras": [
          {
           "consonant": "k",
           "consonant_length": 0.08975560963153839,
           "pitch": 5.602253437042236,
           "text": "コ",
           "vowel": "o",
           "vowel_length": 0.09544792026281357
          },
          {
           "consonant": "r",
           "consonant_length": 0.03897886723279953,
           "pitch": 5.711262226104736,
           "text": "レ",
           "vowel": "e",
           "vowel_length": 0.12944088876247406
          },
          {
           "consonant": "w",
           "consonant_length": 0.06179461628198624,
           "pitch": 5.889597415924072,
           "text": "ワ",
           "vowel": "a",
           "vowel_length": 0.1158662810921669
          }
         ],
         "pause_mora": null
        },
        {
         "accent": 5,
         "is_interrogative": false,
         "moras": [
          {
           "consonant": null,
           "consonant_length": null,
           "pitch": 5.802824974060059,
           "text": "オ",
           "vowel": "o",
           "vowel_length": 0.15947391092777252
          },
          {
           "consonant": null,
           "consonant_length": null,
           "pitch": 5.951119422912598,
           "text": "ン",
           "vowel": "N",
           "vowel_length": 0.09757271409034729
          },
          {
           "consonant": "s",
           "consonant_length": 0.08374208211898804,
           "pitch": 6.127392292022705,
           "text": "セ",
           "vowel": "e",
           "vowel_length": 0.10405283421278
          },
          {
           "consonant": null,
           "consonant_length": null,
           "pitch": 6.147950649261475,
           "text": "エ",
           "vowel": "e",
           "vowel_length": 0.08590709418058395
          },
          {
           "consonant": "h",
           "consonant_length": 0.07221153378486633,
           "pitch": 6.19802188873291,
           "text": "ハ",
           "vowel": "a",
           "vowel_length": 0.10418209433555603
          },
          {
           "consonant": "ts",
           "consonant_length": 0.10031387954950333,
           "pitch": 6.134031772613525,
           "text": "ツ",
           "vowel": "u",
           "vowel_length": 0.06933571398258209
          },
          {
           "consonant": "w",
           "consonant_length": 0.05734335631132126,
           "pitch": 5.91849422454834,
           "text": "ワ",
           "vowel": "a",
           "vowel_length": 0.09301788359880447
          },
          {
           "consonant": "n",
           "consonant_length": 0.06682689487934113,
           "pitch": 5.616055488586426,
           "text": "ノ",
           "vowel": "o",
           "vowel_length": 0.09883589297533035
          }
         ],
         "pause_mora": null
        },
        {
         "accent": 1,
         "is_interrogative": false,
         "moras": [
          {
           "consonant": "t",
           "consonant_length": 0.07185271382331848,
           "pitch": 5.935944557189941,
           "text": "テ",
           "vowel": "e",
           "vowel_length": 0.11796002835035324
          },
          {
           "consonant": "s",
           "consonant_length": 0.033421941101551056,
           "pitch": 0,
           "text": "ス",
           "vowel": "U",
           "vowel_length": 0.0660366490483284
          },
          {
           "consonant": "t",
           "consonant_length": 0.07281826436519623,
           "pitch": 6.170250415802002,
           "text": "ト",
           "vowel": "o",
           "vowel_length": 0.09615226835012436
          },
          {
           "consonant": "n",
           "consonant_length": 0.06379405409097672,
           "pitch": 5.977016925811768,
           "text": "ナ",
           "vowel": "a",
           "vowel_length": 0.14961569011211395
          }
         ],
         "pause_mora": null
        },
        {
         "accent": 1,
         "is_interrogative": false,
         "moras": [
          {
           "consonant": null,
           "consonant_length": null,
           "pitch": 5.736073017120361,
           "text": "ン",
           "vowel": "N",
           "vowel_length": 0.08232799917459488
          },
          {
           "consonant": "d",
           "consonant_length": 0.03654490411281586,
           "pitch": 5.637486934661865,
           "text": "デ",
           "vowel": "e",
           "vowel_length": 0.12162939459085464
          },
          {
           "consonant": "s",
           "consonant_length": 0.05132005363702774,
           "pitch": 0,
           "text": "ス",
           "vowel": "U",
           "vowel_length": 0.08982134610414505
          },
          {
           "consonant": "y",
           "consonant_length": 0.07095830887556076,
           "pitch": 5.6895751953125,
           "text": "ヨ",
           "vowel": "o",
           "vowel_length": 0.24663473665714264
          }
         ],
         "pause_mora": null
        }
       ],
       "intonationScale": 1,
       "kana": "コレワ'/オンセエハ'ツワノ/テ'_ストナ/ン'デ_スヨ",
       "outputSamplingRate": 24000,
       "outputStereo": false,
       "pitchScale": 0,
       "postPhonemeLength": 0.1,
       "prePhonemeLength": 0.1,
       "speedScale": 1,
       "volumeScale": 1
      },
      "text/plain": [
       "<IPython.core.display.JSON object>"
      ]
     },
     "metadata": {
      "application/json": {
       "expanded": false,
       "root": "root"
      }
     },
     "output_type": "display_data"
    },
    {
     "name": "stdout",
     "output_type": "stream",
     "text": [
      "コレワオンセエハツワノテストナンデスヨ"
     ]
    }
   ],
   "source": [
    "play_speech(\"これは音声発話のテストなんですよ\")"
   ]
  },
  {
   "cell_type": "code",
   "execution_count": 100,
   "id": "23aa2509-017f-44bb-92c3-416cbdcf7d75",
   "metadata": {},
   "outputs": [
    {
     "data": {
      "application/json": {
       "accent_phrases": [
        {
         "accent": 4,
         "is_interrogative": false,
         "moras": [
          {
           "consonant": "k",
           "consonant_length": 0.09799627214670181,
           "pitch": 5.6792473793029785,
           "text": "コ",
           "vowel": "o",
           "vowel_length": 0.16409175097942352
          },
          {
           "consonant": null,
           "consonant_length": null,
           "pitch": 5.850155830383301,
           "text": "ン",
           "vowel": "N",
           "vowel_length": 0.08504792302846909
          },
          {
           "consonant": "g",
           "consonant_length": 0.04422251135110855,
           "pitch": 5.936103820800781,
           "text": "ゲ",
           "vowel": "e",
           "vowel_length": 0.11537116765975952
          },
          {
           "consonant": "ts",
           "consonant_length": 0.08741123229265213,
           "pitch": 5.987824440002441,
           "text": "ツ",
           "vowel": "u",
           "vowel_length": 0.08520785719156265
          }
         ],
         "pause_mora": null
        },
        {
         "accent": 2,
         "is_interrogative": false,
         "moras": [
          {
           "consonant": "j",
           "consonant_length": 0.08245927840471268,
           "pitch": 5.9242753982543945,
           "text": "ジュ",
           "vowel": "u",
           "vowel_length": 0.08698729425668716
          },
          {
           "consonant": null,
           "consonant_length": null,
           "pitch": 6.015142917633057,
           "text": "ウ",
           "vowel": "u",
           "vowel_length": 0.09154300391674042
          }
         ],
         "pause_mora": null
        },
        {
         "accent": 2,
         "is_interrogative": false,
         "moras": [
          {
           "consonant": "sh",
           "consonant_length": 0.06198602169752121,
           "pitch": 0,
           "text": "シ",
           "vowel": "I",
           "vowel_length": 0.08095427602529526
          },
          {
           "consonant": "ch",
           "consonant_length": 0.08782465755939484,
           "pitch": 6.162230968475342,
           "text": "チ",
           "vowel": "i",
           "vowel_length": 0.0693562850356102
          },
          {
           "consonant": "n",
           "consonant_length": 0.062279269099235535,
           "pitch": 6.184023857116699,
           "text": "ニ",
           "vowel": "i",
           "vowel_length": 0.10419701784849167
          },
          {
           "consonant": "ch",
           "consonant_length": 0.0780680701136589,
           "pitch": 5.963901519775391,
           "text": "チ",
           "vowel": "i",
           "vowel_length": 0.07094389200210571
          },
          {
           "consonant": "n",
           "consonant_length": 0.06108185648918152,
           "pitch": 5.736325263977051,
           "text": "ニ",
           "vowel": "i",
           "vowel_length": 0.10005392879247665
          }
         ],
         "pause_mora": null
        },
        {
         "accent": 3,
         "is_interrogative": false,
         "moras": [
          {
           "consonant": "y",
           "consonant_length": 0.060012854635715485,
           "pitch": 5.493261337280273,
           "text": "ヨ",
           "vowel": "o",
           "vowel_length": 0.11195538938045502
          },
          {
           "consonant": "t",
           "consonant_length": 0.07650529593229294,
           "pitch": 5.706674575805664,
           "text": "テ",
           "vowel": "e",
           "vowel_length": 0.10912517458200455
          },
          {
           "consonant": null,
           "consonant_length": null,
           "pitch": 5.8115153312683105,
           "text": "エ",
           "vowel": "e",
           "vowel_length": 0.10173790901899338
          }
         ],
         "pause_mora": null
        },
        {
         "accent": 3,
         "is_interrogative": false,
         "moras": [
          {
           "consonant": "s",
           "consonant_length": 0.08051232248544693,
           "pitch": 5.920288562774658,
           "text": "サ",
           "vowel": "a",
           "vowel_length": 0.09127136319875717
          },
          {
           "consonant": "r",
           "consonant_length": 0.03953584283590317,
           "pitch": 5.9334564208984375,
           "text": "レ",
           "vowel": "e",
           "vowel_length": 0.10137403756380081
          },
          {
           "consonant": "t",
           "consonant_length": 0.06949937343597412,
           "pitch": 6.022780418395996,
           "text": "テ",
           "vowel": "e",
           "vowel_length": 0.11388242989778519
          }
         ],
         "pause_mora": null
        },
        {
         "accent": 2,
         "is_interrogative": false,
         "moras": [
          {
           "consonant": null,
           "consonant_length": null,
           "pitch": 6.033190727233887,
           "text": "イ",
           "vowel": "i",
           "vowel_length": 0.09901619702577591
          },
          {
           "consonant": "t",
           "consonant_length": 0.07159916311502457,
           "pitch": 6.0215606689453125,
           "text": "タ",
           "vowel": "a",
           "vowel_length": 0.14584492146968842
          }
         ],
         "pause_mora": null
        },
        {
         "accent": 1,
         "is_interrogative": false,
         "moras": [
          {
           "consonant": null,
           "consonant_length": null,
           "pitch": 6.029593467712402,
           "text": "エ",
           "vowel": "e",
           "vowel_length": 0.11397501826286316
          },
          {
           "consonant": null,
           "consonant_length": null,
           "pitch": 6.095488548278809,
           "text": "イ",
           "vowel": "i",
           "vowel_length": 0.10850132256746292
          },
          {
           "consonant": "ch",
           "consonant_length": 0.06391764432191849,
           "pitch": 0,
           "text": "チ",
           "vowel": "I",
           "vowel_length": 0.06022976338863373
          }
         ],
         "pause_mora": null
        },
        {
         "accent": 4,
         "is_interrogative": false,
         "moras": [
          {
           "consonant": "s",
           "consonant_length": 0.10561945289373398,
           "pitch": 5.944207191467285,
           "text": "サ",
           "vowel": "a",
           "vowel_length": 0.16555100679397583
          },
          {
           "consonant": null,
           "consonant_length": null,
           "pitch": 6.000833511352539,
           "text": "ン",
           "vowel": "N",
           "vowel_length": 0.07235866785049438
          },
          {
           "consonant": "r",
           "consonant_length": 0.0342366099357605,
           "pitch": 6.056123733520508,
           "text": "ロ",
           "vowel": "o",
           "vowel_length": 0.11447685211896896
          },
          {
           "consonant": "k",
           "consonant_length": 0.08559615910053253,
           "pitch": 6.189505100250244,
           "text": "ケ",
           "vowel": "e",
           "vowel_length": 0.1485726684331894
          },
          {
           "consonant": null,
           "consonant_length": null,
           "pitch": 0,
           "text": "ッ",
           "vowel": "cl",
           "vowel_length": 0.06987186521291733
          },
          {
           "consonant": "t",
           "consonant_length": 0.06909795105457306,
           "pitch": 6.147557258605957,
           "text": "ト",
           "vowel": "o",
           "vowel_length": 0.09607861191034317
          },
          {
           "consonant": "n",
           "consonant_length": 0.05764048546552658,
           "pitch": 5.9163899421691895,
           "text": "ノ",
           "vowel": "o",
           "vowel_length": 0.0947771817445755
          }
         ],
         "pause_mora": null
        },
        {
         "accent": 3,
         "is_interrogative": false,
         "moras": [
          {
           "consonant": "sh",
           "consonant_length": 0.0882151648402214,
           "pitch": 5.604765892028809,
           "text": "ショ",
           "vowel": "o",
           "vowel_length": 0.09747353196144104
          },
          {
           "consonant": "g",
           "consonant_length": 0.06463458389043808,
           "pitch": 5.6511664390563965,
           "text": "ゴ",
           "vowel": "o",
           "vowel_length": 0.08966172486543655
          },
          {
           "consonant": null,
           "consonant_length": null,
           "pitch": 5.835810661315918,
           "text": "オ",
           "vowel": "o",
           "vowel_length": 0.12253958731889725
          },
          {
           "consonant": "k",
           "consonant_length": 0.09058336913585663,
           "pitch": 5.703977584838867,
           "text": "キ",
           "vowel": "i",
           "vowel_length": 0.09328510612249374
          }
         ],
         "pause_mora": null
        },
        {
         "accent": 5,
         "is_interrogative": false,
         "moras": [
          {
           "consonant": null,
           "consonant_length": null,
           "pitch": 5.511782646179199,
           "text": "ウ",
           "vowel": "u",
           "vowel_length": 0.10441061109304428
          },
          {
           "consonant": "ch",
           "consonant_length": 0.09683317691087723,
           "pitch": 5.686800479888916,
           "text": "チ",
           "vowel": "i",
           "vowel_length": 0.0842130109667778
          },
          {
           "consonant": null,
           "consonant_length": null,
           "pitch": 5.78671932220459,
           "text": "ア",
           "vowel": "a",
           "vowel_length": 0.13606871664524078
          },
          {
           "consonant": "g",
           "consonant_length": 0.06285618245601654,
           "pitch": 5.8410139083862305,
           "text": "ゲ",
           "vowel": "e",
           "vowel_length": 0.08983010053634644
          },
          {
           "consonant": "g",
           "consonant_length": 0.05863804370164871,
           "pitch": 5.868188381195068,
           "text": "ガ",
           "vowel": "a",
           "vowel_length": 0.1264675110578537
          }
         ],
         "pause_mora": null
        },
        {
         "accent": 3,
         "is_interrogative": false,
         "moras": [
          {
           "consonant": "ch",
           "consonant_length": 0.10498525947332382,
           "pitch": 5.911462783813477,
           "text": "チュ",
           "vowel": "u",
           "vowel_length": 0.08097157627344131
          },
          {
           "consonant": null,
           "consonant_length": null,
           "pitch": 5.978737831115723,
           "text": "ウ",
           "vowel": "u",
           "vowel_length": 0.09495443850755692
          },
          {
           "consonant": "sh",
           "consonant_length": 0.04840024560689926,
           "pitch": 0,
           "text": "シ",
           "vowel": "I",
           "vowel_length": 0.07107586413621902
          }
         ],
         "pause_mora": null
        },
        {
         "accent": 3,
         "is_interrogative": false,
         "moras": [
          {
           "consonant": "s",
           "consonant_length": 0.09215208142995834,
           "pitch": 6.087437629699707,
           "text": "サ",
           "vowel": "a",
           "vowel_length": 0.09135886281728745
          },
          {
           "consonant": "r",
           "consonant_length": 0.032636359333992004,
           "pitch": 6.097836017608643,
           "text": "レ",
           "vowel": "e",
           "vowel_length": 0.10169286280870438
          },
          {
           "consonant": "t",
           "consonant_length": 0.0676359012722969,
           "pitch": 6.1177473068237305,
           "text": "タ",
           "vowel": "a",
           "vowel_length": 0.14109230041503906
          }
         ],
         "pause_mora": null
        },
        {
         "accent": 4,
         "is_interrogative": false,
         "moras": [
          {
           "consonant": null,
           "consonant_length": null,
           "pitch": 6.076054573059082,
           "text": "イ",
           "vowel": "i",
           "vowel_length": 0.08921138942241669
          },
          {
           "consonant": "j",
           "consonant_length": 0.07927722483873367,
           "pitch": 6.0550947189331055,
           "text": "ジョ",
           "vowel": "o",
           "vowel_length": 0.08103696256875992
          },
          {
           "consonant": null,
           "consonant_length": null,
           "pitch": 6.130077362060547,
           "text": "オ",
           "vowel": "o",
           "vowel_length": 0.09274894744157791
          },
          {
           "consonant": "n",
           "consonant_length": 0.04897136241197586,
           "pitch": 6.124245643615723,
           "text": "ニ",
           "vowel": "i",
           "vowel_length": 0.10670001804828644
          }
         ],
         "pause_mora": null
        },
        {
         "accent": 1,
         "is_interrogative": false,
         "moras": [
          {
           "consonant": "ts",
           "consonant_length": 0.11104575544595718,
           "pitch": 6.164204120635986,
           "text": "ツ",
           "vowel": "u",
           "vowel_length": 0.0943383052945137
          },
          {
           "consonant": null,
           "consonant_length": null,
           "pitch": 6.141666412353516,
           "text": "イ",
           "vowel": "i",
           "vowel_length": 0.10985297709703445
          },
          {
           "consonant": "t",
           "consonant_length": 0.0755748525261879,
           "pitch": 5.8636698722839355,
           "text": "テ",
           "vowel": "e",
           "vowel_length": 0.1951354593038559
          }
         ],
         "pause_mora": {
          "consonant": null,
          "consonant_length": null,
          "pitch": 0,
          "text": "、",
          "vowel": "pau",
          "vowel_length": 0.35545700788497925
         }
        },
        {
         "accent": 1,
         "is_interrogative": false,
         "moras": [
          {
           "consonant": "j",
           "consonant_length": 0.0838865414261818,
           "pitch": 5.786105155944824,
           "text": "ジャ",
           "vowel": "a",
           "vowel_length": 0.11748356372117996
          },
          {
           "consonant": "k",
           "consonant_length": 0.06574956327676773,
           "pitch": 0,
           "text": "ク",
           "vowel": "U",
           "vowel_length": 0.07105384021997452
          },
          {
           "consonant": "s",
           "consonant_length": 0.09789843112230301,
           "pitch": 5.971665859222412,
           "text": "サ",
           "vowel": "a",
           "vowel_length": 0.11205333471298218
          },
          {
           "consonant": "w",
           "consonant_length": 0.058299995958805084,
           "pitch": 5.727863788604736,
           "text": "ワ",
           "vowel": "a",
           "vowel_length": 0.09333888441324234
          }
         ],
         "pause_mora": null
        },
        {
         "accent": 1,
         "is_interrogative": false,
         "moras": [
          {
           "consonant": "m",
           "consonant_length": 0.08445121347904205,
           "pitch": 5.70734167098999,
           "text": "メ",
           "vowel": "e",
           "vowel_length": 0.14518551528453827
          },
          {
           "consonant": null,
           "consonant_length": null,
           "pitch": 6.113328456878662,
           "text": "イ",
           "vowel": "i",
           "vowel_length": 0.13833554089069366
          },
          {
           "consonant": null,
           "consonant_length": null,
           "pitch": 6.002729415893555,
           "text": "ン",
           "vowel": "N",
           "vowel_length": 0.10126381367444992
          }
         ],
         "pause_mora": null
        },
        {
         "accent": 1,
         "is_interrogative": false,
         "moras": [
          {
           "consonant": null,
           "consonant_length": null,
           "pitch": 5.99270486831665,
           "text": "エ",
           "vowel": "e",
           "vowel_length": 0.13583998382091522
          },
          {
           "consonant": null,
           "consonant_length": null,
           "pitch": 6.096865653991699,
           "text": "ン",
           "vowel": "N",
           "vowel_length": 0.08354916423559189
          },
          {
           "consonant": "j",
           "consonant_length": 0.0635819211602211,
           "pitch": 5.9705023765563965,
           "text": "ジ",
           "vowel": "i",
           "vowel_length": 0.11618920415639877
          },
          {
           "consonant": null,
           "consonant_length": null,
           "pitch": 5.8466691970825195,
           "text": "ン",
           "vowel": "N",
           "vowel_length": 0.07747451215982437
          },
          {
           "consonant": "n",
           "consonant_length": 0.039489567279815674,
           "pitch": 5.625186920166016,
           "text": "ニ",
           "vowel": "i",
           "vowel_length": 0.09664583206176758
          }
         ],
         "pause_mora": null
        },
        {
         "accent": 1,
         "is_interrogative": false,
         "moras": [
          {
           "consonant": "d",
           "consonant_length": 0.06327458471059799,
           "pitch": 5.711406707763672,
           "text": "デ",
           "vowel": "e",
           "vowel_length": 0.155137836933136
          },
          {
           "consonant": null,
           "consonant_length": null,
           "pitch": 6.065389633178711,
           "text": "ン",
           "vowel": "N",
           "vowel_length": 0.08638597279787064
          },
          {
           "consonant": "ry",
           "consonant_length": 0.052678026258945465,
           "pitch": 6.003744602203369,
           "text": "リョ",
           "vowel": "o",
           "vowel_length": 0.1009000837802887
          },
          {
           "consonant": "k",
           "consonant_length": 0.08361764997243881,
           "pitch": 5.767680644989014,
           "text": "ク",
           "vowel": "u",
           "vowel_length": 0.07607870548963547
          },
          {
           "consonant": null,
           "consonant_length": null,
           "pitch": 5.616870880126953,
           "text": "オ",
           "vowel": "o",
           "vowel_length": 0.13986070454120636
          }
         ],
         "pause_mora": null
        },
        {
         "accent": 4,
         "is_interrogative": false,
         "moras": [
          {
           "consonant": "ky",
           "consonant_length": 0.12371142953634262,
           "pitch": 5.6398820877075195,
           "text": "キョ",
           "vowel": "o",
           "vowel_length": 0.08233533799648285
          },
          {
           "consonant": null,
           "consonant_length": null,
           "pitch": 5.7745208740234375,
           "text": "オ",
           "vowel": "o",
           "vowel_length": 0.11457380652427673
          },
          {
           "consonant": "ky",
           "consonant_length": 0.12425682693719864,
           "pitch": 5.958701133728027,
           "text": "キュ",
           "vowel": "u",
           "vowel_length": 0.0687066838145256
          },
          {
           "consonant": null,
           "consonant_length": null,
           "pitch": 5.971423625946045,
           "text": "ウ",
           "vowel": "u",
           "vowel_length": 0.08334653824567795
          }
         ],
         "pause_mora": null
        },
        {
         "accent": 2,
         "is_interrogative": false,
         "moras": [
          {
           "consonant": "s",
           "consonant_length": 0.08827169984579086,
           "pitch": 5.9976983070373535,
           "text": "ス",
           "vowel": "u",
           "vowel_length": 0.07690293341875076
          },
          {
           "consonant": "r",
           "consonant_length": 0.03841166943311691,
           "pitch": 6.002203941345215,
           "text": "ル",
           "vowel": "u",
           "vowel_length": 0.09329032152891159
          }
         ],
         "pause_mora": null
        },
        {
         "accent": 2,
         "is_interrogative": false,
         "moras": [
          {
           "consonant": "r",
           "consonant_length": 0.04618271440267563,
           "pitch": 5.997806549072266,
           "text": "ロ",
           "vowel": "o",
           "vowel_length": 0.11512802541255951
          },
          {
           "consonant": "k",
           "consonant_length": 0.0807739645242691,
           "pitch": 6.132528305053711,
           "text": "ケ",
           "vowel": "e",
           "vowel_length": 0.15304061770439148
          },
          {
           "consonant": null,
           "consonant_length": null,
           "pitch": 0,
           "text": "ッ",
           "vowel": "cl",
           "vowel_length": 0.068072609603405
          },
          {
           "consonant": "t",
           "consonant_length": 0.07182463258504868,
           "pitch": 6.072491645812988,
           "text": "ト",
           "vowel": "o",
           "vowel_length": 0.09584493190050125
          },
          {
           "consonant": "n",
           "consonant_length": 0.06573190540075302,
           "pitch": 5.803221225738525,
           "text": "ノ",
           "vowel": "o",
           "vowel_length": 0.12851418554782867
          }
         ],
         "pause_mora": null
        },
        {
         "accent": 4,
         "is_interrogative": false,
         "moras": [
          {
           "consonant": null,
           "consonant_length": null,
           "pitch": 5.577455997467041,
           "text": "イ",
           "vowel": "i",
           "vowel_length": 0.08891754597425461
          },
          {
           "consonant": "ch",
           "consonant_length": 0.07495518773794174,
           "pitch": 5.707629203796387,
           "text": "チ",
           "vowel": "i",
           "vowel_length": 0.06554665416479111
          },
          {
           "consonant": "d",
           "consonant_length": 0.05587349086999893,
           "pitch": 5.845548152923584,
           "text": "ダ",
           "vowel": "a",
           "vowel_length": 0.16812357306480408
          },
          {
           "consonant": null,
           "consonant_length": null,
           "pitch": 5.960162162780762,
           "text": "ン",
           "vowel": "N",
           "vowel_length": 0.07459015399217606
          },
          {
           "consonant": "m",
           "consonant_length": 0.04588177055120468,
           "pitch": 5.982588768005371,
           "text": "メ",
           "vowel": "e",
           "vowel_length": 0.10134763270616531
          },
          {
           "consonant": "n",
           "consonant_length": 0.06650054454803467,
           "pitch": 5.8629150390625,
           "text": "ニ",
           "vowel": "i",
           "vowel_length": 0.09280858933925629
          }
         ],
         "pause_mora": null
        },
        {
         "accent": 1,
         "is_interrogative": false,
         "moras": [
          {
           "consonant": null,
           "consonant_length": null,
           "pitch": 5.836124420166016,
           "text": "ア",
           "vowel": "a",
           "vowel_length": 0.14026565849781036
          },
          {
           "consonant": "r",
           "consonant_length": 0.037473924458026886,
           "pitch": 5.85386848449707,
           "text": "ル",
           "vowel": "u",
           "vowel_length": 0.08840418606996536
          }
         ],
         "pause_mora": null
        },
        {
         "accent": 1,
         "is_interrogative": false,
         "moras": [
          {
           "consonant": "k",
           "consonant_length": 0.0727020874619484,
           "pitch": 5.755637168884277,
           "text": "キ",
           "vowel": "i",
           "vowel_length": 0.08042076975107193
          },
          {
           "consonant": "k",
           "consonant_length": 0.07046746462583542,
           "pitch": 5.847583770751953,
           "text": "キ",
           "vowel": "i",
           "vowel_length": 0.07514046877622604
          },
          {
           "consonant": "d",
           "consonant_length": 0.052945755422115326,
           "pitch": 5.709319114685059,
           "text": "デ",
           "vowel": "e",
           "vowel_length": 0.09624826163053513
          }
         ],
         "pause_mora": null
        },
        {
         "accent": 5,
         "is_interrogative": false,
         "moras": [
          {
           "consonant": "m",
           "consonant_length": 0.06625094264745712,
           "pitch": 5.586277961730957,
           "text": "モ",
           "vowel": "o",
           "vowel_length": 0.12979240715503693
          },
          {
           "consonant": null,
           "consonant_length": null,
           "pitch": 5.762784481048584,
           "text": "ン",
           "vowel": "N",
           "vowel_length": 0.07795720547437668
          },
          {
           "consonant": "d",
           "consonant_length": 0.03840882331132889,
           "pitch": 5.8652729988098145,
           "text": "ダ",
           "vowel": "a",
           "vowel_length": 0.1283220797777176
          },
          {
           "consonant": null,
           "consonant_length": null,
           "pitch": 5.902742862701416,
           "text": "イ",
           "vowel": "i",
           "vowel_length": 0.08037573844194412
          },
          {
           "consonant": "g",
           "consonant_length": 0.058799974620342255,
           "pitch": 5.920594215393066,
           "text": "ガ",
           "vowel": "a",
           "vowel_length": 0.10894639045000076
          }
         ],
         "pause_mora": null
        },
        {
         "accent": 4,
         "is_interrogative": false,
         "moras": [
          {
           "consonant": "h",
           "consonant_length": 0.0899384617805481,
           "pitch": 5.840731620788574,
           "text": "ハ",
           "vowel": "a",
           "vowel_length": 0.12083318084478378
          },
          {
           "consonant": null,
           "consonant_length": null,
           "pitch": 0,
           "text": "ッ",
           "vowel": "cl",
           "vowel_length": 0.06901576370000839
          },
          {
           "consonant": "s",
           "consonant_length": 0.09658951312303543,
           "pitch": 6.012699127197266,
           "text": "セ",
           "vowel": "e",
           "vowel_length": 0.10311400145292282
          },
          {
           "consonant": null,
           "consonant_length": null,
           "pitch": 6.061579704284668,
           "text": "エ",
           "vowel": "e",
           "vowel_length": 0.09821154177188873
          }
         ],
         "pause_mora": null
        },
        {
         "accent": 2,
         "is_interrogative": false,
         "moras": [
          {
           "consonant": "sh",
           "consonant_length": 0.041299983859062195,
           "pitch": 0,
           "text": "シ",
           "vowel": "I",
           "vowel_length": 0.06175995618104935
          },
          {
           "consonant": "t",
           "consonant_length": 0.06061101704835892,
           "pitch": 6.150442600250244,
           "text": "タ",
           "vowel": "a",
           "vowel_length": 0.09897372871637344
          },
          {
           "consonant": "t",
           "consonant_length": 0.06534307450056076,
           "pitch": 6.047672271728516,
           "text": "ト",
           "vowel": "o",
           "vowel_length": 0.09643193334341049
          }
         ],
         "pause_mora": null
        },
        {
         "accent": 2,
         "is_interrogative": false,
         "moras": [
          {
           "consonant": "s",
           "consonant_length": 0.08342035114765167,
           "pitch": 5.775914192199707,
           "text": "ス",
           "vowel": "u",
           "vowel_length": 0.07402543723583221
          },
          {
           "consonant": "r",
           "consonant_length": 0.03362803906202316,
           "pitch": 5.642457008361816,
           "text": "ル",
           "vowel": "u",
           "vowel_length": 0.10372122377157211
          }
         ],
         "pause_mora": null
        },
        {
         "accent": 1,
         "is_interrogative": false,
         "moras": [
          {
           "consonant": "ch",
           "consonant_length": 0.09345779567956924,
           "pitch": 5.937013149261475,
           "text": "チョ",
           "vowel": "o",
           "vowel_length": 0.08321911841630936
          },
          {
           "consonant": null,
           "consonant_length": null,
           "pitch": 5.971704959869385,
           "text": "オ",
           "vowel": "o",
           "vowel_length": 0.09707999229431152
          },
          {
           "consonant": "s",
           "consonant_length": 0.07194369286298752,
           "pitch": 5.752281188964844,
           "text": "サ",
           "vowel": "a",
           "vowel_length": 0.1039137989282608
          }
         ],
         "pause_mora": null
        },
        {
         "accent": 4,
         "is_interrogative": false,
         "moras": [
          {
           "consonant": "k",
           "consonant_length": 0.06704362481832504,
           "pitch": 5.550336837768555,
           "text": "ケ",
           "vowel": "e",
           "vowel_length": 0.1398831456899643
          },
          {
           "consonant": null,
           "consonant_length": null,
           "pitch": 0,
           "text": "ッ",
           "vowel": "cl",
           "vowel_length": 0.0734109953045845
          },
          {
           "consonant": "k",
           "consonant_length": 0.08636074513196945,
           "pitch": 5.87466287612915,
           "text": "カ",
           "vowel": "a",
           "vowel_length": 0.1097811684012413
          },
          {
           "consonant": null,
           "consonant_length": null,
           "pitch": 5.931702136993408,
           "text": "オ",
           "vowel": "o",
           "vowel_length": 0.11252463608980179
          }
         ],
         "pause_mora": null
        },
        {
         "accent": 4,
         "is_interrogative": false,
         "moras": [
          {
           "consonant": "h",
           "consonant_length": 0.09267809242010117,
           "pitch": 5.9426093101501465,
           "text": "ホ",
           "vowel": "o",
           "vowel_length": 0.08180669695138931
          },
          {
           "consonant": null,
           "consonant_length": null,
           "pitch": 5.987062454223633,
           "text": "オ",
           "vowel": "o",
           "vowel_length": 0.10382891446352005
          },
          {
           "consonant": "k",
           "consonant_length": 0.06106314808130264,
           "pitch": 6.032412052154541,
           "text": "コ",
           "vowel": "o",
           "vowel_length": 0.09673336893320084
          },
          {
           "consonant": "k",
           "consonant_length": 0.0646948292851448,
           "pitch": 0,
           "text": "ク",
           "vowel": "U",
           "vowel_length": 0.05295008420944214
          }
         ],
         "pause_mora": null
        },
        {
         "accent": 2,
         "is_interrogative": false,
         "moras": [
          {
           "consonant": "sh",
           "consonant_length": 0.07130665332078934,
           "pitch": 6.0988264083862305,
           "text": "シ",
           "vowel": "i",
           "vowel_length": 0.07618993520736694
          },
          {
           "consonant": "m",
           "consonant_length": 0.05844121426343918,
           "pitch": 6.122908592224121,
           "text": "マ",
           "vowel": "a",
           "vowel_length": 0.10849950462579727
          },
          {
           "consonant": "sh",
           "consonant_length": 0.03257254511117935,
           "pitch": 0,
           "text": "シ",
           "vowel": "I",
           "vowel_length": 0.05915379524230957
          },
          {
           "consonant": "t",
           "consonant_length": 0.06412342935800552,
           "pitch": 5.872570991516113,
           "text": "タ",
           "vowel": "a",
           "vowel_length": 0.19866879284381866
          }
         ],
         "pause_mora": {
          "consonant": null,
          "consonant_length": null,
          "pitch": 0,
          "text": "、",
          "vowel": "pau",
          "vowel_length": 0.3997633457183838
         }
        },
        {
         "accent": 5,
         "is_interrogative": false,
         "moras": [
          {
           "consonant": "g",
           "consonant_length": 0.0814567282795906,
           "pitch": 5.667274475097656,
           "text": "ゲ",
           "vowel": "e",
           "vowel_length": 0.18415670096874237
          },
          {
           "consonant": null,
           "consonant_length": null,
           "pitch": 5.913571357727051,
           "text": "ン",
           "vowel": "N",
           "vowel_length": 0.12302488833665848
          },
          {
           "consonant": null,
           "consonant_length": null,
           "pitch": 5.981060028076172,
           "text": "イ",
           "vowel": "i",
           "vowel_length": 0.16427631676197052
          },
          {
           "consonant": null,
           "consonant_length": null,
           "pitch": 5.994185447692871,
           "text": "ン",
           "vowel": "N",
           "vowel_length": 0.08282747119665146
          },
          {
           "consonant": null,
           "consonant_length": null,
           "pitch": 6.019648551940918,
           "text": "オ",
           "vowel": "o",
           "vowel_length": 0.12724052369594574
          }
         ],
         "pause_mora": null
        },
        {
         "accent": 4,
         "is_interrogative": false,
         "moras": [
          {
           "consonant": "ky",
           "consonant_length": 0.12502257525920868,
           "pitch": 6.032364845275879,
           "text": "キュ",
           "vowel": "u",
           "vowel_length": 0.09149424731731415
          },
          {
           "consonant": null,
           "consonant_length": null,
           "pitch": 6.067460060119629,
           "text": "ウ",
           "vowel": "u",
           "vowel_length": 0.0918101817369461
          },
          {
           "consonant": "m",
           "consonant_length": 0.07046139985322952,
           "pitch": 6.09609842300415,
           "text": "メ",
           "vowel": "e",
           "vowel_length": 0.10251528769731522
          },
          {
           "consonant": null,
           "consonant_length": null,
           "pitch": 6.1207733154296875,
           "text": "エ",
           "vowel": "e",
           "vowel_length": 0.10305755585432053
          }
         ],
         "pause_mora": null
        },
        {
         "accent": 2,
         "is_interrogative": false,
         "moras": [
          {
           "consonant": "sh",
           "consonant_length": 0.04081600159406662,
           "pitch": 0,
           "text": "シ",
           "vowel": "I",
           "vowel_length": 0.06271358579397202
          },
          {
           "consonant": "t",
           "consonant_length": 0.06348452717065811,
           "pitch": 6.145394325256348,
           "text": "タ",
           "vowel": "a",
           "vowel_length": 0.14657147228717804
          }
         ],
         "pause_mora": null
        },
        {
         "accent": 3,
         "is_interrogative": false,
         "moras": [
          {
           "consonant": null,
           "consonant_length": null,
           "pitch": 6.152247428894043,
           "text": "ウ",
           "vowel": "u",
           "vowel_length": 0.09851313382387161
          },
          {
           "consonant": null,
           "consonant_length": null,
           "pitch": 6.164099216461182,
           "text": "エ",
           "vowel": "e",
           "vowel_length": 0.13897962868213654
          },
          {
           "consonant": "d",
           "consonant_length": 0.05247552692890167,
           "pitch": 6.167284965515137,
           "text": "デ",
           "vowel": "e",
           "vowel_length": 0.2153920829296112
          }
         ],
         "pause_mora": {
          "consonant": null,
          "consonant_length": null,
          "pitch": 0,
          "text": "、",
          "vowel": "pau",
          "vowel_length": 0.4314618706703186
         }
        },
        {
         "accent": 1,
         "is_interrogative": false,
         "moras": [
          {
           "consonant": "r",
           "consonant_length": 0.0729520246386528,
           "pitch": 6.022218704223633,
           "text": "ラ",
           "vowel": "a",
           "vowel_length": 0.1592312604188919
          },
          {
           "consonant": null,
           "consonant_length": null,
           "pitch": 6.16154146194458,
           "text": "イ",
           "vowel": "i",
           "vowel_length": 0.09324388206005096
          },
          {
           "consonant": "g",
           "consonant_length": 0.060591794550418854,
           "pitch": 6.051186561584473,
           "text": "ゲ",
           "vowel": "e",
           "vowel_length": 0.12779837846755981
          },
          {
           "consonant": "ts",
           "consonant_length": 0.06290285289287567,
           "pitch": 0,
           "text": "ツ",
           "vowel": "U",
           "vowel_length": 0.06345881521701813
          }
         ],
         "pause_mora": null
        },
        {
         "accent": 4,
         "is_interrogative": false,
         "moras": [
          {
           "consonant": "t",
           "consonant_length": 0.08920881152153015,
           "pitch": 5.7204484939575195,
           "text": "ト",
           "vowel": "o",
           "vowel_length": 0.10907024890184402
          },
          {
           "consonant": null,
           "consonant_length": null,
           "pitch": 5.823749542236328,
           "text": "オ",
           "vowel": "o",
           "vowel_length": 0.1117284968495369
          },
          {
           "consonant": "k",
           "consonant_length": 0.0640941932797432,
           "pitch": 5.996872901916504,
           "text": "カ",
           "vowel": "a",
           "vowel_length": 0.08483955264091492
          },
          {
           "consonant": "m",
           "consonant_length": 0.05737776309251785,
           "pitch": 6.034642219543457,
           "text": "マ",
           "vowel": "a",
           "vowel_length": 0.09577766805887222
          },
          {
           "consonant": "d",
           "consonant_length": 0.05332738161087036,
           "pitch": 6.043057441711426,
           "text": "デ",
           "vowel": "e",
           "vowel_length": 0.09302430599927902
          },
          {
           "consonant": "n",
           "consonant_length": 0.058302074670791626,
           "pitch": 5.845983505249023,
           "text": "ニ",
           "vowel": "i",
           "vowel_length": 0.10449225455522537
          }
         ],
         "pause_mora": null
        },
        {
         "accent": 4,
         "is_interrogative": false,
         "moras": [
          {
           "consonant": "f",
           "consonant_length": 0.05082987993955612,
           "pitch": 0,
           "text": "フ",
           "vowel": "U",
           "vowel_length": 0.05633369833230972
          },
          {
           "consonant": "t",
           "consonant_length": 0.06697056442499161,
           "pitch": 5.737245559692383,
           "text": "タ",
           "vowel": "a",
           "vowel_length": 0.11128590255975723
          },
          {
           "consonant": "t",
           "consonant_length": 0.06013031303882599,
           "pitch": 5.980376243591309,
           "text": "タ",
           "vowel": "a",
           "vowel_length": 0.110200434923172
          },
          {
           "consonant": "b",
           "consonant_length": 0.0719619169831276,
           "pitch": 5.97659969329834,
           "text": "ビ",
           "vowel": "i",
           "vowel_length": 0.09788995236158371
          }
         ],
         "pause_mora": null
        },
        {
         "accent": 5,
         "is_interrogative": false,
         "moras": [
          {
           "consonant": null,
           "consonant_length": null,
           "pitch": 5.840900421142578,
           "text": "ウ",
           "vowel": "u",
           "vowel_length": 0.09856567531824112
          },
          {
           "consonant": "ch",
           "consonant_length": 0.09545347839593887,
           "pitch": 5.932088375091553,
           "text": "チ",
           "vowel": "i",
           "vowel_length": 0.08579064160585403
          },
          {
           "consonant": null,
           "consonant_length": null,
           "pitch": 6.002202033996582,
           "text": "ア",
           "vowel": "a",
           "vowel_length": 0.13512149453163147
          },
          {
           "consonant": "g",
           "consonant_length": 0.0656900554895401,
           "pitch": 6.037177085876465,
           "text": "ゲ",
           "vowel": "e",
           "vowel_length": 0.09569578617811203
          },
          {
           "consonant": "n",
           "consonant_length": 0.04845096170902252,
           "pitch": 6.064704895019531,
           "text": "ニ",
           "vowel": "i",
           "vowel_length": 0.08693801611661911
          }
         ],
         "pause_mora": null
        },
        {
         "accent": 3,
         "is_interrogative": false,
         "moras": [
          {
           "consonant": "n",
           "consonant_length": 0.058512747287750244,
           "pitch": 6.01767635345459,
           "text": "ノ",
           "vowel": "o",
           "vowel_length": 0.10742517560720444
          },
          {
           "consonant": "z",
           "consonant_length": 0.07768101245164871,
           "pitch": 6.020387649536133,
           "text": "ゾ",
           "vowel": "o",
           "vowel_length": 0.08884640783071518
          },
          {
           "consonant": "m",
           "consonant_length": 0.06511959433555603,
           "pitch": 6.115072250366211,
           "text": "ム",
           "vowel": "u",
           "vowel_length": 0.0869116261601448
          }
         ],
         "pause_mora": null
        },
        {
         "accent": 5,
         "is_interrogative": false,
         "moras": [
          {
           "consonant": "h",
           "consonant_length": 0.08186104148626328,
           "pitch": 6.089117527008057,
           "text": "ホ",
           "vowel": "o",
           "vowel_length": 0.07776907086372375
          },
          {
           "consonant": null,
           "consonant_length": null,
           "pitch": 6.119180679321289,
           "text": "オ",
           "vowel": "o",
           "vowel_length": 0.09589201211929321
          },
          {
           "consonant": "sh",
           "consonant_length": 0.10095773637294769,
           "pitch": 6.165900230407715,
           "text": "シ",
           "vowel": "i",
           "vowel_length": 0.11359268426895142
          },
          {
           "consonant": null,
           "consonant_length": null,
           "pitch": 6.161855697631836,
           "text": "ン",
           "vowel": "N",
           "vowel_length": 0.0818004384636879
          },
          {
           "consonant": "d",
           "consonant_length": 0.02763032354414463,
           "pitch": 6.159719467163086,
           "text": "ダ",
           "vowel": "a",
           "vowel_length": 0.11093173921108246
          }
         ],
         "pause_mora": null
        },
        {
         "accent": 3,
         "is_interrogative": false,
         "moras": [
          {
           "consonant": "s",
           "consonant_length": 0.10373149067163467,
           "pitch": 6.044770240783691,
           "text": "ソ",
           "vowel": "o",
           "vowel_length": 0.0811021700501442
          },
          {
           "consonant": null,
           "consonant_length": null,
           "pitch": 6.08860969543457,
           "text": "オ",
           "vowel": "o",
           "vowel_length": 0.09370237588882446
          },
          {
           "consonant": "d",
           "consonant_length": 0.05372310429811478,
           "pitch": 6.11124849319458,
           "text": "デ",
           "vowel": "e",
           "vowel_length": 0.12934884428977966
          },
          {
           "consonant": "s",
           "consonant_length": 0.05687844753265381,
           "pitch": 0,
           "text": "ス",
           "vowel": "U",
           "vowel_length": 0.09847686439752579
          }
         ],
         "pause_mora": {
          "consonant": null,
          "consonant_length": null,
          "pitch": 0,
          "text": "、",
          "vowel": "pau",
          "vowel_length": 0.3175904452800751
         }
        },
        {
         "accent": 5,
         "is_interrogative": false,
         "moras": [
          {
           "consonant": "h",
           "consonant_length": 0.11806974560022354,
           "pitch": 5.684681415557861,
           "text": "ホ",
           "vowel": "o",
           "vowel_length": 0.09398972243070602
          },
          {
           "consonant": null,
           "consonant_length": null,
           "pitch": 5.893044948577881,
           "text": "オ",
           "vowel": "o",
           "vowel_length": 0.11144130676984787
          },
          {
           "consonant": "k",
           "consonant_length": 0.06521257758140564,
           "pitch": 6.026915550231934,
           "text": "コ",
           "vowel": "o",
           "vowel_length": 0.10090772807598114
          },
          {
           "consonant": "k",
           "consonant_length": 0.06398569047451019,
           "pitch": 6.084103107452393,
           "text": "ク",
           "vowel": "u",
           "vowel_length": 0.07200901955366135
          },
          {
           "consonant": "n",
           "consonant_length": 0.05595578998327255,
           "pitch": 6.091618537902832,
           "text": "ニ",
           "vowel": "i",
           "vowel_length": 0.10634069889783859
          }
         ],
         "pause_mora": null
        },
        {
         "accent": 2,
         "is_interrogative": false,
         "moras": [
          {
           "consonant": "y",
           "consonant_length": 0.06295523047447205,
           "pitch": 6.112174034118652,
           "text": "ヨ",
           "vowel": "o",
           "vowel_length": 0.09212518483400345
          },
          {
           "consonant": "r",
           "consonant_length": 0.04178418964147568,
           "pitch": 6.117406368255615,
           "text": "レ",
           "vowel": "e",
           "vowel_length": 0.12343958765268326
          },
          {
           "consonant": "b",
           "consonant_length": 0.052277855575084686,
           "pitch": 5.9589715003967285,
           "text": "バ",
           "vowel": "a",
           "vowel_length": 0.21060293912887573
          }
         ],
         "pause_mora": {
          "consonant": null,
          "consonant_length": null,
          "pitch": 0,
          "text": "、",
          "vowel": "pau",
          "vowel_length": 0.39379820227622986
         }
        },
        {
         "accent": 1,
         "is_interrogative": false,
         "moras": [
          {
           "consonant": "m",
           "consonant_length": 0.10859433561563492,
           "pitch": 5.843934535980225,
           "text": "メ",
           "vowel": "e",
           "vowel_length": 0.1657104194164276
          },
          {
           "consonant": null,
           "consonant_length": null,
           "pitch": 6.085683345794678,
           "text": "イ",
           "vowel": "i",
           "vowel_length": 0.1601136177778244
          },
          {
           "consonant": null,
           "consonant_length": null,
           "pitch": 6.033870697021484,
           "text": "ン",
           "vowel": "N",
           "vowel_length": 0.11895901709794998
          }
         ],
         "pause_mora": null
        },
        {
         "accent": 1,
         "is_interrogative": false,
         "moras": [
          {
           "consonant": null,
           "consonant_length": null,
           "pitch": 6.083405017852783,
           "text": "エ",
           "vowel": "e",
           "vowel_length": 0.15658621490001678
          },
          {
           "consonant": null,
           "consonant_length": null,
           "pitch": 6.166276931762695,
           "text": "ン",
           "vowel": "N",
           "vowel_length": 0.09024707227945328
          },
          {
           "consonant": "j",
           "consonant_length": 0.06334219127893448,
           "pitch": 6.088445663452148,
           "text": "ジ",
           "vowel": "i",
           "vowel_length": 0.11475101858377457
          },
          {
           "consonant": null,
           "consonant_length": null,
           "pitch": 5.985743999481201,
           "text": "ン",
           "vowel": "N",
           "vowel_length": 0.08163688331842422
          },
          {
           "consonant": "n",
           "consonant_length": 0.04450013488531113,
           "pitch": 5.742031097412109,
           "text": "ノ",
           "vowel": "o",
           "vowel_length": 0.11153870820999146
          }
         ],
         "pause_mora": null
        },
        {
         "accent": 5,
         "is_interrogative": false,
         "moras": [
          {
           "consonant": "n",
           "consonant_length": 0.07134813815355301,
           "pitch": 5.585699081420898,
           "text": "ネ",
           "vowel": "e",
           "vowel_length": 0.13996484875679016
          },
          {
           "consonant": null,
           "consonant_length": null,
           "pitch": 5.717473983764648,
           "text": "ン",
           "vowel": "N",
           "vowel_length": 0.08188557624816895
          },
          {
           "consonant": "sh",
           "consonant_length": 0.09373582154512405,
           "pitch": 5.849214553833008,
           "text": "ショ",
           "vowel": "o",
           "vowel_length": 0.0908646211028099
          },
          {
           "consonant": null,
           "consonant_length": null,
           "pitch": 5.86611795425415,
           "text": "オ",
           "vowel": "o",
           "vowel_length": 0.08860798925161362
          },
          {
           "consonant": "g",
           "consonant_length": 0.05730992555618286,
           "pitch": 5.863527297973633,
           "text": "ガ",
           "vowel": "a",
           "vowel_length": 0.10505817085504532
          }
         ],
         "pause_mora": null
        },
        {
         "accent": 5,
         "is_interrogative": false,
         "moras": [
          {
           "consonant": "h",
           "consonant_length": 0.08143112808465958,
           "pitch": 5.790505886077881,
           "text": "ハ",
           "vowel": "a",
           "vowel_length": 0.10386527329683304
          },
          {
           "consonant": "j",
           "consonant_length": 0.06456976383924484,
           "pitch": 5.794282913208008,
           "text": "ジ",
           "vowel": "i",
           "vowel_length": 0.06840191036462784
          },
          {
           "consonant": "m",
           "consonant_length": 0.06382160633802414,
           "pitch": 5.933498382568359,
           "text": "マ",
           "vowel": "a",
           "vowel_length": 0.14736516773700714
          },
          {
           "consonant": null,
           "consonant_length": null,
           "pitch": 0,
           "text": "ッ",
           "vowel": "cl",
           "vowel_length": 0.069368876516819
          },
          {
           "consonant": "t",
           "consonant_length": 0.06766023486852646,
           "pitch": 6.069343566894531,
           "text": "タ",
           "vowel": "a",
           "vowel_length": 0.11037334054708481
          }
         ],
         "pause_mora": null
        },
        {
         "accent": 1,
         "is_interrogative": false,
         "moras": [
          {
           "consonant": null,
           "consonant_length": null,
           "pitch": 6.073184967041016,
           "text": "ア",
           "vowel": "a",
           "vowel_length": 0.12293262034654617
          },
          {
           "consonant": "t",
           "consonant_length": 0.07656797021627426,
           "pitch": 5.850886344909668,
           "text": "ト",
           "vowel": "o",
           "vowel_length": 0.17455892264842987
          }
         ],
         "pause_mora": {
          "consonant": null,
          "consonant_length": null,
          "pitch": 0,
          "text": "、",
          "vowel": "pau",
          "vowel_length": 0.37630495429039
         }
        },
        {
         "accent": 5,
         "is_interrogative": false,
         "moras": [
          {
           "consonant": "n",
           "consonant_length": 0.10294336825609207,
           "pitch": 5.603029727935791,
           "text": "ネ",
           "vowel": "e",
           "vowel_length": 0.13955055177211761
          },
          {
           "consonant": null,
           "consonant_length": null,
           "pitch": 5.89639949798584,
           "text": "ン",
           "vowel": "N",
           "vowel_length": 0.08838678896427155
          },
          {
           "consonant": "sh",
           "consonant_length": 0.11401808261871338,
           "pitch": 6.009868621826172,
           "text": "ショ",
           "vowel": "o",
           "vowel_length": 0.11578969657421112
          },
          {
           "consonant": null,
           "consonant_length": null,
           "pitch": 6.02036190032959,
           "text": "オ",
           "vowel": "o",
           "vowel_length": 0.10370656102895737
          },
          {
           "consonant": null,
           "consonant_length": null,
           "pitch": 6.024631977081299,
           "text": "オ",
           "vowel": "o",
           "vowel_length": 0.1075885072350502
          }
         ],
         "pause_mora": null
        },
        {
         "accent": 4,
         "is_interrogative": false,
         "moras": [
          {
           "consonant": "ch",
           "consonant_length": 0.09430194646120071,
           "pitch": 6.014166831970215,
           "text": "チョ",
           "vowel": "o",
           "vowel_length": 0.08478536456823349
          },
          {
           "consonant": null,
           "consonant_length": null,
           "pitch": 6.04148006439209,
           "text": "オ",
           "vowel": "o",
           "vowel_length": 0.10091864317655563
          },
          {
           "consonant": "s",
           "consonant_length": 0.09093872457742691,
           "pitch": 6.108320236206055,
           "text": "セ",
           "vowel": "e",
           "vowel_length": 0.1054786890745163
          },
          {
           "consonant": null,
           "consonant_length": null,
           "pitch": 6.111353874206543,
           "text": "エ",
           "vowel": "e",
           "vowel_length": 0.09613864868879318
          }
         ],
         "pause_mora": null
        },
        {
         "accent": 2,
         "is_interrogative": false,
         "moras": [
          {
           "consonant": "s",
           "consonant_length": 0.07722120732069016,
           "pitch": 6.120409965515137,
           "text": "ス",
           "vowel": "u",
           "vowel_length": 0.07458426803350449
          },
          {
           "consonant": "r",
           "consonant_length": 0.04058867692947388,
           "pitch": 6.11043119430542,
           "text": "ル",
           "vowel": "u",
           "vowel_length": 0.09933920949697495
          }
         ],
         "pause_mora": null
        },
        {
         "accent": 1,
         "is_interrogative": false,
         "moras": [
          {
           "consonant": "k",
           "consonant_length": 0.07252595573663712,
           "pitch": 6.163980007171631,
           "text": "キ",
           "vowel": "i",
           "vowel_length": 0.08445704728364944
          },
          {
           "consonant": "k",
           "consonant_length": 0.07435401529073715,
           "pitch": 6.183618545532227,
           "text": "キ",
           "vowel": "i",
           "vowel_length": 0.07323992252349854
          },
          {
           "consonant": "n",
           "consonant_length": 0.05387962609529495,
           "pitch": 5.920714378356934,
           "text": "ニ",
           "vowel": "i",
           "vowel_length": 0.09153278917074203
          }
         ],
         "pause_mora": null
        },
        {
         "accent": 1,
         "is_interrogative": false,
         "moras": [
          {
           "consonant": "d",
           "consonant_length": 0.05943281203508377,
           "pitch": 5.784504413604736,
           "text": "デ",
           "vowel": "e",
           "vowel_length": 0.15473707020282745
          },
          {
           "consonant": null,
           "consonant_length": null,
           "pitch": 6.094351768493652,
           "text": "ン",
           "vowel": "N",
           "vowel_length": 0.08369763940572739
          },
          {
           "consonant": "ry",
           "consonant_length": 0.05324738472700119,
           "pitch": 6.04024600982666,
           "text": "リョ",
           "vowel": "o",
           "vowel_length": 0.1009000837802887
          },
          {
           "consonant": "k",
           "consonant_length": 0.08361764997243881,
           "pitch": 5.8106303215026855,
           "text": "ク",
           "vowel": "u",
           "vowel_length": 0.07607870548963547
          },
          {
           "consonant": null,
           "consonant_length": null,
           "pitch": 5.654504776000977,
           "text": "オ",
           "vowel": "o",
           "vowel_length": 0.13986070454120636
          }
         ],
         "pause_mora": null
        },
        {
         "accent": 4,
         "is_interrogative": false,
         "moras": [
          {
           "consonant": "ky",
           "consonant_length": 0.12371142953634262,
           "pitch": 5.635332107543945,
           "text": "キョ",
           "vowel": "o",
           "vowel_length": 0.08233533799648285
          },
          {
           "consonant": null,
           "consonant_length": null,
           "pitch": 5.766504287719727,
           "text": "オ",
           "vowel": "o",
           "vowel_length": 0.11457380652427673
          },
          {
           "consonant": "ky",
           "consonant_length": 0.12425682693719864,
           "pitch": 5.923583984375,
           "text": "キュ",
           "vowel": "u",
           "vowel_length": 0.06960298120975494
          },
          {
           "consonant": null,
           "consonant_length": null,
           "pitch": 5.933985710144043,
           "text": "ウ",
           "vowel": "u",
           "vowel_length": 0.0843702182173729
          }
         ],
         "pause_mora": null
        },
        {
         "accent": 2,
         "is_interrogative": false,
         "moras": [
          {
           "consonant": "s",
           "consonant_length": 0.09409704059362411,
           "pitch": 5.964694976806641,
           "text": "ス",
           "vowel": "u",
           "vowel_length": 0.0998460128903389
          },
          {
           "consonant": "r",
           "consonant_length": 0.03800982981920242,
           "pitch": 5.982326507568359,
           "text": "ル",
           "vowel": "u",
           "vowel_length": 0.1802731156349182
          }
         ],
         "pause_mora": {
          "consonant": null,
          "consonant_length": null,
          "pitch": 0,
          "text": "、",
          "vowel": "pau",
          "vowel_length": 0.5257880091667175
         }
        },
        {
         "accent": 1,
         "is_interrogative": false,
         "moras": [
          {
           "consonant": "b",
           "consonant_length": 0.1062799021601677,
           "pitch": 5.96795654296875,
           "text": "ブ",
           "vowel": "u",
           "vowel_length": 0.13364723324775696
          },
          {
           "consonant": null,
           "consonant_length": null,
           "pitch": 6.184473514556885,
           "text": "イ",
           "vowel": "i",
           "vowel_length": 0.13391076028347015
          },
          {
           "consonant": null,
           "consonant_length": null,
           "pitch": 6.083930015563965,
           "text": "イ",
           "vowel": "i",
           "vowel_length": 0.1422148495912552
          },
          {
           "consonant": "k",
           "consonant_length": 0.0741352066397667,
           "pitch": 5.853697776794434,
           "text": "コ",
           "vowel": "o",
           "vowel_length": 0.15866363048553467
          },
          {
           "consonant": null,
           "consonant_length": null,
           "pitch": 5.784759521484375,
           "text": "ン",
           "vowel": "N",
           "vowel_length": 0.10928120464086533
          },
          {
           "consonant": null,
           "consonant_length": null,
           "pitch": 5.789074897766113,
           "text": "イ",
           "vowel": "i",
           "vowel_length": 0.11411624401807785
          },
          {
           "consonant": "ch",
           "consonant_length": 0.09095319360494614,
           "pitch": 5.7187018394470215,
           "text": "チ",
           "vowel": "i",
           "vowel_length": 0.1438012272119522
          }
         ],
         "pause_mora": {
          "consonant": null,
          "consonant_length": null,
          "pitch": 0,
          "text": "、",
          "vowel": "pau",
          "vowel_length": 0.3723706007003784
         }
        },
        {
         "accent": 1,
         "is_interrogative": false,
         "moras": [
          {
           "consonant": "t",
           "consonant_length": 0.10614294558763504,
           "pitch": 5.803139686584473,
           "text": "ト",
           "vowel": "o",
           "vowel_length": 0.11504446715116501
          }
         ],
         "pause_mora": null
        },
        {
         "accent": 4,
         "is_interrogative": false,
         "moras": [
          {
           "consonant": "y",
           "consonant_length": 0.07227697968482971,
           "pitch": 5.903203010559082,
           "text": "ヨ",
           "vowel": "o",
           "vowel_length": 0.10104150325059891
          },
          {
           "consonant": "b",
           "consonant_length": 0.05594427138566971,
           "pitch": 6.00521183013916,
           "text": "バ",
           "vowel": "a",
           "vowel_length": 0.10695307701826096
          },
          {
           "consonant": "r",
           "consonant_length": 0.03825857490301132,
           "pitch": 6.094696044921875,
           "text": "レ",
           "vowel": "e",
           "vowel_length": 0.09569934010505676
          },
          {
           "consonant": "r",
           "consonant_length": 0.03215823322534561,
           "pitch": 6.063570022583008,
           "text": "ル",
           "vowel": "u",
           "vowel_length": 0.09039799124002457
          }
         ],
         "pause_mora": null
        },
        {
         "accent": 1,
         "is_interrogative": false,
         "moras": [
          {
           "consonant": "s",
           "consonant_length": 0.10458044707775116,
           "pitch": 6.16110897064209,
           "text": "ソ",
           "vowel": "o",
           "vowel_length": 0.09493411332368851
          },
          {
           "consonant": null,
           "consonant_length": null,
           "pitch": 6.168031692504883,
           "text": "オ",
           "vowel": "o",
           "vowel_length": 0.10680795460939407
          },
          {
           "consonant": "ch",
           "consonant_length": 0.0763060599565506,
           "pitch": 5.958976745605469,
           "text": "チ",
           "vowel": "i",
           "vowel_length": 0.07026173919439316
          },
          {
           "consonant": "n",
           "consonant_length": 0.05497240275144577,
           "pitch": 5.6941938400268555,
           "text": "ノ",
           "vowel": "o",
           "vowel_length": 0.10413907468318939
          }
         ],
         "pause_mora": null
        },
        {
         "accent": 1,
         "is_interrogative": false,
         "moras": [
          {
           "consonant": "n",
           "consonant_length": 0.06119588017463684,
           "pitch": 5.615272521972656,
           "text": "ナ",
           "vowel": "a",
           "vowel_length": 0.1358628123998642
          },
          {
           "consonant": null,
           "consonant_length": null,
           "pitch": 5.8775129318237305,
           "text": "イ",
           "vowel": "i",
           "vowel_length": 0.07954505831003189
          },
          {
           "consonant": "b",
           "consonant_length": 0.05677681416273117,
           "pitch": 5.765356540679932,
           "text": "ブ",
           "vowel": "u",
           "vowel_length": 0.07942963391542435
          },
          {
           "consonant": "d",
           "consonant_length": 0.05253464728593826,
           "pitch": 5.62176513671875,
           "text": "デ",
           "vowel": "e",
           "vowel_length": 0.11251043528318405
          }
         ],
         "pause_mora": null
        },
        {
         "accent": 5,
         "is_interrogative": false,
         "moras": [
          {
           "consonant": "d",
           "consonant_length": 0.06132223457098007,
           "pitch": 5.612168312072754,
           "text": "デ",
           "vowel": "e",
           "vowel_length": 0.16845889389514923
          },
          {
           "consonant": null,
           "consonant_length": null,
           "pitch": 5.923565864562988,
           "text": "ン",
           "vowel": "N",
           "vowel_length": 0.093108631670475
          },
          {
           "consonant": "ry",
           "consonant_length": 0.07544892281293869,
           "pitch": 6.0507965087890625,
           "text": "リュ",
           "vowel": "u",
           "vowel_length": 0.08266356587409973
          },
          {
           "consonant": null,
           "consonant_length": null,
           "pitch": 6.043611526489258,
           "text": "ウ",
           "vowel": "u",
           "vowel_length": 0.09242024272680283
          },
          {
           "consonant": "t",
           "consonant_length": 0.06062614172697067,
           "pitch": 5.759355545043945,
           "text": "ト",
           "vowel": "o",
           "vowel_length": 0.10685623437166214
          }
         ],
         "pause_mora": null
        },
        {
         "accent": 5,
         "is_interrogative": false,
         "moras": [
          {
           "consonant": "d",
           "consonant_length": 0.06612477451562881,
           "pitch": 5.644690036773682,
           "text": "デ",
           "vowel": "e",
           "vowel_length": 0.1456298828125
          },
          {
           "consonant": null,
           "consonant_length": null,
           "pitch": 5.896977424621582,
           "text": "ン",
           "vowel": "N",
           "vowel_length": 0.07556468993425369
          },
          {
           "consonant": null,
           "consonant_length": null,
           "pitch": 6.0185651779174805,
           "text": "ア",
           "vowel": "a",
           "vowel_length": 0.12777693569660187
          },
          {
           "consonant": "ts",
           "consonant_length": 0.08421603590250015,
           "pitch": 6.085259914398193,
           "text": "ツ",
           "vowel": "u",
           "vowel_length": 0.061346374452114105
          },
          {
           "consonant": "n",
           "consonant_length": 0.05440215766429901,
           "pitch": 6.10084342956543,
           "text": "ノ",
           "vowel": "o",
           "vowel_length": 0.10279225558042526
          }
         ],
         "pause_mora": null
        },
        {
         "accent": 2,
         "is_interrogative": false,
         "moras": [
          {
           "consonant": "n",
           "consonant_length": 0.0569496750831604,
           "pitch": 6.1054368019104,
           "text": "ネ",
           "vowel": "e",
           "vowel_length": 0.08751732856035233
          },
          {
           "consonant": "g",
           "consonant_length": 0.05812608450651169,
           "pitch": 6.10560417175293,
           "text": "ガ",
           "vowel": "a",
           "vowel_length": 0.11725486069917679
          }
         ],
         "pause_mora": null
        },
        {
         "accent": 1,
         "is_interrogative": false,
         "moras": [
          {
           "consonant": "z",
           "consonant_length": 0.0734327957034111,
           "pitch": 6.073275089263916,
           "text": "ゼ",
           "vowel": "e",
           "vowel_length": 0.088880755007267
          },
          {
           "consonant": "r",
           "consonant_length": 0.03965768963098526,
           "pitch": 6.190675735473633,
           "text": "ロ",
           "vowel": "o",
           "vowel_length": 0.0991496667265892
          },
          {
           "consonant": "n",
           "consonant_length": 0.053271614015102386,
           "pitch": 6.089591979980469,
           "text": "ニ",
           "vowel": "i",
           "vowel_length": 0.07737093418836594
          }
         ],
         "pause_mora": null
        },
        {
         "accent": 1,
         "is_interrogative": false,
         "moras": [
          {
           "consonant": "n",
           "consonant_length": 0.06187121570110321,
           "pitch": 5.8169050216674805,
           "text": "ナ",
           "vowel": "a",
           "vowel_length": 0.12663181126117706
          },
          {
           "consonant": "r",
           "consonant_length": 0.043149180710315704,
           "pitch": 5.775506496429443,
           "text": "ル",
           "vowel": "u",
           "vowel_length": 0.09949058294296265
          }
         ],
         "pause_mora": null
        },
        {
         "accent": 4,
         "is_interrogative": false,
         "moras": [
          {
           "consonant": null,
           "consonant_length": null,
           "pitch": 5.63064432144165,
           "text": "イ",
           "vowel": "i",
           "vowel_length": 0.10053197294473648
          },
          {
           "consonant": "j",
           "consonant_length": 0.08102572709321976,
           "pitch": 5.59865140914917,
           "text": "ジョ",
           "vowel": "o",
           "vowel_length": 0.08952827006578445
          },
          {
           "consonant": null,
           "consonant_length": null,
           "pitch": 5.7370195388793945,
           "text": "オ",
           "vowel": "o",
           "vowel_length": 0.09524077922105789
          },
          {
           "consonant": "g",
           "consonant_length": 0.05914123356342316,
           "pitch": 5.767067909240723,
           "text": "ガ",
           "vowel": "a",
           "vowel_length": 0.10585177689790726
          }
         ],
         "pause_mora": null
        },
        {
         "accent": 4,
         "is_interrogative": false,
         "moras": [
          {
           "consonant": "h",
           "consonant_length": 0.08556031435728073,
           "pitch": 5.689610958099365,
           "text": "ハ",
           "vowel": "a",
           "vowel_length": 0.12032824009656906
          },
          {
           "consonant": null,
           "consonant_length": null,
           "pitch": 0,
           "text": "ッ",
           "vowel": "cl",
           "vowel_length": 0.0684022530913353
          },
          {
           "consonant": "s",
           "consonant_length": 0.09599755704402924,
           "pitch": 5.925623893737793,
           "text": "セ",
           "vowel": "e",
           "vowel_length": 0.10315689444541931
          },
          {
           "consonant": null,
           "consonant_length": null,
           "pitch": 5.999013900756836,
           "text": "エ",
           "vowel": "e",
           "vowel_length": 0.09769006818532944
          }
         ],
         "pause_mora": null
        },
        {
         "accent": 2,
         "is_interrogative": false,
         "moras": [
          {
           "consonant": "sh",
           "consonant_length": 0.04352597892284393,
           "pitch": 0,
           "text": "シ",
           "vowel": "I",
           "vowel_length": 0.0674082413315773
          },
          {
           "consonant": "t",
           "consonant_length": 0.07069332152605057,
           "pitch": 6.092449188232422,
           "text": "テ",
           "vowel": "e",
           "vowel_length": 0.11294616013765335
          }
         ],
         "pause_mora": null
        },
        {
         "accent": 2,
         "is_interrogative": false,
         "moras": [
          {
           "consonant": null,
           "consonant_length": null,
           "pitch": 6.115988731384277,
           "text": "イ",
           "vowel": "i",
           "vowel_length": 0.08713943511247635
          },
          {
           "consonant": "t",
           "consonant_length": 0.05785045027732849,
           "pitch": 6.182208061218262,
           "text": "タ",
           "vowel": "a",
           "vowel_length": 0.11096709966659546
          },
          {
           "consonant": "t",
           "consonant_length": 0.06548088788986206,
           "pitch": 6.070957660675049,
           "text": "ト",
           "vowel": "o",
           "vowel_length": 0.129506453871727
          }
         ],
         "pause_mora": null
        },
        {
         "accent": 2,
         "is_interrogative": false,
         "moras": [
          {
           "consonant": null,
           "consonant_length": null,
           "pitch": 5.873650550842285,
           "text": "イ",
           "vowel": "i",
           "vowel_length": 0.10074739158153534
          },
          {
           "consonant": null,
           "consonant_length": null,
           "pitch": 5.731749057769775,
           "text": "ウ",
           "vowel": "u",
           "vowel_length": 0.10999230295419693
          }
         ],
         "pause_mora": null
        },
        {
         "accent": 2,
         "is_interrogative": false,
         "moras": [
          {
           "consonant": "k",
           "consonant_length": 0.061305202543735504,
           "pitch": 5.744978904724121,
           "text": "コ",
           "vowel": "o",
           "vowel_length": 0.09161725640296936
          },
          {
           "consonant": "t",
           "consonant_length": 0.06151806563138962,
           "pitch": 5.916631698608398,
           "text": "ト",
           "vowel": "o",
           "vowel_length": 0.08851272612810135
          },
          {
           "consonant": "d",
           "consonant_length": 0.055824071168899536,
           "pitch": 5.8563079833984375,
           "text": "デ",
           "vowel": "e",
           "vowel_length": 0.1377268135547638
          },
          {
           "consonant": "s",
           "consonant_length": 0.0570344552397728,
           "pitch": 0,
           "text": "ス",
           "vowel": "U",
           "vowel_length": 0.09705352038145065
          }
         ],
         "pause_mora": {
          "consonant": null,
          "consonant_length": null,
          "pitch": 0,
          "text": "、",
          "vowel": "pau",
          "vowel_length": 0.33083006739616394
         }
        },
        {
         "accent": 4,
         "is_interrogative": false,
         "moras": [
          {
           "consonant": "h",
           "consonant_length": 0.09933649748563766,
           "pitch": 5.5602898597717285,
           "text": "ホ",
           "vowel": "o",
           "vowel_length": 0.10162736475467682
          },
          {
           "consonant": "j",
           "consonant_length": 0.06708138436079025,
           "pitch": 5.769560813903809,
           "text": "ジョ",
           "vowel": "o",
           "vowel_length": 0.09980190545320511
          },
          {
           "consonant": "r",
           "consonant_length": 0.047684021294116974,
           "pitch": 6.075323104858398,
           "text": "ロ",
           "vowel": "o",
           "vowel_length": 0.10957604646682739
          },
          {
           "consonant": "k",
           "consonant_length": 0.07613163441419601,
           "pitch": 6.198378562927246,
           "text": "ケ",
           "vowel": "e",
           "vowel_length": 0.14730651676654816
          },
          {
           "consonant": null,
           "consonant_length": null,
           "pitch": 0,
           "text": "ッ",
           "vowel": "cl",
           "vowel_length": 0.07159113138914108
          },
          {
           "consonant": "t",
           "consonant_length": 0.0883243978023529,
           "pitch": 6.101713180541992,
           "text": "ト",
           "vowel": "o",
           "vowel_length": 0.11334408819675446
          },
          {
           "consonant": null,
           "consonant_length": null,
           "pitch": 5.8899359703063965,
           "text": "オ",
           "vowel": "o",
           "vowel_length": 0.12619613111019135
          }
         ],
         "pause_mora": null
        },
        {
         "accent": 2,
         "is_interrogative": false,
         "moras": [
          {
           "consonant": "f",
           "consonant_length": 0.05129092186689377,
           "pitch": 0,
           "text": "フ",
           "vowel": "U",
           "vowel_length": 0.06596271693706512
          },
          {
           "consonant": "k",
           "consonant_length": 0.07512976229190826,
           "pitch": 5.95175838470459,
           "text": "ク",
           "vowel": "u",
           "vowel_length": 0.07504057139158249
          },
          {
           "consonant": "m",
           "consonant_length": 0.05968445539474487,
           "pitch": 5.921419143676758,
           "text": "ム",
           "vowel": "u",
           "vowel_length": 0.09014862030744553
          }
         ],
         "pause_mora": null
        },
        {
         "accent": 4,
         "is_interrogative": false,
         "moras": [
          {
           "consonant": "k",
           "consonant_length": 0.053921155631542206,
           "pitch": 0,
           "text": "キ",
           "vowel": "I",
           "vowel_length": 0.06262567639350891
          },
          {
           "consonant": "t",
           "consonant_length": 0.08532238751649857,
           "pitch": 5.834499359130859,
           "text": "タ",
           "vowel": "a",
           "vowel_length": 0.1388840526342392
          },
          {
           "consonant": null,
           "consonant_length": null,
           "pitch": 5.887775421142578,
           "text": "イ",
           "vowel": "i",
           "vowel_length": 0.08955789357423782
          },
          {
           "consonant": "y",
           "consonant_length": 0.05705748498439789,
           "pitch": 5.913883209228516,
           "text": "ヤ",
           "vowel": "a",
           "vowel_length": 0.11790118366479874
          }
         ],
         "pause_mora": null
        },
        {
         "accent": 4,
         "is_interrogative": false,
         "moras": [
          {
           "consonant": "ch",
           "consonant_length": 0.08022689074277878,
           "pitch": 5.797946929931641,
           "text": "チ",
           "vowel": "i",
           "vowel_length": 0.08494042605161667
          },
          {
           "consonant": "j",
           "consonant_length": 0.07970059663057327,
           "pitch": 5.871982574462891,
           "text": "ジョ",
           "vowel": "o",
           "vowel_length": 0.09137948602437973
          },
          {
           "consonant": null,
           "consonant_length": null,
           "pitch": 6.063047409057617,
           "text": "オ",
           "vowel": "o",
           "vowel_length": 0.09635204821825027
          },
          {
           "consonant": "s",
           "consonant_length": 0.0756680890917778,
           "pitch": 6.142481803894043,
           "text": "セ",
           "vowel": "e",
           "vowel_length": 0.1035146489739418
          },
          {
           "consonant": "ts",
           "consonant_length": 0.08167630434036255,
           "pitch": 6.03376579284668,
           "text": "ツ",
           "vowel": "u",
           "vowel_length": 0.07283803075551987
          },
          {
           "consonant": "b",
           "consonant_length": 0.05966857820749283,
           "pitch": 5.98221492767334,
           "text": "ビ",
           "vowel": "i",
           "vowel_length": 0.09063363820314407
          },
          {
           "consonant": "n",
           "consonant_length": 0.05827202647924423,
           "pitch": 5.9856109619140625,
           "text": "ノ",
           "vowel": "o",
           "vowel_length": 0.09290028363466263
          }
         ],
         "pause_mora": null
        },
        {
         "accent": 2,
         "is_interrogative": false,
         "moras": [
          {
           "consonant": "h",
           "consonant_length": 0.07076563686132431,
           "pitch": 5.882328987121582,
           "text": "ホ",
           "vowel": "o",
           "vowel_length": 0.0960625633597374
          },
          {
           "consonant": "k",
           "consonant_length": 0.06773702055215836,
           "pitch": 5.8596720695495605,
           "text": "カ",
           "vowel": "a",
           "vowel_length": 0.171805277466774
          }
         ],
         "pause_mora": {
          "consonant": null,
          "consonant_length": null,
          "pitch": 0,
          "text": "、",
          "vowel": "pau",
          "vowel_length": 0.3015452027320862
         }
        },
        {
         "accent": 4,
         "is_interrogative": false,
         "moras": [
          {
           "consonant": "t",
           "consonant_length": 0.1032714992761612,
           "pitch": 5.678642272949219,
           "text": "ト",
           "vowel": "o",
           "vowel_length": 0.09894222766160965
          },
          {
           "consonant": null,
           "consonant_length": null,
           "pitch": 5.880863666534424,
           "text": "オ",
           "vowel": "o",
           "vowel_length": 0.1139228418469429
          },
          {
           "consonant": "s",
           "consonant_length": 0.0916847214102745,
           "pitch": 6.061600685119629,
           "text": "サ",
           "vowel": "a",
           "vowel_length": 0.13084776699543
          },
          {
           "consonant": null,
           "consonant_length": null,
           "pitch": 6.088412761688232,
           "text": "イ",
           "vowel": "i",
           "vowel_length": 0.08508116751909256
          }
         ],
         "pause_mora": null
        },
        {
         "accent": 2,
         "is_interrogative": false,
         "moras": [
          {
           "consonant": "sh",
           "consonant_length": 0.041266344487667084,
           "pitch": 0,
           "text": "シ",
           "vowel": "I",
           "vowel_length": 0.06324918568134308
          },
          {
           "consonant": "t",
           "consonant_length": 0.07051696628332138,
           "pitch": 6.125283241271973,
           "text": "テ",
           "vowel": "e",
           "vowel_length": 0.12871482968330383
          }
         ],
         "pause_mora": null
        },
        {
         "accent": 2,
         "is_interrogative": false,
         "moras": [
          {
           "consonant": null,
           "consonant_length": null,
           "pitch": 6.125665664672852,
           "text": "イ",
           "vowel": "i",
           "vowel_length": 0.0977320447564125
          },
          {
           "consonant": "r",
           "consonant_length": 0.05248606950044632,
           "pitch": 6.12310791015625,
           "text": "ル",
           "vowel": "u",
           "vowel_length": 0.11049690842628479
          }
         ],
         "pause_mora": null
        },
        {
         "accent": 6,
         "is_interrogative": false,
         "moras": [
          {
           "consonant": null,
           "consonant_length": null,
           "pitch": 6.123441219329834,
           "text": "エ",
           "vowel": "e",
           "vowel_length": 0.12703511118888855
          },
          {
           "consonant": null,
           "consonant_length": null,
           "pitch": 6.142913341522217,
           "text": "エ",
           "vowel": "e",
           "vowel_length": 0.1288377195596695
          },
          {
           "consonant": "s",
           "consonant_length": 0.10165027529001236,
           "pitch": 6.181966781616211,
           "text": "セ",
           "vowel": "e",
           "vowel_length": 0.11765896528959274
          },
          {
           "consonant": null,
           "consonant_length": null,
           "pitch": 6.195490837097168,
           "text": "エ",
           "vowel": "e",
           "vowel_length": 0.1000441461801529
          },
          {
           "consonant": "n",
           "consonant_length": 0.05506747215986252,
           "pitch": 6.200549125671387,
           "text": "ニ",
           "vowel": "i",
           "vowel_length": 0.09668483585119247
          },
          {
           "consonant": "w",
           "consonant_length": 0.054785922169685364,
           "pitch": 6.011321544647217,
           "text": "ワ",
           "vowel": "a",
           "vowel_length": 0.10186376422643661
          }
         ],
         "pause_mora": null
        },
        {
         "accent": 5,
         "is_interrogative": false,
         "moras": [
          {
           "consonant": "s",
           "consonant_length": 0.12094924598932266,
           "pitch": 5.813529014587402,
           "text": "ソ",
           "vowel": "o",
           "vowel_length": 0.12938939034938812
          },
          {
           "consonant": null,
           "consonant_length": null,
           "pitch": 5.923608779907227,
           "text": "ン",
           "vowel": "N",
           "vowel_length": 0.0733914002776146
          },
          {
           "consonant": "sh",
           "consonant_length": 0.08896275609731674,
           "pitch": 6.048148155212402,
           "text": "ショ",
           "vowel": "o",
           "vowel_length": 0.0878477394580841
          },
          {
           "consonant": null,
           "consonant_length": null,
           "pitch": 6.053828239440918,
           "text": "オ",
           "vowel": "o",
           "vowel_length": 0.08694750815629959
          },
          {
           "consonant": "g",
           "consonant_length": 0.05601619929075241,
           "pitch": 6.061290740966797,
           "text": "ガ",
           "vowel": "a",
           "vowel_length": 0.09799646586179733
          }
         ],
         "pause_mora": null
        },
        {
         "accent": 1,
         "is_interrogative": false,
         "moras": [
          {
           "consonant": "n",
           "consonant_length": 0.05242730677127838,
           "pitch": 6.089905738830566,
           "text": "ナ",
           "vowel": "a",
           "vowel_length": 0.1392190158367157
          },
          {
           "consonant": "k",
           "consonant_length": 0.07806967943906784,
           "pitch": 5.893136978149414,
           "text": "ク",
           "vowel": "u",
           "vowel_length": 0.13950414955615997
          }
         ],
         "pause_mora": {
          "consonant": null,
          "consonant_length": null,
          "pitch": 0,
          "text": "、",
          "vowel": "pau",
          "vowel_length": 0.4178609848022461
         }
        },
        {
         "accent": 4,
         "is_interrogative": false,
         "moras": [
          {
           "consonant": "f",
           "consonant_length": 0.07722090929746628,
           "pitch": 0,
           "text": "フ",
           "vowel": "U",
           "vowel_length": 0.05915536731481552
          },
          {
           "consonant": "t",
           "consonant_length": 0.07498467713594437,
           "pitch": 5.853631019592285,
           "text": "タ",
           "vowel": "a",
           "vowel_length": 0.1364319622516632
          },
          {
           "consonant": "t",
           "consonant_length": 0.06149544566869736,
           "pitch": 6.068900108337402,
           "text": "タ",
           "vowel": "a",
           "vowel_length": 0.11425431817770004
          },
          {
           "consonant": "b",
           "consonant_length": 0.0719619169831276,
           "pitch": 6.029386520385742,
           "text": "ビ",
           "vowel": "i",
           "vowel_length": 0.09788995236158371
          }
         ],
         "pause_mora": null
        },
        {
         "accent": 5,
         "is_interrogative": false,
         "moras": [
          {
           "consonant": null,
           "consonant_length": null,
           "pitch": 5.826900005340576,
           "text": "ウ",
           "vowel": "u",
           "vowel_length": 0.09856567531824112
          },
          {
           "consonant": "ch",
           "consonant_length": 0.09545347839593887,
           "pitch": 5.9264020919799805,
           "text": "チ",
           "vowel": "i",
           "vowel_length": 0.0856434553861618
          },
          {
           "consonant": null,
           "consonant_length": null,
           "pitch": 5.989348411560059,
           "text": "ア",
           "vowel": "a",
           "vowel_length": 0.1354469507932663
          },
          {
           "consonant": "g",
           "consonant_length": 0.06570197641849518,
           "pitch": 6.020432949066162,
           "text": "ゲ",
           "vowel": "e",
           "vowel_length": 0.0965123102068901
          },
          {
           "consonant": "n",
           "consonant_length": 0.04994635283946991,
           "pitch": 6.04988431930542,
           "text": "ニ",
           "vowel": "i",
           "vowel_length": 0.08331116288900375
          }
         ],
         "pause_mora": null
        },
        {
         "accent": 3,
         "is_interrogative": false,
         "moras": [
          {
           "consonant": "m",
           "consonant_length": 0.06384273618459702,
           "pitch": 6.035987377166748,
           "text": "ム",
           "vowel": "u",
           "vowel_length": 0.07970381528139114
          },
          {
           "consonant": "k",
           "consonant_length": 0.06090161204338074,
           "pitch": 6.0688018798828125,
           "text": "ケ",
           "vowel": "e",
           "vowel_length": 0.09622765332460403
          },
          {
           "consonant": "t",
           "consonant_length": 0.049747876822948456,
           "pitch": 6.088775634765625,
           "text": "テ",
           "vowel": "e",
           "vowel_length": 0.10453759878873825
          }
         ],
         "pause_mora": null
        },
        {
         "accent": 5,
         "is_interrogative": false,
         "moras": [
          {
           "consonant": "t",
           "consonant_length": 0.0685596838593483,
           "pitch": 6.060441017150879,
           "text": "タ",
           "vowel": "a",
           "vowel_length": 0.12879382073879242
          },
          {
           "consonant": null,
           "consonant_length": null,
           "pitch": 6.078494548797607,
           "text": "イ",
           "vowel": "i",
           "vowel_length": 0.0812039002776146
          },
          {
           "consonant": "s",
           "consonant_length": 0.07233841717243195,
           "pitch": 6.118361473083496,
           "text": "サ",
           "vowel": "a",
           "vowel_length": 0.11355527490377426
          },
          {
           "consonant": "k",
           "consonant_length": 0.07731995731592178,
           "pitch": 6.136897087097168,
           "text": "ク",
           "vowel": "u",
           "vowel_length": 0.07349566370248795
          },
          {
           "consonant": null,
           "consonant_length": null,
           "pitch": 6.137121200561523,
           "text": "オ",
           "vowel": "o",
           "vowel_length": 0.13493868708610535
          }
         ],
         "pause_mora": null
        },
        {
         "accent": 4,
         "is_interrogative": false,
         "moras": [
          {
           "consonant": "k",
           "consonant_length": 0.08943979442119598,
           "pitch": 6.120397567749023,
           "text": "コ",
           "vowel": "o",
           "vowel_length": 0.08962813764810562
          },
          {
           "consonant": null,
           "consonant_length": null,
           "pitch": 6.153339862823486,
           "text": "オ",
           "vowel": "o",
           "vowel_length": 0.1054224744439125
          },
          {
           "consonant": "j",
           "consonant_length": 0.07190082222223282,
           "pitch": 6.150932788848877,
           "text": "ジ",
           "vowel": "i",
           "vowel_length": 0.06921153515577316
          },
          {
           "consonant": "r",
           "consonant_length": 0.03703751415014267,
           "pitch": 6.198074817657471,
           "text": "ル",
           "vowel": "u",
           "vowel_length": 0.09307744354009628
          },
          {
           "consonant": "t",
           "consonant_length": 0.06513642519712448,
           "pitch": 6.215584754943848,
           "text": "ト",
           "vowel": "o",
           "vowel_length": 0.09305756539106369
          },
          {
           "consonant": "n",
           "consonant_length": 0.0592959001660347,
           "pitch": 6.042454242706299,
           "text": "ノ",
           "vowel": "o",
           "vowel_length": 0.10186738520860672
          }
         ],
         "pause_mora": null
        },
        {
         "accent": 2,
         "is_interrogative": false,
         "moras": [
          {
           "consonant": "k",
           "consonant_length": 0.061835773289203644,
           "pitch": 5.791592597961426,
           "text": "コ",
           "vowel": "o",
           "vowel_length": 0.08562403172254562
          },
          {
           "consonant": "t",
           "consonant_length": 0.06283966451883316,
           "pitch": 5.900859832763672,
           "text": "ト",
           "vowel": "o",
           "vowel_length": 0.0881531611084938
          },
          {
           "consonant": "d",
           "consonant_length": 0.05491645634174347,
           "pitch": 5.8455424308776855,
           "text": "デ",
           "vowel": "e",
           "vowel_length": 0.13671961426734924
          },
          {
           "consonant": "s",
           "consonant_length": 0.06590048223733902,
           "pitch": 0,
           "text": "ス",
           "vowel": "U",
           "vowel_length": 0.09554973244667053
          }
         ],
         "pause_mora": {
          "consonant": null,
          "consonant_length": null,
          "pitch": 0,
          "text": "、",
          "vowel": "pau",
          "vowel_length": 0.3648359179496765
         }
        },
        {
         "accent": 1,
         "is_interrogative": false,
         "moras": [
          {
           "consonant": "m",
           "consonant_length": 0.08950630575418472,
           "pitch": 5.861180305480957,
           "text": "ミ",
           "vowel": "i",
           "vowel_length": 0.09450722485780716
          },
          {
           "consonant": "k",
           "consonant_length": 0.06797238439321518,
           "pitch": 6.180894374847412,
           "text": "ク",
           "vowel": "u",
           "vowel_length": 0.07527998834848404
          },
          {
           "consonant": "n",
           "consonant_length": 0.05853595584630966,
           "pitch": 6.0317230224609375,
           "text": "ノ",
           "vowel": "o",
           "vowel_length": 0.124629445374012
          }
         ],
         "pause_mora": null
        },
        {
         "accent": 4,
         "is_interrogative": false,
         "moras": [
          {
           "consonant": "k",
           "consonant_length": 0.080817312002182,
           "pitch": 5.778481483459473,
           "text": "カ",
           "vowel": "a",
           "vowel_length": 0.14611108601093292
          },
          {
           "consonant": null,
           "consonant_length": null,
           "pitch": 5.840623378753662,
           "text": "ン",
           "vowel": "N",
           "vowel_length": 0.08004707843065262
          },
          {
           "consonant": "s",
           "consonant_length": 0.08237821608781815,
           "pitch": 5.951413154602051,
           "text": "ソ",
           "vowel": "o",
           "vowel_length": 0.09314974397420883
          },
          {
           "consonant": null,
           "consonant_length": null,
           "pitch": 5.921189308166504,
           "text": "オ",
           "vowel": "o",
           "vowel_length": 0.1421613097190857
          }
         ],
         "pause_mora": {
          "consonant": null,
          "consonant_length": null,
          "pitch": 0,
          "text": "、",
          "vowel": "pau",
          "vowel_length": 0.3342399597167969
         }
        },
        {
         "accent": 4,
         "is_interrogative": false,
         "moras": [
          {
           "consonant": "f",
           "consonant_length": 0.09731601923704147,
           "pitch": 0,
           "text": "フ",
           "vowel": "U",
           "vowel_length": 0.05227845162153244
          },
          {
           "consonant": "t",
           "consonant_length": 0.06653224676847458,
           "pitch": 5.9452362060546875,
           "text": "タ",
           "vowel": "a",
           "vowel_length": 0.13603557646274567
          },
          {
           "consonant": "t",
           "consonant_length": 0.061619557440280914,
           "pitch": 6.124389171600342,
           "text": "タ",
           "vowel": "a",
           "vowel_length": 0.11425431817770004
          },
          {
           "consonant": "b",
           "consonant_length": 0.0719619169831276,
           "pitch": 6.047880172729492,
           "text": "ビ",
           "vowel": "i",
           "vowel_length": 0.09788995236158371
          }
         ],
         "pause_mora": null
        },
        {
         "accent": 5,
         "is_interrogative": false,
         "moras": [
          {
           "consonant": null,
           "consonant_length": null,
           "pitch": 5.811959743499756,
           "text": "ウ",
           "vowel": "u",
           "vowel_length": 0.09835364669561386
          },
          {
           "consonant": "ch",
           "consonant_length": 0.09586506336927414,
           "pitch": 5.903781414031982,
           "text": "チ",
           "vowel": "i",
           "vowel_length": 0.08533571660518646
          },
          {
           "consonant": null,
           "consonant_length": null,
           "pitch": 5.972990036010742,
           "text": "ア",
           "vowel": "a",
           "vowel_length": 0.1358940154314041
          },
          {
           "consonant": "g",
           "consonant_length": 0.06392780691385269,
           "pitch": 6.009223937988281,
           "text": "ゲ",
           "vowel": "e",
           "vowel_length": 0.08946198970079422
          },
          {
           "consonant": "g",
           "consonant_length": 0.05109391361474991,
           "pitch": 6.032793045043945,
           "text": "ガ",
           "vowel": "a",
           "vowel_length": 0.09953606873750687
          }
         ],
         "pause_mora": null
        },
        {
         "accent": 2,
         "is_interrogative": false,
         "moras": [
          {
           "consonant": "d",
           "consonant_length": 0.05566763877868652,
           "pitch": 6.000268936157227,
           "text": "デ",
           "vowel": "e",
           "vowel_length": 0.1042812168598175
          },
          {
           "consonant": "k",
           "consonant_length": 0.07245912402868271,
           "pitch": 6.133909225463867,
           "text": "キ",
           "vowel": "i",
           "vowel_length": 0.07026038318872452
          },
          {
           "consonant": "r",
           "consonant_length": 0.04228921979665756,
           "pitch": 6.160590648651123,
           "text": "ル",
           "vowel": "u",
           "vowel_length": 0.10551410168409348
          }
         ],
         "pause_mora": null
        },
        {
         "accent": 1,
         "is_interrogative": false,
         "moras": [
          {
           "consonant": "y",
           "consonant_length": 0.0718318298459053,
           "pitch": 6.064409255981445,
           "text": "ヨ",
           "vowel": "o",
           "vowel_length": 0.08620142191648483
          },
          {
           "consonant": null,
           "consonant_length": null,
           "pitch": 6.002800941467285,
           "text": "オ",
           "vowel": "o",
           "vowel_length": 0.09156956523656845
          },
          {
           "consonant": "n",
           "consonant_length": 0.05200379341840744,
           "pitch": 5.738287925720215,
           "text": "ニ",
           "vowel": "i",
           "vowel_length": 0.09418877214193344
          }
         ],
         "pause_mora": null
        },
        {
         "accent": 5,
         "is_interrogative": false,
         "moras": [
          {
           "consonant": "t",
           "consonant_length": 0.06835658103227615,
           "pitch": 5.634140968322754,
           "text": "タ",
           "vowel": "a",
           "vowel_length": 0.12935826182365417
          },
          {
           "consonant": null,
           "consonant_length": null,
           "pitch": 5.798521041870117,
           "text": "イ",
           "vowel": "i",
           "vowel_length": 0.07972691208124161
          },
          {
           "consonant": "s",
           "consonant_length": 0.07248940318822861,
           "pitch": 5.967669486999512,
           "text": "サ",
           "vowel": "a",
           "vowel_length": 0.1131010428071022
          },
          {
           "consonant": "k",
           "consonant_length": 0.07751863449811935,
           "pitch": 6.02897834777832,
           "text": "ク",
           "vowel": "u",
           "vowel_length": 0.07349566370248795
          },
          {
           "consonant": null,
           "consonant_length": null,
           "pitch": 6.040922164916992,
           "text": "オ",
           "vowel": "o",
           "vowel_length": 0.13493868708610535
          }
         ],
         "pause_mora": null
        },
        {
         "accent": 4,
         "is_interrogative": false,
         "moras": [
          {
           "consonant": "k",
           "consonant_length": 0.08943979442119598,
           "pitch": 6.057312965393066,
           "text": "コ",
           "vowel": "o",
           "vowel_length": 0.08962813764810562
          },
          {
           "consonant": null,
           "consonant_length": null,
           "pitch": 6.107787132263184,
           "text": "オ",
           "vowel": "o",
           "vowel_length": 0.1054224744439125
          },
          {
           "consonant": "j",
           "consonant_length": 0.0727178305387497,
           "pitch": 6.110102653503418,
           "text": "ジ",
           "vowel": "i",
           "vowel_length": 0.06868117302656174
          },
          {
           "consonant": "r",
           "consonant_length": 0.03578227013349533,
           "pitch": 6.166811943054199,
           "text": "ル",
           "vowel": "u",
           "vowel_length": 0.09776163846254349
          },
          {
           "consonant": "t",
           "consonant_length": 0.07318481057882309,
           "pitch": 6.075314044952393,
           "text": "ト",
           "vowel": "o",
           "vowel_length": 0.13614965975284576
          }
         ],
         "pause_mora": null
        },
        {
         "accent": 2,
         "is_interrogative": false,
         "moras": [
          {
           "consonant": null,
           "consonant_length": null,
           "pitch": 5.865171909332275,
           "text": "イ",
           "vowel": "i",
           "vowel_length": 0.09637428820133209
          },
          {
           "consonant": null,
           "consonant_length": null,
           "pitch": 5.816141605377197,
           "text": "ウ",
           "vowel": "u",
           "vowel_length": 0.10543542355298996
          }
         ],
         "pause_mora": null
        },
        {
         "accent": 2,
         "is_interrogative": false,
         "moras": [
          {
           "consonant": "n",
           "consonant_length": 0.05775151401758194,
           "pitch": 5.825098991394043,
           "text": "ノ",
           "vowel": "o",
           "vowel_length": 0.11750837415456772
          },
          {
           "consonant": "w",
           "consonant_length": 0.06309935450553894,
           "pitch": 5.708184242248535,
           "text": "ワ",
           "vowel": "a",
           "vowel_length": 0.1741974800825119
          }
         ],
         "pause_mora": {
          "consonant": null,
          "consonant_length": null,
          "pitch": 0,
          "text": "、",
          "vowel": "pau",
          "vowel_length": 0.36336463689804077
         }
        },
        {
         "accent": 1,
         "is_interrogative": false,
         "moras": [
          {
           "consonant": "y",
           "consonant_length": 0.10053622722625732,
           "pitch": 5.950534820556641,
           "text": "ヨ",
           "vowel": "o",
           "vowel_length": 0.12610243260860443
          },
          {
           "consonant": null,
           "consonant_length": null,
           "pitch": 6.145566463470459,
           "text": "イ",
           "vowel": "i",
           "vowel_length": 0.07537849992513657
          }
         ],
         "pause_mora": null
        },
        {
         "accent": 1,
         "is_interrogative": false,
         "moras": [
          {
           "consonant": "ny",
           "consonant_length": 0.12266182154417038,
           "pitch": 6.108656406402588,
           "text": "ニュ",
           "vowel": "u",
           "vowel_length": 0.07707959413528442
          },
          {
           "consonant": null,
           "consonant_length": null,
           "pitch": 6.149913311004639,
           "text": "ウ",
           "vowel": "u",
           "vowel_length": 0.08189644664525986
          },
          {
           "consonant": "s",
           "consonant_length": 0.07615446299314499,
           "pitch": 6.009333610534668,
           "text": "ス",
           "vowel": "u",
           "vowel_length": 0.07318895310163498
          },
          {
           "consonant": "d",
           "consonant_length": 0.044852130115032196,
           "pitch": 5.863000869750977,
           "text": "ダ",
           "vowel": "a",
           "vowel_length": 0.15576374530792236
          },
          {
           "consonant": "n",
           "consonant_length": 0.06117583066225052,
           "pitch": 5.735803604125977,
           "text": "ネ",
           "vowel": "e",
           "vowel_length": 0.20413459837436676
          }
         ],
         "pause_mora": {
          "consonant": null,
          "consonant_length": null,
          "pitch": 0,
          "text": "、",
          "vowel": "pau",
          "vowel_length": 0.44471728801727295
         }
        },
        {
         "accent": 1,
         "is_interrogative": false,
         "moras": [
          {
           "consonant": "d",
           "consonant_length": 0.08160776644945145,
           "pitch": 5.88590145111084,
           "text": "デ",
           "vowel": "e",
           "vowel_length": 0.10699757188558578
          },
          {
           "consonant": "m",
           "consonant_length": 0.0815381184220314,
           "pitch": 5.9435529708862305,
           "text": "モ",
           "vowel": "o",
           "vowel_length": 0.2087770700454712
          }
         ],
         "pause_mora": {
          "consonant": null,
          "consonant_length": null,
          "pitch": 0,
          "text": "、",
          "vowel": "pau",
          "vowel_length": 0.36477187275886536
         }
        },
        {
         "accent": 1,
         "is_interrogative": false,
         "moras": [
          {
           "consonant": "d",
           "consonant_length": 0.09216796606779099,
           "pitch": 5.930502891540527,
           "text": "ド",
           "vowel": "o",
           "vowel_length": 0.14124974608421326
          },
          {
           "consonant": null,
           "consonant_length": null,
           "pitch": 6.138134002685547,
           "text": "ン",
           "vowel": "N",
           "vowel_length": 0.07915211468935013
          },
          {
           "consonant": "n",
           "consonant_length": 0.04363313317298889,
           "pitch": 6.063293933868408,
           "text": "ナ",
           "vowel": "a",
           "vowel_length": 0.12645255029201508
          }
         ],
         "pause_mora": null
        },
        {
         "accent": 5,
         "is_interrogative": false,
         "moras": [
          {
           "consonant": "t",
           "consonant_length": 0.07350099086761475,
           "pitch": 5.73436164855957,
           "text": "タ",
           "vowel": "a",
           "vowel_length": 0.1182587668299675
          },
          {
           "consonant": null,
           "consonant_length": null,
           "pitch": 5.783481597900391,
           "text": "イ",
           "vowel": "i",
           "vowel_length": 0.08141433447599411
          },
          {
           "consonant": "s",
           "consonant_length": 0.07294609397649765,
           "pitch": 5.901364326477051,
           "text": "サ",
           "vowel": "a",
           "vowel_length": 0.11264414340257645
          },
          {
           "consonant": "k",
           "consonant_length": 0.0775071308016777,
           "pitch": 5.96870756149292,
           "text": "ク",
           "vowel": "u",
           "vowel_length": 0.07349566370248795
          },
          {
           "consonant": null,
           "consonant_length": null,
           "pitch": 5.982366561889648,
           "text": "オ",
           "vowel": "o",
           "vowel_length": 0.13493868708610535
          }
         ],
         "pause_mora": null
        },
        {
         "accent": 4,
         "is_interrogative": false,
         "moras": [
          {
           "consonant": "k",
           "consonant_length": 0.08943979442119598,
           "pitch": 6.007845878601074,
           "text": "コ",
           "vowel": "o",
           "vowel_length": 0.09001300483942032
          },
          {
           "consonant": null,
           "consonant_length": null,
           "pitch": 6.06153678894043,
           "text": "オ",
           "vowel": "o",
           "vowel_length": 0.10672038793563843
          },
          {
           "consonant": "j",
           "consonant_length": 0.07317592948675156,
           "pitch": 6.054842948913574,
           "text": "ジ",
           "vowel": "i",
           "vowel_length": 0.07046330720186234
          },
          {
           "consonant": "r",
           "consonant_length": 0.03293945640325546,
           "pitch": 6.1390581130981445,
           "text": "ル",
           "vowel": "u",
           "vowel_length": 0.07934705913066864
          }
         ],
         "pause_mora": null
        },
        {
         "accent": 2,
         "is_interrogative": false,
         "moras": [
          {
           "consonant": "n",
           "consonant_length": 0.061227962374687195,
           "pitch": 6.134387493133545,
           "text": "ノ",
           "vowel": "o",
           "vowel_length": 0.10513359308242798
          },
          {
           "consonant": "k",
           "consonant_length": 0.06219090521335602,
           "pitch": 5.845767021179199,
           "text": "カ",
           "vowel": "a",
           "vowel_length": 0.10548340529203415
          }
         ],
         "pause_mora": null
        },
        {
         "accent": 2,
         "is_interrogative": false,
         "moras": [
          {
           "consonant": "k",
           "consonant_length": 0.07350941747426987,
           "pitch": 5.728911876678467,
           "text": "キ",
           "vowel": "i",
           "vowel_length": 0.06806602329015732
          },
          {
           "consonant": "n",
           "consonant_length": 0.050369031727313995,
           "pitch": 5.7943620681762695,
           "text": "ニ",
           "vowel": "i",
           "vowel_length": 0.08090037107467651
          }
         ],
         "pause_mora": null
        },
        {
         "accent": 1,
         "is_interrogative": false,
         "moras": [
          {
           "consonant": "n",
           "consonant_length": 0.0595644935965538,
           "pitch": 5.983743667602539,
           "text": "ナ",
           "vowel": "a",
           "vowel_length": 0.11171397566795349
          },
          {
           "consonant": "r",
           "consonant_length": 0.03324186056852341,
           "pitch": 6.069772720336914,
           "text": "ル",
           "vowel": "u",
           "vowel_length": 0.09329452365636826
          },
          {
           "consonant": "n",
           "consonant_length": 0.048057399690151215,
           "pitch": 5.869677543640137,
           "text": "ナ",
           "vowel": "a",
           "vowel_length": 0.22964085638523102
          }
         ],
         "pause_mora": {
          "consonant": null,
          "consonant_length": null,
          "pitch": 0,
          "text": "、",
          "vowel": "pau",
          "vowel_length": 0.4102163314819336
         }
        },
        {
         "accent": 5,
         "is_interrogative": false,
         "moras": [
          {
           "consonant": null,
           "consonant_length": null,
           "pitch": 5.719454765319824,
           "text": "ア",
           "vowel": "a",
           "vowel_length": 0.24930770695209503
          },
          {
           "consonant": null,
           "consonant_length": null,
           "pitch": 5.893802165985107,
           "text": "ン",
           "vowel": "N",
           "vowel_length": 0.0975671038031578
          },
          {
           "consonant": "z",
           "consonant_length": 0.06198323518037796,
           "pitch": 5.953795909881592,
           "text": "ゼ",
           "vowel": "e",
           "vowel_length": 0.17878203094005585
          },
          {
           "consonant": null,
           "consonant_length": null,
           "pitch": 6.002762794494629,
           "text": "ン",
           "vowel": "N",
           "vowel_length": 0.08666818588972092
          },
          {
           "consonant": "n",
           "consonant_length": 0.05835498124361038,
           "pitch": 6.024585247039795,
           "text": "ニ",
           "vowel": "i",
           "vowel_length": 0.10443627089262009
          }
         ],
         "pause_mora": null
        },
        {
         "accent": 7,
         "is_interrogative": false,
         "moras": [
          {
           "consonant": null,
           "consonant_length": null,
           "pitch": 5.939512729644775,
           "text": "ウ",
           "vowel": "u",
           "vowel_length": 0.10792630165815353
          },
          {
           "consonant": "ch",
           "consonant_length": 0.10001469403505325,
           "pitch": 6.007969856262207,
           "text": "チ",
           "vowel": "i",
           "vowel_length": 0.085990771651268
          },
          {
           "consonant": null,
           "consonant_length": null,
           "pitch": 6.0615715980529785,
           "text": "ア",
           "vowel": "a",
           "vowel_length": 0.1274707168340683
          },
          {
           "consonant": "g",
           "consonant_length": 0.06072123348712921,
           "pitch": 6.07960319519043,
           "text": "ゲ",
           "vowel": "e",
           "vowel_length": 0.09005790203809738
          },
          {
           "consonant": "d",
           "consonant_length": 0.05265071243047714,
           "pitch": 6.100109100341797,
           "text": "デ",
           "vowel": "e",
           "vowel_length": 0.11333062499761581
          },
          {
           "consonant": "k",
           "consonant_length": 0.07386573404073715,
           "pitch": 6.149215221405029,
           "text": "キ",
           "vowel": "i",
           "vowel_length": 0.07352631539106369
          },
          {
           "consonant": "r",
           "consonant_length": 0.04068181663751602,
           "pitch": 6.143866539001465,
           "text": "ル",
           "vowel": "u",
           "vowel_length": 0.12183975428342819
          }
         ],
         "pause_mora": null
        },
        {
         "accent": 1,
         "is_interrogative": false,
         "moras": [
          {
           "consonant": "y",
           "consonant_length": 0.0656161829829216,
           "pitch": 6.076430320739746,
           "text": "ヨ",
           "vowel": "o",
           "vowel_length": 0.1210002526640892
          },
          {
           "consonant": null,
           "consonant_length": null,
           "pitch": 5.890032768249512,
           "text": "オ",
           "vowel": "o",
           "vowel_length": 0.15034686028957367
          }
         ],
         "pause_mora": {
          "consonant": null,
          "consonant_length": null,
          "pitch": 0,
          "text": "、",
          "vowel": "pau",
          "vowel_length": 0.3495742976665497
         }
        },
        {
         "accent": 3,
         "is_interrogative": false,
         "moras": [
          {
           "consonant": "sh",
           "consonant_length": 0.16811101138591766,
           "pitch": 5.599353790283203,
           "text": "シ",
           "vowel": "i",
           "vowel_length": 0.12607727944850922
          },
          {
           "consonant": null,
           "consonant_length": null,
           "pitch": 0,
           "text": "ッ",
           "vowel": "cl",
           "vowel_length": 0.0815923735499382
          },
          {
           "consonant": "k",
           "consonant_length": 0.0871705487370491,
           "pitch": 6.110995292663574,
           "text": "カ",
           "vowel": "a",
           "vowel_length": 0.13120555877685547
          },
          {
           "consonant": "r",
           "consonant_length": 0.039151646196842194,
           "pitch": 6.0112080574035645,
           "text": "リ",
           "vowel": "i",
           "vowel_length": 0.10839291661977768
          }
         ],
         "pause_mora": null
        },
        {
         "accent": 1,
         "is_interrogative": false,
         "moras": [
          {
           "consonant": "ch",
           "consonant_length": 0.0950271263718605,
           "pitch": 6.053605079650879,
           "text": "チョ",
           "vowel": "o",
           "vowel_length": 0.08201557397842407
          },
          {
           "consonant": null,
           "consonant_length": null,
           "pitch": 6.075863838195801,
           "text": "オ",
           "vowel": "o",
           "vowel_length": 0.09624882787466049
          },
          {
           "consonant": "s",
           "consonant_length": 0.08711033314466476,
           "pitch": 5.848542213439941,
           "text": "サ",
           "vowel": "a",
           "vowel_length": 0.11344906687736511
          }
         ],
         "pause_mora": null
        },
        {
         "accent": 4,
         "is_interrogative": false,
         "moras": [
          {
           "consonant": "sh",
           "consonant_length": 0.03300955146551132,
           "pitch": 0,
           "text": "シ",
           "vowel": "I",
           "vowel_length": 0.05450239032506943
          },
          {
           "consonant": "t",
           "consonant_length": 0.06629791110754013,
           "pitch": 5.770421981811523,
           "text": "テ",
           "vowel": "e",
           "vowel_length": 0.09334659576416016
          },
          {
           "consonant": "h",
           "consonant_length": 0.0688137635588646,
           "pitch": 6.014067649841309,
           "text": "ホ",
           "vowel": "o",
           "vowel_length": 0.09589094668626785
          },
          {
           "consonant": "sh",
           "consonant_length": 0.10731936246156693,
           "pitch": 6.137204170227051,
           "text": "シ",
           "vowel": "i",
           "vowel_length": 0.10011959820985794
          },
          {
           "consonant": null,
           "consonant_length": null,
           "pitch": 6.172736644744873,
           "text": "イ",
           "vowel": "i",
           "vowel_length": 0.09470071643590927
          },
          {
           "consonant": "d",
           "consonant_length": 0.04743943363428116,
           "pitch": 6.053403854370117,
           "text": "デ",
           "vowel": "e",
           "vowel_length": 0.09247089177370071
          },
          {
           "consonant": "sh",
           "consonant_length": 0.11665677279233932,
           "pitch": 5.8609442710876465,
           "text": "ショ",
           "vowel": "o",
           "vowel_length": 0.09992190450429916
          },
          {
           "consonant": null,
           "consonant_length": null,
           "pitch": 5.793127536773682,
           "text": "オ",
           "vowel": "o",
           "vowel_length": 0.10130097717046738
          },
          {
           "consonant": "n",
           "consonant_length": 0.06540415436029434,
           "pitch": 5.812596797943115,
           "text": "ネ",
           "vowel": "e",
           "vowel_length": 0.24369607865810394
          }
         ],
         "pause_mora": null
        }
       ],
       "intonationScale": 1,
       "kana": "コンゲツ'/ジュウ'/_シチ'ニチニ/ヨテエ'/サレテ'/イタ'/エ'イ_チ/サンロケ'ットノ/ショゴオ'キ/ウチアゲガ'/チュウ_シ'/サレタ'/イジョオニ'/ツ'イテ、ジャ'_クサワ/メ'イン/エ'ンジンニ/デ'ンリョクオ/キョオキュウ'/スル'/ロケ'ットノ/イチダン'メニ/ア'ル/キ'キデ/モンダイガ'/ハッセエ'/_シタ'ト/スル'/チョ'オサ/ケッカオ'/ホオコ_ク'/シマ'_シタ、ゲンインオ'/キュウメエ'/_シタ'/ウエデ'、ラ'イゲ_ツ/トオカマ'デニ/_フタタビ'/ウチアゲニ'/ノゾム'/ホオシンダ'/ソオデ'_ス、ホオコクニ'/ヨレ'バ、メ'イン/エ'ンジンノ/ネンショオガ'/ハジマッタ'/ア'ト、ネンショオオ'/チョオセエ'/スル'/キ'キニ/デ'ンリョクオ/キョオキュウ'/スル'、ブ'イイコンイチ、ト'/ヨバレル'/ソ'オチノ/ナ'イブデ/デンリュウト'/デンアツノ'/ネガ'/ゼ'ロニ/ナ'ル/イジョオガ'/ハッセエ'/_シテ'/イタ'ト/イウ'/コト'デ_ス、ホジョロケ'ットオ/_フク'ム/_キタイヤ'/チジョオセ'ツビノ/ホカ'、トオサイ'/_シテ'/イル'/エエセエニワ'/ソンショオガ'/ナ'ク、_フタタビ'/ウチアゲニ'/ムケテ'/タイサクオ'/コオジル'トノ/コト'デ_ス、ミ'クノ/カンソオ'、_フタタビ'/ウチアゲガ'/デキ'ル/ヨ'オニ/タイサクオ'/コオジル'ト/イウ'/ノワ'、ヨ'イ/ニュ'ウスダネ、デ'モ、ド'ンナ/タイサクオ'/コオジル'/ノカ'/キニ'/ナ'ルナ、アンゼンニ'/ウチアゲデキル'/ヨ'オ、シッカ'リ/チョ'オサ/_シテホシ'イデショオネ",
       "outputSamplingRate": 24000,
       "outputStereo": false,
       "pitchScale": 0,
       "postPhonemeLength": 0.1,
       "prePhonemeLength": 0.1,
       "speedScale": 1,
       "volumeScale": 1
      },
      "text/plain": [
       "<IPython.core.display.JSON object>"
      ]
     },
     "metadata": {
      "application/json": {
       "expanded": false,
       "root": "root"
      }
     },
     "output_type": "display_data"
    },
    {
     "name": "stdout",
     "output_type": "stream",
     "text": [
      "コンゲツジュウシチニチニヨテエサレテイタエイチサンロケットノショゴオキウチアゲガチュウシサレタイジョオニツイテジャクサワメインエンジンニデンリョクオキョオキュウスルロケットノイチダンメニアルキキデモンダイガハッセエシタトスルチョオサケッカオホオコクシマシタゲンインオキュウメエシタウエデライゲツトオカマデニフタタビウチアゲニノゾムホオシンダソオデスホオコクニヨレバメインエンジンノネンショオガハジマッタアトネンショオオチョオセエスルキキニデンリョクオキョオキュウスルブイイコンイチトヨバレルソオチノナイブデデンリュウトデンアツノネガゼロニナルイジョオガハッセエシテイタトイウコトデスホジョロケットオフクムキタイヤチジョオセツビノホカトオサイシテイルエエセエニワソンショオガナクフタタビウチアゲニムケテタイサクオコオジルトノコトデスミクノカンソオフタタビウチアゲガデキルヨオニタイサクオコオジルトイウノワヨイニュウスダネデモドンナタイサクオコオジルノカキニナルナアンゼンニウチアゲデキルヨオシッカリチョオサシテホシイデショオネ"
     ]
    }
   ],
   "source": [
    "play_speech(\"\"\"\n",
    "今月17日に予定されていたH3ロケットの初号機打ち上げが中止された異常について、JAXAはメインエンジンに電力を供給するロケットの1段目にある機器で問題が発生したとする調査結果を報告しました。\n",
    "原因を究明したうえで、来月10日までに再び打ち上げに臨む方針だそうです。報告によれば、メインエンジンの燃焼が始まったあと、燃焼を調整する機器に電力を供給する「VーCON1」と呼ばれる装置の\n",
    "内部で電流と電圧の値がゼロになる異常が発生していたということです。補助ロケットを含む機体や地上設備のほか、搭載している衛星には損傷がなく、再び打ち上げに向けて対策を講じるとのことです。\n",
    "ミクの感想：再び打ち上げができるように対策を講じるというのは、良いニュースだね！でも、どんな対策を講じるのか気になるな。安全に打ち上げできるよう、しっかり調査して欲しいでしょうね。\"\"\")"
   ]
  },
  {
   "cell_type": "code",
   "execution_count": 76,
   "id": "cbc885f4-f36c-419c-8146-13a1c0555ec2",
   "metadata": {},
   "outputs": [],
   "source": []
  },
  {
   "cell_type": "code",
   "execution_count": null,
   "id": "ee57bb94-d3bd-4472-aacc-ef3408090332",
   "metadata": {},
   "outputs": [],
   "source": []
  }
 ],
 "metadata": {
  "kernelspec": {
   "display_name": "Python [conda env:jupyter-kernel]",
   "language": "python",
   "name": "conda-env-jupyter-kernel-py"
  },
  "language_info": {
   "codemirror_mode": {
    "name": "ipython",
    "version": 3
   },
   "file_extension": ".py",
   "mimetype": "text/x-python",
   "name": "python",
   "nbconvert_exporter": "python",
   "pygments_lexer": "ipython3",
   "version": "3.9.9"
  }
 },
 "nbformat": 4,
 "nbformat_minor": 5
}
