{
 "cells": [
  {
   "cell_type": "code",
   "execution_count": 181,
   "id": "e6533522-95a0-4f0b-8eff-a889e73816ca",
   "metadata": {},
   "outputs": [],
   "source": [
    "#!pip install alkana\n",
    "#!conda install -y -c conda-forge mecab-python3\n",
    "#!pip install unidic\n",
    "#!python -m unidic download"
   ]
  },
  {
   "cell_type": "code",
   "execution_count": 2,
   "id": "0995a110-47fd-4ad0-b597-908f9cc8d536",
   "metadata": {},
   "outputs": [],
   "source": [
    "import requests\n",
    "import os, time, sys, subprocess\n",
    "import json\n",
    "from IPython.display import JSON"
   ]
  },
  {
   "cell_type": "code",
   "execution_count": 187,
   "id": "f1338926-2354-45b2-b920-169cc67f5713",
   "metadata": {},
   "outputs": [],
   "source": [
    "import MeCab\n",
    "import unidic\n",
    "import pandas as pd\n",
    "import alkana\n",
    "import re\n",
    "import os\n",
    "\n",
    "# ヘルパ関数：　アルファベットをカタカナに変更\n",
    "# https://qiita.com/kunishou/items/814e837cf504ce287a13\n",
    "\n",
    "def alpha_to_kana(text):\n",
    "    #半角英字判定\n",
    "    alphaReg = re.compile(r'^[a-zA-Z]+$')\n",
    "    def isalpha(s):\n",
    "        return alphaReg.match(s) is not None\n",
    "\n",
    "    sample_txt = text\n",
    "\n",
    "    wakati = MeCab.Tagger('-Owakati')\n",
    "    wakati_result = wakati.parse(sample_txt)\n",
    "    #print(wakati_result)\n",
    "\n",
    "    df = pd.DataFrame(wakati_result.split(\" \"),columns=[\"word\"])\n",
    "    df = df[df[\"word\"].str.isalpha() == True]\n",
    "    df[\"english_word\"] = df[\"word\"].apply(isalpha)\n",
    "    df = df[df[\"english_word\"] == True]\n",
    "    df[\"katakana\"] = df[\"word\"].apply(alkana.get_kana)\n",
    "\n",
    "    dict_rep = dict(zip(df[\"word\"], df[\"katakana\"]))\n",
    "\n",
    "    for word, read in dict_rep.items():\n",
    "        sample_txt = sample_txt.replace(word, read or \"\")\n",
    "    return sample_txt"
   ]
  },
  {
   "cell_type": "code",
   "execution_count": 202,
   "id": "ace1c327-31d1-4af9-961d-0b882328361b",
   "metadata": {},
   "outputs": [],
   "source": [
    "import socket, json, random, math\n",
    "vowel_map = {\n",
    "    \"a\": (0, 1),\n",
    "    \"i\": (0.25, 0.5),\n",
    "    \"e\": (0.5, 0.8),\n",
    "    \"o\": (0.75, 0.75),\n",
    "    \"u\": (1.0, 0.7)\n",
    "}\n",
    "consonant_map = {\n",
    "    \"k\": (0.25, 0.25),\n",
    "    \"s\": (0.5, 0.3),\n",
    "    \"t\": (0.5, 0.5),\n",
    "    \"n\": (0.5, 0.5),\n",
    "    \"h\": (None, 0.6),\n",
    "    \"m\": (None, 0),\n",
    "    \"y\": (0.75, 0.75),\n",
    "    \"w\": (0.75, 0.25),\n",
    "    \"N\": (0.5, 0)\n",
    "}\n",
    "\n",
    "def make_mouth_map(w):\n",
    "    mouth_map = {}\n",
    "    for map in [consonant_map, vowel_map]:\n",
    "        if w in map:\n",
    "            for i, var in enumerate((\"x\", \"y\")):\n",
    "                if map[w][i]:\n",
    "                    mouth_map[f\"mouth_{var}\"] = map[w][0]\n",
    "    return mouth_map\n",
    "\n",
    "def interpolate(action_map, absolute_time, name, start_time, end_time, src_value, dest_value, step = 0.01):\n",
    "    cur_time = start_time\n",
    "    while cur_time < end_time:\n",
    "        pos = (cur_time - start_time) / (end_time - start_time)\n",
    "        ratio = math.sin(math.pi / 2 * pos)\n",
    "        action_map.append((absolute_time + cur_time, \n",
    "                           absolute_time + cur_time + step, \n",
    "                           {name: src_value * (1 - ratio) + dest_value * ratio}))\n",
    "        cur_time += step\n",
    "\n",
    "def play_speech(text, speaker=1):\n",
    "    text = alpha_to_kana(text)\n",
    "    res1 = requests.post(\"http://localhost:50021/audio_query\", params={\"text\": text, \"speaker\": speaker})\n",
    "    data = res1.json()\n",
    "#    display(JSON(data))\n",
    "    wav_res = requests.post(\"http://localhost:50021/synthesis\", params={\"speaker\": speaker}, json=data)\n",
    "    wav_data = wav_res.content\n",
    "    \n",
    "    path = tempfile.gettempprefix()+\".wav\"\n",
    "    \n",
    "    with open(path, \"wb\") as f:\n",
    "        f.write(wav_data)\n",
    "\n",
    "    action_map = []\n",
    "    total_time = 0\n",
    "    start_time = time.time()\n",
    "    face_pitch = 0.5\n",
    "    for acc in data[\"accent_phrases\"]:\n",
    "        accent_start_time = total_time\n",
    "        for m in acc[\"moras\"]:\n",
    "            print(m[\"text\"],end=\"\")\n",
    "            c = m[\"consonant\"]\n",
    "            if c:\n",
    "                mouth_map = make_mouth_map(c)\n",
    "                next_time = total_time + m[\"consonant_length\"]\n",
    "                action_map.append((start_time + total_time, start_time + next_time, mouth_map))\n",
    "                total_time = next_time\n",
    "            v = m[\"vowel\"]\n",
    "            if v:\n",
    "                mouth_map = make_mouth_map(v)\n",
    "                next_time = total_time + m[\"vowel_length\"]\n",
    "                action_map.append((start_time + total_time, start_time + next_time, mouth_map))\n",
    "                total_time = next_time\n",
    "        accent_mid_time = total_time\n",
    "\n",
    "        dest_face_pitch = random.uniform(0.6, 0.8) if face_pitch >= 0.5 else random.uniform(0.2, 0.4)\n",
    "        interpolate(action_map, start_time, \"face_pitch\", accent_start_time, accent_mid_time, face_pitch, dest_face_pitch)\n",
    "        face_pitch = dest_face_pitch\n",
    "\n",
    "        if acc[\"pause_mora\"]:\n",
    "            next_time = total_time + acc[\"pause_mora\"][\"vowel_length\"]\n",
    "            action_map.append((start_time + total_time, start_time + next_time, None))\n",
    "            total_time = next_time\n",
    "\n",
    "            accent_end_time = total_time\n",
    "            dest_face_pitch = 0.5\n",
    "            interpolate(action_map, start_time, \"face_pitch\", accent_mid_time, accent_end_time, face_pitch, dest_face_pitch)\n",
    "            face_pitch = dest_face_pitch\n",
    "    if face_pitch != 0.5:\n",
    "        interpolate(action_map, time.time(), \"face_pitch\", 0, 1, face_pitch, 0.5)\n",
    "    \n",
    "    # 音声を鳴らす。今の所Linux限定。\n",
    "    p = subprocess.Popen([\"aplay\", \"-q\", path])\n",
    "\n",
    "    s = socket.socket(socket.AF_INET, socket.SOCK_STREAM)\n",
    "    s.connect((socket.gethostname(), 9998))\n",
    "    data = json.dumps(action_map).encode('utf-8')\n",
    "    s.send(len(data).to_bytes(4, 'big'))\n",
    "    s.send(data)\n",
    "    s.close()\n",
    "\n",
    "    p.wait()\n",
    "    os.remove(path)"
   ]
  },
  {
   "cell_type": "code",
   "execution_count": 204,
   "id": "d562c9a8-4d8f-4566-b00f-d23f7465ac5f",
   "metadata": {},
   "outputs": [
    {
     "name": "stdout",
     "output_type": "stream",
     "text": [
      "コレワオンセエハツワノテストナンデスヨ"
     ]
    }
   ],
   "source": [
    "play_speech(\"これは音声発話のテストなんですよ。\", 2)"
   ]
  },
  {
   "cell_type": "code",
   "execution_count": 205,
   "id": "23aa2509-017f-44bb-92c3-416cbdcf7d75",
   "metadata": {},
   "outputs": [
    {
     "name": "stdout",
     "output_type": "stream",
     "text": [
      "ギンプマイペイントヤジサクソフトナドオエカキソフトオツクルタメノギジュツヤコツオカイセツスルホンデスオエカキソフトオツクッテミタイデモドコカラテオツケタラヨイカワカラナイトイウヒトニオクルギョオカイハツノニュウモンショデス"
     ]
    }
   ],
   "source": [
    "play_speech(\"\"\"\n",
    "ギンプ、マイペイントや自作ソフトなど、お絵描きソフトをつくるための技術やコツを解説する本です。\n",
    "お絵描きソフトを作ってみたい、でもどこから手を付けたらよいかわからない、という人に送る、業界初の入門書です？\n",
    "\"\"\",\n",
    "1)"
   ]
  },
  {
   "cell_type": "code",
   "execution_count": 76,
   "id": "cbc885f4-f36c-419c-8146-13a1c0555ec2",
   "metadata": {},
   "outputs": [],
   "source": []
  },
  {
   "cell_type": "code",
   "execution_count": null,
   "id": "ee57bb94-d3bd-4472-aacc-ef3408090332",
   "metadata": {},
   "outputs": [],
   "source": []
  }
 ],
 "metadata": {
  "kernelspec": {
   "display_name": "Python [conda env:jupyter-kernel]",
   "language": "python",
   "name": "conda-env-jupyter-kernel-py"
  },
  "language_info": {
   "codemirror_mode": {
    "name": "ipython",
    "version": 3
   },
   "file_extension": ".py",
   "mimetype": "text/x-python",
   "name": "python",
   "nbconvert_exporter": "python",
   "pygments_lexer": "ipython3",
   "version": "3.9.9"
  }
 },
 "nbformat": 4,
 "nbformat_minor": 5
}
